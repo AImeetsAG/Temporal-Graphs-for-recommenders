{
 "cells": [
  {
   "cell_type": "markdown",
   "id": "361a5e68-c790-43ca-ab3d-9608e927e22c",
   "metadata": {},
   "source": [
    "# Downloading and preprocessing data"
   ]
  },
  {
   "cell_type": "markdown",
   "id": "679a6123-81c7-43ca-8d59-cc43185c0905",
   "metadata": {},
   "source": [
    "<a id='contents'></a>\n",
    "## Contents\n",
    "\n",
    "* [Introduction](#introduction)\n",
    "* [Setup](#setup)\n",
    "* [Downloading csv files](#downloading_csv)\n",
    "* [Reading csv files into dataframes and inspecting](#reading_csv)\n",
    "* [Edgelist data](#edgelist_data)\n",
    "    * [Sorting by increasing order of 'ts' (timestamp) column](#edgelist_preprocessing_sort_ts)\n",
    "\t* [Encoding users, genres, etc. using TGB function ```load_edgelist_datetime```](#edgelist_preprocessing_tgb_load_edgelist_datetime)\n",
    "\t* [Fixing text encoding mismatch 'rock en español' -> 'rock en espaÃ±ol' in labels_dict.](#edgelist_preprocessing_fix_rock_en_espanol)\t\n",
    "\t* [Converting datatypes and removing redundant columns to save memory](#edgelist_preprocessing_dtype_convert)\n",
    "\t* [Adding multiplicity column and removing duplicate records](#edgelist_preprocessing_duplicates)\n",
    "\t* [Renaming the columns, resetting the index, and saving to csv](#edgelist_preprocessing_reset_idx_save)\n",
    "\t* [Saving labels_dict and node_ids to csv](#edgelist_preprocessing_save_dict)\n",
    "* [Node labels data](#node_labels_preprocessing)\n",
    "\t* [Notwithstanding weights, there is overlap between node label data and edgelist data](#node_labels_overlap)\n",
    "\t* [Node label data is sorted by increasing timestamp](#node_labels_preprocessing_sort)\t\n",
    "\t* [Node label data contains no duplicate records](#node_labels_preprocessing_verify_no_duplicates)\n",
    "\t* [Node label user_ids are a proper subset of edgelist user_ids](#node_labels_preprocessing_verify_user_id)\n",
    "\t* [Node label genres are the same as edgelist genres](#node_labels_preprocessing_verify_genre)\n",
    "\t* [Mapping node label user_ids and genres using node_ids and labels_dict](#node_labels_preprocessing_mapping)\n",
    "\t* [Renaming and reordering node label dataframe columns, and saving to csv](#node_labels_preprocessing_renaming_columns)\n",
    "* [Daily labels and final genre list](#daily_labels)\n",
    "* [References](#references)"
   ]
  },
  {
   "cell_type": "markdown",
   "id": "9196b513-a9a8-4088-b59b-f2739000be5c",
   "metadata": {},
   "source": [
    "<a id='introduction'></a>\n",
    "## Introduction\n",
    "↑↑ [Contents](#contents) ↓ [Setup](#setup)"
   ]
  },
  {
   "cell_type": "markdown",
   "id": "cc45e10b-eb99-4c0f-894f-6e6faf62d5a7",
   "metadata": {},
   "source": [
    "From [[1, p. 7]](#H:2023):\n",
    ">```tgbn-genre``` This is a bipartite and weighted interaction network between users and the music genres of songs they listen to. Both users and music genres are represented as nodes while an interaction specifies a user listens to a music genre at a given time. The edge weights denote the percentage of which a song belongs to a certain genre. The dataset is constructed by cross-referencing the songs in the [LastFM-song-listens dataset](http://snap.stanford.edu/jodie/#datasets) [15, 24] with that of music genres in the [million-song dataset](#http://millionsongdataset.com/) [2]. The LastFM-song-listens dataset has one month of who-listens-to-which-song information for 1000 users and the million-song dataset provides genre weights for all songs in the [LastFM-song-listens dataset](http://snap.stanford.edu/jodie/#datasets). We only retained genres with at least 10% weights for each song that are repeated at least a thousand times in the dataset. Genre names are cleaned to remove typos. Here, the task is to predict how frequently each user will interact with music genres over the next week. This is applicable to many music recommendation systems where providing personalized recommendation is important and user preference shifts over time.\n",
    "\n",
    "> **References**\n",
    "\n",
    ">[2] Bertin-Mahieux, T., D. P. Ellis, B. Whitman, and P. Lamere. '[The million-song dataset](https://ismir2011.ismir.net/papers/OS6-1.pdf).' 2011.\n",
    "\n",
    ">[15] Hidasi, B. and D. Tikk. '[Fast ALS-based tensor factorization for context-aware recommendation from implicit feedback](https://doi.org/10.1007/978-3-642-33486-3_5).' In: Flach, P.A., T. De Bie, and N. Cristianini (eds) _Machine Learning and Knowledge Discovery in Databases_. ECML PKDD 2012. Lecture Notes in Computer Science, vol 7524. Springer, Berlin, Heidelberg. \n",
    "\n",
    ">[24] Kumar, S., X. Zhang, and J. Leskovec. '[Predicting dynamic embedding trajectory in temporal interaction networks](https://doi.org/10.1145/3292500.3330895).' In _Proceedings of the 25th ACM SIGKDD international conference on knowledge discovery & data mining_, pp. 1269–1278, 2019.\n"
   ]
  },
  {
   "cell_type": "markdown",
   "id": "779d3a52-7249-45a0-bfb0-6e1a82016f24",
   "metadata": {},
   "source": [
    "This will all be elucidated and explored in depth in our [EDA notebook](02-eda-tgbn-genre-dataset.ipynb). The purpose of the present notebook is merely to download the data, perform some very basic preprocessing, and save the processed data in our data directory for later use."
   ]
  },
  {
   "cell_type": "markdown",
   "id": "e01930ec-5159-4134-b093-3d674b089388",
   "metadata": {},
   "source": [
    "<a id='setup'></a>\n",
    "## Setup\n",
    "↑↑ [Contents](#contents) ↑ [Introduction](#introduction) ↓ [Downloading csv files](#downloading_csv)"
   ]
  },
  {
   "cell_type": "code",
   "execution_count": 1,
   "id": "2850cd73-26d5-42bf-aaf1-1508763631ae",
   "metadata": {},
   "outputs": [
    {
     "name": "stdout",
     "output_type": "stream",
     "text": [
      "\n",
      "===========================\n",
      "PROJECT DIRECTORY STRUCTURE\n",
      "===========================\n",
      "\n",
      "├─ Resources/\n",
      "├─ presentation/\n",
      "├─ notebooks/\n",
      "├─ scripts/\n",
      "│  ├─ tgb/\n",
      "│  │  ├─ linkproppred/\n",
      "│  │  ├─ nodeproppred/\n",
      "│  │  ├─ utils/\n",
      "│  │  ├─ datasets/\n",
      "│  │  │  ├─ dataset_scripts/\n",
      "├─ literature/\n",
      "├─ data/\n",
      "├─ models/\n",
      "\n",
      "\n",
      "==============================\n",
      "FIRST-LEVEL SUBDIRECTORY PATHS\n",
      "==============================\n",
      "\n",
      "path['Resources'] = F:\\projects\\temporal-graphs\\Resources\n",
      "path['presentation'] = F:\\projects\\temporal-graphs\\presentation\n",
      "path['notebooks'] = F:\\projects\\temporal-graphs\\notebooks\n",
      "path['scripts'] = F:\\projects\\temporal-graphs\\scripts\n",
      "path['literature'] = F:\\projects\\temporal-graphs\\literature\n",
      "path['data'] = F:\\projects\\temporal-graphs\\data\n",
      "path['models'] = F:\\projects\\temporal-graphs\\models\n",
      "\n",
      "=========\n",
      "TGB PATHS\n",
      "=========\n",
      "\n",
      "tgb_path['linkproppred'] = F:\\projects\\temporal-graphs\\scripts\\tgb\\linkproppred\n",
      "tgb_path['nodeproppred'] = F:\\projects\\temporal-graphs\\scripts\\tgb\\nodeproppred\n",
      "tgb_path['utils'] = F:\\projects\\temporal-graphs\\scripts\\tgb\\utils\n",
      "tgb_path['datasets'] = F:\\projects\\temporal-graphs\\scripts\\tgb\\datasets\n",
      "tgb_path['dataset_scripts'] = F:\\projects\\temporal-graphs\\scripts\\tgb\\datasets\\dataset_scripts\n"
     ]
    }
   ],
   "source": [
    "from pathlib import Path\n",
    "import os\n",
    "import sys\n",
    "\n",
    "# Determine the project root directory and add it to the Python path\n",
    "notebook_path = Path(os.getcwd()).resolve()  # Path to the current working directory\n",
    "project_root = notebook_path.parent          # Parent directory of notebooks, which is the project root\n",
    "\n",
    "# Add the project root directory to the Python path\n",
    "sys.path.append(str(project_root))\n",
    "\n",
    "# The setup module is project_root/scripts/prjct_setup.py\n",
    "from scripts.prjct_setup import *"
   ]
  },
  {
   "cell_type": "markdown",
   "id": "fbd53106-48f4-4d8a-b846-75b6d7c7abc4",
   "metadata": {},
   "source": [
    "<a id='downloading_csv'></a>\n",
    "## Downloading csv files (for the first time)\n",
    "↑↑ [Contents](#contents) ↑ [Setup](#setup) ↓ [Reading csv files into dataframes and inspecting](#reading_csv)"
   ]
  },
  {
   "cell_type": "markdown",
   "id": "99acb0ce-0c90-4e5c-8be6-12e77538bd16",
   "metadata": {},
   "source": [
    "```csv``` files containing containing records related to the ```tgbn-genre``` dataset can be obtained as follows. The [TGB package](https://github.com/shenyangHuang/TGB) [[2](#H_GH:2023)] can also download and process the data for us, but we opt to follow these steps.\n",
    "\n",
    "The data may move or change: the instructions and dataset properties described here reflect the state of the data as at May 23, 2024."
   ]
  },
  {
   "cell_type": "markdown",
   "id": "8bae98bd-1bc8-422f-a98e-51fe16f809ee",
   "metadata": {},
   "source": [
    "1. Point browser to [https://object-arbutus.cloud.computecanada.ca/tgb/](https://object-arbutus.cloud.computecanada.ca/tgb/)\n",
    "2. Search for the term ```genre```.\n",
    "3. Find ```<Key>tgbn-genre.zip</Key>```. Copy-paste ```tgbn-genre.zip``` at the end of the URL above. This will initiate the downloading of a zipped folder containing the two csv files below:\n",
    "    * ```tgbn-genre.zip``` -> ```tgbn-genre_edgelist.csv``` and ```tgbn-genre_node_labels.csv```.\n",
    "    We believe that these files contain what would be considered raw data for the purposes of this project. As we will see, the files in Step 5 are either duplicates or can be generated using TGB processing.\n",
    "5. Repeat similar for other keys containing the string ```genre```, which pertain to the ```tgbn-genre``` dataset:\n",
    "    * ```lastfmgenre.zip``` -> ```lastfmgenre_edgelist.csv```, ```lastfmgenre_node_labels.csv```\n",
    "    * ```lastfmgenre_raw.zip``` -> ```daily_labels.csv```, ```genre_list_final.csv```, ```lastfmgenre_edgelist.csv```, ```lastfmgenre_node_labels.csv```.\n",
    "    * ```lastfmgenre_processed.zip``` -> ```genre_list_final.csv```\n",
    "6. Unzip and move all csv files to the directory specified by ```path['data']``` (this project's data directory). We assume files with the same name are the same."
   ]
  },
  {
   "cell_type": "markdown",
   "id": "d4e3da04-553e-4978-9b79-fb6362fec59a",
   "metadata": {},
   "source": [
    "<a id='reading_csv'></a>\n",
    "## Reading csv files into dataframes and inspecting\n",
    "↑↑ [Contents](#contents) ↑ [Downloading csv files](#downloading_csv) ↓ [Edgelist data](#edgelist_data)"
   ]
  },
  {
   "cell_type": "markdown",
   "id": "553c9833-cedf-4daf-9da4-a5cb1ba4b0a5",
   "metadata": {},
   "source": [
    "We'll read the just-downloaded csv files into dataframes, which we'll store in a dictionary called ```df_```. The items of ```df_``` are of the form ```df_name : df```, where ```df_name.csv``` is a csv file and ```df``` is the corresponding dataframe."
   ]
  },
  {
   "cell_type": "code",
   "execution_count": 2,
   "id": "db6175bc-ccbd-41f1-88ad-40b49d58635b",
   "metadata": {},
   "outputs": [
    {
     "name": "stdout",
     "output_type": "stream",
     "text": [
      "Time taken to read tgbn-genre_edgelist.csv into dataframe: 8.84 seconds.\n",
      "Time taken to read lastfmgenre_edgelist.csv into dataframe: 8.91 seconds.\n",
      "Time taken to read tgbn-genre_node_labels.csv into dataframe: 1.47 seconds.\n",
      "Time taken to read lastfmgenre_node_labels.csv into dataframe: 1.46 seconds.\n",
      "Time taken to read daily_labels.csv into dataframe: 1.85 seconds.\n",
      "Time taken to read genre_list_final.csv into dataframe: 0.00 seconds.\n",
      "Total time taken: 22.53 seconds.\n"
     ]
    }
   ],
   "source": [
    "import time \n",
    "import pandas as pd\n",
    "\n",
    "csv_fnames = ['tgbn-genre_edgelist',             \n",
    "              'lastfmgenre_edgelist',\n",
    "              'tgbn-genre_node_labels',\n",
    "              'lastfmgenre_node_labels',\n",
    "              'daily_labels',\n",
    "              'genre_list_final',\n",
    "             ]\n",
    "\n",
    "df_ = {}\n",
    "\n",
    "tic = [time.time()]\n",
    "\n",
    "for fname in csv_fnames:\n",
    "    df_[fname] = pd.read_csv(path['data'].joinpath(fname + '.csv'))\n",
    "    tic.append(time.time())\n",
    "    print(f'Time taken to read {fname}.csv into dataframe: {tic[-1] - tic[-2]:.2f} seconds.')\n",
    "\n",
    "print(f'Total time taken: {tic[-1] - tic[0]:.2f} seconds.')"
   ]
  },
  {
   "cell_type": "markdown",
   "id": "c3ed6ff3-f01c-4dfb-8ceb-62fdd7dd3303",
   "metadata": {},
   "source": [
    "Let's inspect the first five rows of each of the dataframes we've just downloaded."
   ]
  },
  {
   "cell_type": "code",
   "execution_count": 3,
   "id": "d8f40d4d-f22e-43ee-9766-cd612190e53d",
   "metadata": {},
   "outputs": [
    {
     "name": "stdout",
     "output_type": "stream",
     "text": [
      "\n",
      "===================\n",
      "TGBN-GENRE_EDGELIST\n",
      "===================\n",
      "\n"
     ]
    },
    {
     "data": {
      "text/html": [
       "<div>\n",
       "<style scoped>\n",
       "    .dataframe tbody tr th:only-of-type {\n",
       "        vertical-align: middle;\n",
       "    }\n",
       "\n",
       "    .dataframe tbody tr th {\n",
       "        vertical-align: top;\n",
       "    }\n",
       "\n",
       "    .dataframe thead th {\n",
       "        text-align: right;\n",
       "    }\n",
       "</style>\n",
       "<table border=\"1\" class=\"dataframe\">\n",
       "  <thead>\n",
       "    <tr style=\"text-align: right;\">\n",
       "      <th></th>\n",
       "      <th>ts</th>\n",
       "      <th>user_id</th>\n",
       "      <th>genre</th>\n",
       "      <th>weight</th>\n",
       "    </tr>\n",
       "  </thead>\n",
       "  <tbody>\n",
       "    <tr>\n",
       "      <th>0</th>\n",
       "      <td>1108357203</td>\n",
       "      <td>user_000871</td>\n",
       "      <td>Rock Argentino</td>\n",
       "      <td>0.375000</td>\n",
       "    </tr>\n",
       "    <tr>\n",
       "      <th>1</th>\n",
       "      <td>1108357203</td>\n",
       "      <td>user_000871</td>\n",
       "      <td>Rock Argentino</td>\n",
       "      <td>0.375000</td>\n",
       "    </tr>\n",
       "    <tr>\n",
       "      <th>2</th>\n",
       "      <td>1108357264</td>\n",
       "      <td>user_000709</td>\n",
       "      <td>80s</td>\n",
       "      <td>0.452489</td>\n",
       "    </tr>\n",
       "    <tr>\n",
       "      <th>3</th>\n",
       "      <td>1108357264</td>\n",
       "      <td>user_000709</td>\n",
       "      <td>pop</td>\n",
       "      <td>0.289593</td>\n",
       "    </tr>\n",
       "    <tr>\n",
       "      <th>4</th>\n",
       "      <td>1108357264</td>\n",
       "      <td>user_000709</td>\n",
       "      <td>new wave</td>\n",
       "      <td>0.257919</td>\n",
       "    </tr>\n",
       "  </tbody>\n",
       "</table>\n",
       "</div>"
      ],
      "text/plain": [
       "           ts      user_id           genre    weight\n",
       "0  1108357203  user_000871  Rock Argentino  0.375000\n",
       "1  1108357203  user_000871  Rock Argentino  0.375000\n",
       "2  1108357264  user_000709             80s  0.452489\n",
       "3  1108357264  user_000709             pop  0.289593\n",
       "4  1108357264  user_000709        new wave  0.257919"
      ]
     },
     "metadata": {},
     "output_type": "display_data"
    },
    {
     "name": "stdout",
     "output_type": "stream",
     "text": [
      "\n",
      "====================\n",
      "LASTFMGENRE_EDGELIST\n",
      "====================\n",
      "\n"
     ]
    },
    {
     "data": {
      "text/html": [
       "<div>\n",
       "<style scoped>\n",
       "    .dataframe tbody tr th:only-of-type {\n",
       "        vertical-align: middle;\n",
       "    }\n",
       "\n",
       "    .dataframe tbody tr th {\n",
       "        vertical-align: top;\n",
       "    }\n",
       "\n",
       "    .dataframe thead th {\n",
       "        text-align: right;\n",
       "    }\n",
       "</style>\n",
       "<table border=\"1\" class=\"dataframe\">\n",
       "  <thead>\n",
       "    <tr style=\"text-align: right;\">\n",
       "      <th></th>\n",
       "      <th>ts</th>\n",
       "      <th>user_id</th>\n",
       "      <th>genre</th>\n",
       "      <th>weight</th>\n",
       "    </tr>\n",
       "  </thead>\n",
       "  <tbody>\n",
       "    <tr>\n",
       "      <th>0</th>\n",
       "      <td>1108357203</td>\n",
       "      <td>user_000871</td>\n",
       "      <td>Rock Argentino</td>\n",
       "      <td>0.375000</td>\n",
       "    </tr>\n",
       "    <tr>\n",
       "      <th>1</th>\n",
       "      <td>1108357203</td>\n",
       "      <td>user_000871</td>\n",
       "      <td>Rock Argentino</td>\n",
       "      <td>0.375000</td>\n",
       "    </tr>\n",
       "    <tr>\n",
       "      <th>2</th>\n",
       "      <td>1108357264</td>\n",
       "      <td>user_000709</td>\n",
       "      <td>80s</td>\n",
       "      <td>0.452489</td>\n",
       "    </tr>\n",
       "    <tr>\n",
       "      <th>3</th>\n",
       "      <td>1108357264</td>\n",
       "      <td>user_000709</td>\n",
       "      <td>pop</td>\n",
       "      <td>0.289593</td>\n",
       "    </tr>\n",
       "    <tr>\n",
       "      <th>4</th>\n",
       "      <td>1108357264</td>\n",
       "      <td>user_000709</td>\n",
       "      <td>new wave</td>\n",
       "      <td>0.257919</td>\n",
       "    </tr>\n",
       "  </tbody>\n",
       "</table>\n",
       "</div>"
      ],
      "text/plain": [
       "           ts      user_id           genre    weight\n",
       "0  1108357203  user_000871  Rock Argentino  0.375000\n",
       "1  1108357203  user_000871  Rock Argentino  0.375000\n",
       "2  1108357264  user_000709             80s  0.452489\n",
       "3  1108357264  user_000709             pop  0.289593\n",
       "4  1108357264  user_000709        new wave  0.257919"
      ]
     },
     "metadata": {},
     "output_type": "display_data"
    },
    {
     "name": "stdout",
     "output_type": "stream",
     "text": [
      "\n",
      "======================\n",
      "TGBN-GENRE_NODE_LABELS\n",
      "======================\n",
      "\n"
     ]
    },
    {
     "data": {
      "text/html": [
       "<div>\n",
       "<style scoped>\n",
       "    .dataframe tbody tr th:only-of-type {\n",
       "        vertical-align: middle;\n",
       "    }\n",
       "\n",
       "    .dataframe tbody tr th {\n",
       "        vertical-align: top;\n",
       "    }\n",
       "\n",
       "    .dataframe thead th {\n",
       "        text-align: right;\n",
       "    }\n",
       "</style>\n",
       "<table border=\"1\" class=\"dataframe\">\n",
       "  <thead>\n",
       "    <tr style=\"text-align: right;\">\n",
       "      <th></th>\n",
       "      <th>ts</th>\n",
       "      <th>user_id</th>\n",
       "      <th>genre</th>\n",
       "      <th>weight</th>\n",
       "    </tr>\n",
       "  </thead>\n",
       "  <tbody>\n",
       "    <tr>\n",
       "      <th>0</th>\n",
       "      <td>1108443600</td>\n",
       "      <td>user_000054</td>\n",
       "      <td>chillout</td>\n",
       "      <td>0.015835</td>\n",
       "    </tr>\n",
       "    <tr>\n",
       "      <th>1</th>\n",
       "      <td>1108443600</td>\n",
       "      <td>user_000054</td>\n",
       "      <td>female vocalist</td>\n",
       "      <td>0.015330</td>\n",
       "    </tr>\n",
       "    <tr>\n",
       "      <th>2</th>\n",
       "      <td>1108443600</td>\n",
       "      <td>user_000054</td>\n",
       "      <td>downtempo</td>\n",
       "      <td>0.008128</td>\n",
       "    </tr>\n",
       "    <tr>\n",
       "      <th>3</th>\n",
       "      <td>1108443600</td>\n",
       "      <td>user_000054</td>\n",
       "      <td>electronic</td>\n",
       "      <td>0.072162</td>\n",
       "    </tr>\n",
       "    <tr>\n",
       "      <th>4</th>\n",
       "      <td>1108443600</td>\n",
       "      <td>user_000054</td>\n",
       "      <td>reggae</td>\n",
       "      <td>0.021465</td>\n",
       "    </tr>\n",
       "  </tbody>\n",
       "</table>\n",
       "</div>"
      ],
      "text/plain": [
       "           ts      user_id            genre    weight\n",
       "0  1108443600  user_000054         chillout  0.015835\n",
       "1  1108443600  user_000054  female vocalist  0.015330\n",
       "2  1108443600  user_000054        downtempo  0.008128\n",
       "3  1108443600  user_000054       electronic  0.072162\n",
       "4  1108443600  user_000054           reggae  0.021465"
      ]
     },
     "metadata": {},
     "output_type": "display_data"
    },
    {
     "name": "stdout",
     "output_type": "stream",
     "text": [
      "\n",
      "=======================\n",
      "LASTFMGENRE_NODE_LABELS\n",
      "=======================\n",
      "\n"
     ]
    },
    {
     "data": {
      "text/html": [
       "<div>\n",
       "<style scoped>\n",
       "    .dataframe tbody tr th:only-of-type {\n",
       "        vertical-align: middle;\n",
       "    }\n",
       "\n",
       "    .dataframe tbody tr th {\n",
       "        vertical-align: top;\n",
       "    }\n",
       "\n",
       "    .dataframe thead th {\n",
       "        text-align: right;\n",
       "    }\n",
       "</style>\n",
       "<table border=\"1\" class=\"dataframe\">\n",
       "  <thead>\n",
       "    <tr style=\"text-align: right;\">\n",
       "      <th></th>\n",
       "      <th>ts</th>\n",
       "      <th>user_id</th>\n",
       "      <th>genre</th>\n",
       "      <th>weight</th>\n",
       "    </tr>\n",
       "  </thead>\n",
       "  <tbody>\n",
       "    <tr>\n",
       "      <th>0</th>\n",
       "      <td>1108443600</td>\n",
       "      <td>user_000054</td>\n",
       "      <td>chillout</td>\n",
       "      <td>0.015835</td>\n",
       "    </tr>\n",
       "    <tr>\n",
       "      <th>1</th>\n",
       "      <td>1108443600</td>\n",
       "      <td>user_000054</td>\n",
       "      <td>female vocalist</td>\n",
       "      <td>0.015330</td>\n",
       "    </tr>\n",
       "    <tr>\n",
       "      <th>2</th>\n",
       "      <td>1108443600</td>\n",
       "      <td>user_000054</td>\n",
       "      <td>downtempo</td>\n",
       "      <td>0.008128</td>\n",
       "    </tr>\n",
       "    <tr>\n",
       "      <th>3</th>\n",
       "      <td>1108443600</td>\n",
       "      <td>user_000054</td>\n",
       "      <td>electronic</td>\n",
       "      <td>0.072162</td>\n",
       "    </tr>\n",
       "    <tr>\n",
       "      <th>4</th>\n",
       "      <td>1108443600</td>\n",
       "      <td>user_000054</td>\n",
       "      <td>reggae</td>\n",
       "      <td>0.021465</td>\n",
       "    </tr>\n",
       "  </tbody>\n",
       "</table>\n",
       "</div>"
      ],
      "text/plain": [
       "           ts      user_id            genre    weight\n",
       "0  1108443600  user_000054         chillout  0.015835\n",
       "1  1108443600  user_000054  female vocalist  0.015330\n",
       "2  1108443600  user_000054        downtempo  0.008128\n",
       "3  1108443600  user_000054       electronic  0.072162\n",
       "4  1108443600  user_000054           reggae  0.021465"
      ]
     },
     "metadata": {},
     "output_type": "display_data"
    },
    {
     "name": "stdout",
     "output_type": "stream",
     "text": [
      "\n",
      "============\n",
      "DAILY_LABELS\n",
      "============\n",
      "\n"
     ]
    },
    {
     "data": {
      "text/html": [
       "<div>\n",
       "<style scoped>\n",
       "    .dataframe tbody tr th:only-of-type {\n",
       "        vertical-align: middle;\n",
       "    }\n",
       "\n",
       "    .dataframe tbody tr th {\n",
       "        vertical-align: top;\n",
       "    }\n",
       "\n",
       "    .dataframe thead th {\n",
       "        text-align: right;\n",
       "    }\n",
       "</style>\n",
       "<table border=\"1\" class=\"dataframe\">\n",
       "  <thead>\n",
       "    <tr style=\"text-align: right;\">\n",
       "      <th></th>\n",
       "      <th>user_id</th>\n",
       "      <th>year</th>\n",
       "      <th>month</th>\n",
       "      <th>day</th>\n",
       "      <th>genre</th>\n",
       "      <th>weight</th>\n",
       "    </tr>\n",
       "  </thead>\n",
       "  <tbody>\n",
       "    <tr>\n",
       "      <th>0</th>\n",
       "      <td>user_000001</td>\n",
       "      <td>2006</td>\n",
       "      <td>8</td>\n",
       "      <td>15</td>\n",
       "      <td>electronic</td>\n",
       "      <td>1.172941</td>\n",
       "    </tr>\n",
       "    <tr>\n",
       "      <th>1</th>\n",
       "      <td>user_000001</td>\n",
       "      <td>2006</td>\n",
       "      <td>8</td>\n",
       "      <td>15</td>\n",
       "      <td>alternative</td>\n",
       "      <td>0.468085</td>\n",
       "    </tr>\n",
       "    <tr>\n",
       "      <th>2</th>\n",
       "      <td>user_000001</td>\n",
       "      <td>2006</td>\n",
       "      <td>8</td>\n",
       "      <td>15</td>\n",
       "      <td>chillout</td>\n",
       "      <td>0.358974</td>\n",
       "    </tr>\n",
       "    <tr>\n",
       "      <th>3</th>\n",
       "      <td>user_000001</td>\n",
       "      <td>2006</td>\n",
       "      <td>8</td>\n",
       "      <td>15</td>\n",
       "      <td>math rock</td>\n",
       "      <td>1.000000</td>\n",
       "    </tr>\n",
       "    <tr>\n",
       "      <th>4</th>\n",
       "      <td>user_000001</td>\n",
       "      <td>2006</td>\n",
       "      <td>8</td>\n",
       "      <td>16</td>\n",
       "      <td>acid jazz</td>\n",
       "      <td>0.354610</td>\n",
       "    </tr>\n",
       "  </tbody>\n",
       "</table>\n",
       "</div>"
      ],
      "text/plain": [
       "       user_id  year  month  day        genre    weight\n",
       "0  user_000001  2006      8   15   electronic  1.172941\n",
       "1  user_000001  2006      8   15  alternative  0.468085\n",
       "2  user_000001  2006      8   15     chillout  0.358974\n",
       "3  user_000001  2006      8   15    math rock  1.000000\n",
       "4  user_000001  2006      8   16    acid jazz  0.354610"
      ]
     },
     "metadata": {},
     "output_type": "display_data"
    },
    {
     "name": "stdout",
     "output_type": "stream",
     "text": [
      "\n",
      "================\n",
      "GENRE_LIST_FINAL\n",
      "================\n",
      "\n"
     ]
    },
    {
     "data": {
      "text/html": [
       "<div>\n",
       "<style scoped>\n",
       "    .dataframe tbody tr th:only-of-type {\n",
       "        vertical-align: middle;\n",
       "    }\n",
       "\n",
       "    .dataframe tbody tr th {\n",
       "        vertical-align: top;\n",
       "    }\n",
       "\n",
       "    .dataframe thead th {\n",
       "        text-align: right;\n",
       "    }\n",
       "</style>\n",
       "<table border=\"1\" class=\"dataframe\">\n",
       "  <thead>\n",
       "    <tr style=\"text-align: right;\">\n",
       "      <th></th>\n",
       "      <th>genre</th>\n",
       "    </tr>\n",
       "  </thead>\n",
       "  <tbody>\n",
       "    <tr>\n",
       "      <th>electronic</th>\n",
       "      <td>743529</td>\n",
       "    </tr>\n",
       "    <tr>\n",
       "      <th>alternative</th>\n",
       "      <td>862812</td>\n",
       "    </tr>\n",
       "    <tr>\n",
       "      <th>chillout</th>\n",
       "      <td>187629</td>\n",
       "    </tr>\n",
       "    <tr>\n",
       "      <th>math rock</th>\n",
       "      <td>6559</td>\n",
       "    </tr>\n",
       "    <tr>\n",
       "      <th>electronica</th>\n",
       "      <td>54289</td>\n",
       "    </tr>\n",
       "  </tbody>\n",
       "</table>\n",
       "</div>"
      ],
      "text/plain": [
       "              genre\n",
       "electronic   743529\n",
       "alternative  862812\n",
       "chillout     187629\n",
       "math rock      6559\n",
       "electronica   54289"
      ]
     },
     "metadata": {},
     "output_type": "display_data"
    }
   ],
   "source": [
    "for fname in csv_fnames:\n",
    "    print_header(fname)\n",
    "    display(df_[fname].head())"
   ]
  },
  {
   "cell_type": "markdown",
   "id": "d0c241a5-5e60-4cba-8c0b-262fc7e8f3bb",
   "metadata": {},
   "source": [
    "It seems like the ```lastfm``` dataframes are copies of others, so before going any further let us verify this. Instead of removing them from memory, we'll actually keep them and apply some basic pre-processing steps to them: we want to preserve the original ```df_['tgbn-genre_edgelist']``` and ```df_['tgbn-genre_node_labels']```. However, we'll create a new reference to the ```lastfm``` dataframes, so that it's clear that we'll think of them as processed versions of the 'original' edgelist and node label dataframes."
   ]
  },
  {
   "cell_type": "code",
   "execution_count": 5,
   "id": "f598143f-1c49-4820-b2d5-db112a898017",
   "metadata": {},
   "outputs": [
    {
     "name": "stdout",
     "output_type": "stream",
     "text": [
      "lastfmgenre_edgelist.csv is identical to tgbn-genre_edgelist.csv.\n",
      "lastfmgenre_node_labels.csv is identical to tgbn-genre_node_labels.csv.\n"
     ]
    }
   ],
   "source": [
    "for suffix in ['_edgelist', '_node_labels']:\n",
    "    df_name = 'tgbn-genre' + suffix\n",
    "    df = df_[df_name]\n",
    "    df_[df_name + '_processed'] = df_['lastfmgenre' + suffix]\n",
    "    if all(df_[df_name + '_processed'] == df):\n",
    "        print(f'lastfmgenre{suffix}.csv is identical to tgbn-genre{suffix}.csv.')\n",
    "    else:\n",
    "        print(f'lastfmgenre{suffix}.csv is not identical to tgbn-genre{suffix}.csv.')"
   ]
  },
  {
   "cell_type": "markdown",
   "id": "2f27a8e4-2116-45bb-b4b5-e1f2e3889775",
   "metadata": {},
   "source": [
    "<a id='edgelist_data'></a>\n",
    "## Edgelist data\n",
    "↑↑ [Contents](#contents) ↑ [Reading csv files into dataframes and inspecting](#reading_csv) ↓ [Sorting by increasing order of 'ts' (timestamp) column](#edgelist_preprocessing_sort_ts)"
   ]
  },
  {
   "cell_type": "markdown",
   "id": "73871093-d01c-4a56-9a61-f9d31387ee2b",
   "metadata": {},
   "source": [
    "We will now look a bit more closely at the remaining dataframes, and pre-process them. We start with the edgelist data, i.e. ```df_['tgbn-genre_edgelist']```, which we read from ```tgbn-genre_edgelist.csv```. Recall that we now have a reference ```df_['tgbn-genre_edgelist_processed']``` to an exact copy if this dataframe: we will modify this copy, but never the original."
   ]
  },
  {
   "cell_type": "markdown",
   "id": "04fb3b4e-a7c7-4bb1-8104-c5b9b94569d1",
   "metadata": {},
   "source": [
    "<a id='edgelist_preprocessing_sort_ts'></a>\n",
    "### Sorting by increasing order of 'ts' (timestamp) column\n",
    "↑↑ [Contents](#contents) ↑ [Edgelist data](#edgelist_data) ↓ [Encoding users, genres, etc. using TGB function](#edgelist_preprocessing_tgb_load_edgelist_datetime)\n",
    "\n",
    "In the 'ts' columns, the values are [Unix timestamps](https://www.unixtimestamp.com/), i.e. number of non-leap seconds since the start of the 'Unix epoch' (January 1, 1970, 00:00:00 UTC). The original edgelist dataframe, and hence the one we'll process, turn out to **nont** be sorted by increasing timestamp. They 'almost' are, in the sense that there are several runs of consecutive records that are sorted chronologically. We will sort the processed dataframe. Perhaps the original edgelist csv data is supposed to be completely sorted, with the discrepancies due to some kind of batching in its creation. Regardless, we will not modify the original edgelist dataframe in any way."
   ]
  },
  {
   "cell_type": "code",
   "execution_count": 6,
   "id": "f24c6a4c-5092-46be-82c0-b6f2cf364aad",
   "metadata": {},
   "outputs": [
    {
     "name": "stdout",
     "output_type": "stream",
     "text": [
      "df_['tgbn-genre_edgelist_processed'] is not sorted by ts column (increasing).\n",
      "Indices where ts[i] < ts[i - 1]: 74517, 1709056, 5694923, 10575592, 16591333.\n",
      "\n"
     ]
    }
   ],
   "source": [
    "df_name = 'tgbn-genre_edgelist_processed'\n",
    "df = df_[df_name]\n",
    "col = 'ts'\n",
    "        \n",
    "if df[col].is_monotonic_increasing:\n",
    "    print(f'df_[\\'{df_name}\\'] is already sorted by {col} column (increasing).\\n')\n",
    "else:\n",
    "    print(f'df_[\\'{df_name}\\'] is not sorted by {col} column (increasing).')\n",
    "    \n",
    "    condition = df[col] < df[col].shift(1)\n",
    "    indices = condition[condition].index\n",
    "    \n",
    "    print(f'Indices where {col}[i] < {col}[i - 1]:', end = ' ')\n",
    "    for i, index in enumerate(indices):\n",
    "        if i < len(indices) - 1:\n",
    "            print(index, end = ', ')\n",
    "        else:\n",
    "            print(index, end = '.\\n')\n",
    "    print('')"
   ]
  },
  {
   "cell_type": "code",
   "execution_count": 7,
   "id": "229b838d-e629-4a31-88df-e28fac12d24f",
   "metadata": {},
   "outputs": [
    {
     "name": "stdout",
     "output_type": "stream",
     "text": [
      "Now sorting df_['tgbn-genre_edgelist_processed'] by increasing ts values...\n",
      "Done sorting. Time taken: 1.35 seconds.\n"
     ]
    }
   ],
   "source": [
    "df_name = 'tgbn-genre_edgelist_processed'\n",
    "df = df_[df_name]\n",
    "col = 'ts'\n",
    "\n",
    "print(f'Now sorting df_[\\'{df_name}\\'] by increasing {col} values...')\n",
    "\n",
    "tic = time.time()\n",
    "\n",
    "df.sort_values(by = col, inplace=True)\n",
    "\n",
    "toc = time.time()\n",
    "\n",
    "print(f'Done sorting. Time taken: {toc - tic:.2f} seconds.')"
   ]
  },
  {
   "cell_type": "markdown",
   "id": "c2ad4469-9acd-4fab-b61e-86ba72137db2",
   "metadata": {},
   "source": [
    "<a id='edgelist_preprocessing_tgb_load_edgelist_datetime'></a>\n",
    "### Encoding users, genres, etc. using TGB function ```load_edgelist_datetime```\n",
    "↑↑ [Contents](#contents) ↑ [Sorting by increasing order of 'ts' (timestamp) column](#edgelist_preprocessing_sort_ts) ↓ [Fixing text encoding mismatch 'rock en español' -> 'rock en espaÃ±ol' in labels_dict.](#edgelist_preprocessing_fix_rock_en_espanol)\n",
    "\n",
    "From the TGB module ```tgb_genre.py``` (under ```/scripts/tgb/datasets/dataset_scripts/```, also see it on [TGB's GitHub](https://github.com/shenyangHuang/TGB/blob/main/tgb/datasets/dataset_scripts/tgbn-genre.py) [[3]](#H_GH:tgbn_genre_py)), we import the function ```load_edgelist_datetime```, and apply it to our edgelist dataframe ```df_['tgbn-genre_edgelist_processed']``` (or to be precise, a csv file equivalent). Among other things, this will create dictionaries that map ```user_id``` and ```genre``` to integers, and apply the mappings to create a new dataframe, which we will call ```processed_df``` for now."
   ]
  },
  {
   "cell_type": "code",
   "execution_count": 18,
   "id": "34e04902-7d54-40a4-b5c9-aa7bf00bf638",
   "metadata": {},
   "outputs": [
    {
     "name": "stdout",
     "output_type": "stream",
     "text": [
      "Saving df_tgbn-genre_edgelist_processed to csv file tgbn-genre_edgelist_processed.csv in data directory.\n",
      "This file will be overwritten later with final verion of processed data.\n",
      "Time taken: 392.48 seconds.\n"
     ]
    }
   ],
   "source": [
    "df_name = 'tgbn-genre_edgelist_processed'\n",
    "df = df_[df_name]\n",
    "\n",
    "print(f'Saving df_{df_name} to csv file {df_name}.csv in data directory.')\n",
    "print('This file will be overwritten later with final verion of processed data.')\n",
    "\n",
    "tic = time.time()\n",
    "\n",
    "df.to_csv(path['data'].joinpath(df_name + '.csv'), index = False)\n",
    "\n",
    "toc = time.time()\n",
    "print(f'Time taken: {toc - tic:.2f} seconds.')"
   ]
  },
  {
   "cell_type": "code",
   "execution_count": 19,
   "id": "6ec10bf8-2db1-4bce-bea8-2ddd59bdb2fa",
   "metadata": {},
   "outputs": [],
   "source": [
    "# Our setup added all subdirectories of scripts to sys.path, so we can simply do\n",
    "from pre_process import load_edgelist_datetime"
   ]
  },
  {
   "cell_type": "code",
   "execution_count": 75,
   "id": "053b4f4e-8e13-4401-a6b5-9d30e37e67ea",
   "metadata": {},
   "outputs": [
    {
     "name": "stdout",
     "output_type": "stream",
     "text": [
      "number of lines counted 17858395\n"
     ]
    },
    {
     "name": "stderr",
     "output_type": "stream",
     "text": [
      "17858396it [01:12, 244725.01it/s]\n"
     ]
    }
   ],
   "source": [
    "# We can inspect the TGB code to see how to use the function.\n",
    "# It is presumed that a string will be passed to the fname argument.\n",
    "# No type hint is given and it works just as well with a Path object.\n",
    "df_name = 'tgbn-genre_edgelist_processed'\n",
    "fname = path['data'].joinpath(df_name + '.csv')\n",
    "df_[df_name], edge_feat, node_ids, labels_dict = load_edgelist_datetime(fname)"
   ]
  },
  {
   "cell_type": "markdown",
   "id": "7dcd5e54-5fa6-41a8-851a-323a0bdcb124",
   "metadata": {},
   "source": [
    "So far, we have taken a copy of ```df_['tgbn-genre_edgelist']```, which we're calling ```df_['tgbn-genre_edgelist_processed']```, sorted this copy by increasing timestamp, saved it to a csv file, and applied the ```load_edgelist_datetime``` function to this csv, creating a new dataframe. We're now using ```df_['tgbn-genre_edgelist_processed']``` to reference this new dataframe. \n",
    "\n",
    "Let's take a look at the original and the current version of the processed dataframe."
   ]
  },
  {
   "cell_type": "code",
   "execution_count": 76,
   "id": "0c6ee5b7-a33b-455d-9a68-c0194a78e913",
   "metadata": {},
   "outputs": [
    {
     "name": "stdout",
     "output_type": "stream",
     "text": [
      "\n",
      "===========================\n",
      "ORIGINAL EDGELIST DATAFRAME\n",
      "===========================\n",
      "\n"
     ]
    },
    {
     "data": {
      "text/html": [
       "<div>\n",
       "<style scoped>\n",
       "    .dataframe tbody tr th:only-of-type {\n",
       "        vertical-align: middle;\n",
       "    }\n",
       "\n",
       "    .dataframe tbody tr th {\n",
       "        vertical-align: top;\n",
       "    }\n",
       "\n",
       "    .dataframe thead th {\n",
       "        text-align: right;\n",
       "    }\n",
       "</style>\n",
       "<table border=\"1\" class=\"dataframe\">\n",
       "  <thead>\n",
       "    <tr style=\"text-align: right;\">\n",
       "      <th></th>\n",
       "      <th>ts</th>\n",
       "      <th>user_id</th>\n",
       "      <th>genre</th>\n",
       "      <th>weight</th>\n",
       "    </tr>\n",
       "  </thead>\n",
       "  <tbody>\n",
       "    <tr>\n",
       "      <th>0</th>\n",
       "      <td>1108357203</td>\n",
       "      <td>user_000871</td>\n",
       "      <td>Rock Argentino</td>\n",
       "      <td>0.375000</td>\n",
       "    </tr>\n",
       "    <tr>\n",
       "      <th>1</th>\n",
       "      <td>1108357203</td>\n",
       "      <td>user_000871</td>\n",
       "      <td>Rock Argentino</td>\n",
       "      <td>0.375000</td>\n",
       "    </tr>\n",
       "    <tr>\n",
       "      <th>2</th>\n",
       "      <td>1108357264</td>\n",
       "      <td>user_000709</td>\n",
       "      <td>80s</td>\n",
       "      <td>0.452489</td>\n",
       "    </tr>\n",
       "    <tr>\n",
       "      <th>3</th>\n",
       "      <td>1108357264</td>\n",
       "      <td>user_000709</td>\n",
       "      <td>pop</td>\n",
       "      <td>0.289593</td>\n",
       "    </tr>\n",
       "    <tr>\n",
       "      <th>4</th>\n",
       "      <td>1108357264</td>\n",
       "      <td>user_000709</td>\n",
       "      <td>new wave</td>\n",
       "      <td>0.257919</td>\n",
       "    </tr>\n",
       "  </tbody>\n",
       "</table>\n",
       "</div>"
      ],
      "text/plain": [
       "           ts      user_id           genre    weight\n",
       "0  1108357203  user_000871  Rock Argentino  0.375000\n",
       "1  1108357203  user_000871  Rock Argentino  0.375000\n",
       "2  1108357264  user_000709             80s  0.452489\n",
       "3  1108357264  user_000709             pop  0.289593\n",
       "4  1108357264  user_000709        new wave  0.257919"
      ]
     },
     "metadata": {},
     "output_type": "display_data"
    },
    {
     "name": "stdout",
     "output_type": "stream",
     "text": [
      "\n",
      "============================\n",
      "PROCESSED EDGELIST DATAFRAME\n",
      "============================\n",
      "\n"
     ]
    },
    {
     "data": {
      "text/html": [
       "<div>\n",
       "<style scoped>\n",
       "    .dataframe tbody tr th:only-of-type {\n",
       "        vertical-align: middle;\n",
       "    }\n",
       "\n",
       "    .dataframe tbody tr th {\n",
       "        vertical-align: top;\n",
       "    }\n",
       "\n",
       "    .dataframe thead th {\n",
       "        text-align: right;\n",
       "    }\n",
       "</style>\n",
       "<table border=\"1\" class=\"dataframe\">\n",
       "  <thead>\n",
       "    <tr style=\"text-align: right;\">\n",
       "      <th></th>\n",
       "      <th>u</th>\n",
       "      <th>i</th>\n",
       "      <th>ts</th>\n",
       "      <th>idx</th>\n",
       "      <th>w</th>\n",
       "    </tr>\n",
       "  </thead>\n",
       "  <tbody>\n",
       "    <tr>\n",
       "      <th>0</th>\n",
       "      <td>514.0</td>\n",
       "      <td>0.0</td>\n",
       "      <td>1.108357e+09</td>\n",
       "      <td>1.0</td>\n",
       "      <td>0.375000</td>\n",
       "    </tr>\n",
       "    <tr>\n",
       "      <th>1</th>\n",
       "      <td>514.0</td>\n",
       "      <td>0.0</td>\n",
       "      <td>1.108357e+09</td>\n",
       "      <td>2.0</td>\n",
       "      <td>0.375000</td>\n",
       "    </tr>\n",
       "    <tr>\n",
       "      <th>2</th>\n",
       "      <td>515.0</td>\n",
       "      <td>1.0</td>\n",
       "      <td>1.108357e+09</td>\n",
       "      <td>3.0</td>\n",
       "      <td>0.452489</td>\n",
       "    </tr>\n",
       "    <tr>\n",
       "      <th>3</th>\n",
       "      <td>515.0</td>\n",
       "      <td>2.0</td>\n",
       "      <td>1.108357e+09</td>\n",
       "      <td>4.0</td>\n",
       "      <td>0.289593</td>\n",
       "    </tr>\n",
       "    <tr>\n",
       "      <th>4</th>\n",
       "      <td>515.0</td>\n",
       "      <td>3.0</td>\n",
       "      <td>1.108357e+09</td>\n",
       "      <td>5.0</td>\n",
       "      <td>0.257919</td>\n",
       "    </tr>\n",
       "  </tbody>\n",
       "</table>\n",
       "</div>"
      ],
      "text/plain": [
       "       u    i            ts  idx         w\n",
       "0  514.0  0.0  1.108357e+09  1.0  0.375000\n",
       "1  514.0  0.0  1.108357e+09  2.0  0.375000\n",
       "2  515.0  1.0  1.108357e+09  3.0  0.452489\n",
       "3  515.0  2.0  1.108357e+09  4.0  0.289593\n",
       "4  515.0  3.0  1.108357e+09  5.0  0.257919"
      ]
     },
     "metadata": {},
     "output_type": "display_data"
    }
   ],
   "source": [
    "df_original_name = 'tgbn-genre_edgelist'\n",
    "df_original = df_[df_original_name]\n",
    "df_processed_name = 'tgbn-genre_edgelist_processed'\n",
    "df_processed = df_[df_processed_name]\n",
    "\n",
    "print_header('Original edgelist dataframe')\n",
    "display(df_original.head())\n",
    "\n",
    "print_header('Processed edgelist dataframe')\n",
    "display(df_processed.head())"
   ]
  },
  {
   "cell_type": "markdown",
   "id": "99be4890-e329-434a-96e9-b54ebb4026a5",
   "metadata": {},
   "source": [
    "From inspecting the code, we see that the first value in the 'genre' column is mapped to 0, then the next new value is mapped to 1, and so on. There are 513 distinct genres, so the last new genre in that column is mapped to 512. Perhaps to leave open the option of 1-based indexing of the 'user_id' column, 513 is skipped, and then the first value in the 'user_id' column is mapped to 513, the next new value to 514, and so on. There are 992 distinct user_ids, so the last new user_id in that column is mapped to 514 + 992 - 1 = 1505."
   ]
  },
  {
   "cell_type": "markdown",
   "id": "676959f6-4e96-4771-9766-33a381f5538e",
   "metadata": {},
   "source": [
    "Let us subtract one from every value in the 'u' column of the processed dataframe, so that the genre codes go from 0 to 512 inclusive, and the user ID codes go from 513 to 1504 inclusive."
   ]
  },
  {
   "cell_type": "code",
   "execution_count": 77,
   "id": "b1722474-fbd1-4544-91ce-0d54d71caf80",
   "metadata": {},
   "outputs": [],
   "source": [
    "df_name = 'tgbn-genre_edgelist_processed'\n",
    "df = df_[df_name]\n",
    "\n",
    "df['u'] = df['u'] - 1"
   ]
  },
  {
   "cell_type": "markdown",
   "id": "a6db134b-2e7a-4250-a3e2-33817d279f6c",
   "metadata": {},
   "source": [
    "We'll have to apply the same map to the values of ```node_ids```, which we'll discuss presently."
   ]
  },
  {
   "cell_type": "code",
   "execution_count": 78,
   "id": "768d8c66-41ba-404f-a5d1-2848c53b4c37",
   "metadata": {},
   "outputs": [],
   "source": [
    "node_ids = {user_id : code - 1 for user_id, code in node_ids.items()}"
   ]
  },
  {
   "cell_type": "markdown",
   "id": "91706afe-7a54-4fec-964e-4dfb4cc4c3fe",
   "metadata": {},
   "source": [
    "We can see the 'genre' correspondence by inspecting the ```labels_dict``` dictionary, and the 'user_id' correspondence by inspecting the ```node_ids``` dictionary."
   ]
  },
  {
   "cell_type": "code",
   "execution_count": 79,
   "id": "2133a37d-b3be-44b3-9ff3-6288a07d634a",
   "metadata": {},
   "outputs": [
    {
     "name": "stdout",
     "output_type": "stream",
     "text": [
      "\n",
      "===========\n",
      "GENRE CODES\n",
      "===========\n",
      "\n"
     ]
    },
    {
     "data": {
      "text/html": [
       "<div>\n",
       "<style scoped>\n",
       "    .dataframe tbody tr th:only-of-type {\n",
       "        vertical-align: middle;\n",
       "    }\n",
       "\n",
       "    .dataframe tbody tr th {\n",
       "        vertical-align: top;\n",
       "    }\n",
       "\n",
       "    .dataframe thead th {\n",
       "        text-align: right;\n",
       "    }\n",
       "</style>\n",
       "<table border=\"1\" class=\"dataframe\">\n",
       "  <thead>\n",
       "    <tr style=\"text-align: right;\">\n",
       "      <th></th>\n",
       "      <th>genre</th>\n",
       "      <th>genre_code</th>\n",
       "    </tr>\n",
       "  </thead>\n",
       "  <tbody>\n",
       "    <tr>\n",
       "      <th>0</th>\n",
       "      <td>Rock Argentino</td>\n",
       "      <td>0</td>\n",
       "    </tr>\n",
       "    <tr>\n",
       "      <th>1</th>\n",
       "      <td>80s</td>\n",
       "      <td>1</td>\n",
       "    </tr>\n",
       "    <tr>\n",
       "      <th>2</th>\n",
       "      <td>pop</td>\n",
       "      <td>2</td>\n",
       "    </tr>\n",
       "    <tr>\n",
       "      <th>3</th>\n",
       "      <td>new wave</td>\n",
       "      <td>3</td>\n",
       "    </tr>\n",
       "    <tr>\n",
       "      <th>4</th>\n",
       "      <td>rock</td>\n",
       "      <td>4</td>\n",
       "    </tr>\n",
       "    <tr>\n",
       "      <th>...</th>\n",
       "      <td>...</td>\n",
       "      <td>...</td>\n",
       "    </tr>\n",
       "    <tr>\n",
       "      <th>508</th>\n",
       "      <td>Jordin Sparks</td>\n",
       "      <td>508</td>\n",
       "    </tr>\n",
       "    <tr>\n",
       "      <th>509</th>\n",
       "      <td>duffy</td>\n",
       "      <td>509</td>\n",
       "    </tr>\n",
       "    <tr>\n",
       "      <th>510</th>\n",
       "      <td>Gabriella Cilmi</td>\n",
       "      <td>510</td>\n",
       "    </tr>\n",
       "    <tr>\n",
       "      <th>511</th>\n",
       "      <td>Lady Gaga</td>\n",
       "      <td>511</td>\n",
       "    </tr>\n",
       "    <tr>\n",
       "      <th>512</th>\n",
       "      <td>jazmine sullivan</td>\n",
       "      <td>512</td>\n",
       "    </tr>\n",
       "  </tbody>\n",
       "</table>\n",
       "<p>513 rows × 2 columns</p>\n",
       "</div>"
      ],
      "text/plain": [
       "                genre  genre_code\n",
       "0      Rock Argentino           0\n",
       "1                 80s           1\n",
       "2                 pop           2\n",
       "3            new wave           3\n",
       "4                rock           4\n",
       "..                ...         ...\n",
       "508     Jordin Sparks         508\n",
       "509             duffy         509\n",
       "510   Gabriella Cilmi         510\n",
       "511         Lady Gaga         511\n",
       "512  jazmine sullivan         512\n",
       "\n",
       "[513 rows x 2 columns]"
      ]
     },
     "metadata": {},
     "output_type": "display_data"
    },
    {
     "name": "stdout",
     "output_type": "stream",
     "text": [
      "\n",
      "=============\n",
      "USER_ID CODES\n",
      "=============\n",
      "\n"
     ]
    },
    {
     "data": {
      "text/html": [
       "<div>\n",
       "<style scoped>\n",
       "    .dataframe tbody tr th:only-of-type {\n",
       "        vertical-align: middle;\n",
       "    }\n",
       "\n",
       "    .dataframe tbody tr th {\n",
       "        vertical-align: top;\n",
       "    }\n",
       "\n",
       "    .dataframe thead th {\n",
       "        text-align: right;\n",
       "    }\n",
       "</style>\n",
       "<table border=\"1\" class=\"dataframe\">\n",
       "  <thead>\n",
       "    <tr style=\"text-align: right;\">\n",
       "      <th></th>\n",
       "      <th>user_id</th>\n",
       "      <th>user_id_code</th>\n",
       "    </tr>\n",
       "  </thead>\n",
       "  <tbody>\n",
       "    <tr>\n",
       "      <th>0</th>\n",
       "      <td>user_000871</td>\n",
       "      <td>513</td>\n",
       "    </tr>\n",
       "    <tr>\n",
       "      <th>1</th>\n",
       "      <td>user_000709</td>\n",
       "      <td>514</td>\n",
       "    </tr>\n",
       "    <tr>\n",
       "      <th>2</th>\n",
       "      <td>user_000285</td>\n",
       "      <td>515</td>\n",
       "    </tr>\n",
       "    <tr>\n",
       "      <th>3</th>\n",
       "      <td>user_000525</td>\n",
       "      <td>516</td>\n",
       "    </tr>\n",
       "    <tr>\n",
       "      <th>4</th>\n",
       "      <td>user_000966</td>\n",
       "      <td>517</td>\n",
       "    </tr>\n",
       "    <tr>\n",
       "      <th>...</th>\n",
       "      <td>...</td>\n",
       "      <td>...</td>\n",
       "    </tr>\n",
       "    <tr>\n",
       "      <th>987</th>\n",
       "      <td>user_000098</td>\n",
       "      <td>1500</td>\n",
       "    </tr>\n",
       "    <tr>\n",
       "      <th>988</th>\n",
       "      <td>user_000186</td>\n",
       "      <td>1501</td>\n",
       "    </tr>\n",
       "    <tr>\n",
       "      <th>989</th>\n",
       "      <td>user_000533</td>\n",
       "      <td>1502</td>\n",
       "    </tr>\n",
       "    <tr>\n",
       "      <th>990</th>\n",
       "      <td>user_000538</td>\n",
       "      <td>1503</td>\n",
       "    </tr>\n",
       "    <tr>\n",
       "      <th>991</th>\n",
       "      <td>user_000547</td>\n",
       "      <td>1504</td>\n",
       "    </tr>\n",
       "  </tbody>\n",
       "</table>\n",
       "<p>992 rows × 2 columns</p>\n",
       "</div>"
      ],
      "text/plain": [
       "         user_id  user_id_code\n",
       "0    user_000871           513\n",
       "1    user_000709           514\n",
       "2    user_000285           515\n",
       "3    user_000525           516\n",
       "4    user_000966           517\n",
       "..           ...           ...\n",
       "987  user_000098          1500\n",
       "988  user_000186          1501\n",
       "989  user_000533          1502\n",
       "990  user_000538          1503\n",
       "991  user_000547          1504\n",
       "\n",
       "[992 rows x 2 columns]"
      ]
     },
     "metadata": {},
     "output_type": "display_data"
    }
   ],
   "source": [
    "labels_dict_df = pd.DataFrame(list(labels_dict.items()), columns=['genre', 'genre_code'])\n",
    "node_ids_df = pd.DataFrame(list(node_ids.items()), columns=['user_id', 'user_id_code'])\n",
    "\n",
    "print_header('Genre codes')\n",
    "display(labels_dict_df)\n",
    "\n",
    "print_header('user_id codes')\n",
    "display(node_ids_df)"
   ]
  },
  {
   "cell_type": "markdown",
   "id": "3b8abf2d-8215-4bc0-bd24-d2e78dbb10e0",
   "metadata": {},
   "source": [
    "The ```edge_feat``` variable stores a ```numpy``` array: it corresponds precisely to the 'w' column of ```df_['tgbn-genre_edgelist_processed']```, which in turn is just a reordering of the 'weight' column of the original ```df_['tgbn-genre_edgelist']``` (we sorted by timestamp before applying the ```load_edgelist_datetime``` function). We verify all of this now."
   ]
  },
  {
   "cell_type": "code",
   "execution_count": 80,
   "id": "d661ff3f-5c84-4933-80e4-fad366dd061d",
   "metadata": {},
   "outputs": [
    {
     "data": {
      "text/plain": [
       "array([[0.375     ],\n",
       "       [0.375     ],\n",
       "       [0.45248869],\n",
       "       ...,\n",
       "       [0.54945055],\n",
       "       [0.54945055],\n",
       "       [0.45054945]])"
      ]
     },
     "execution_count": 80,
     "metadata": {},
     "output_type": "execute_result"
    }
   ],
   "source": [
    "edge_feat"
   ]
  },
  {
   "cell_type": "markdown",
   "id": "efe8dd80-d56d-47b1-b3ae-a1c40eefb545",
   "metadata": {},
   "source": [
    "Recall that ```df_['tgbn-genre_edgelist']``` is not sorted by increasing timestamp, while ```df_['tgbn-genre_edgelist_processed']``` is, and we sorted it before applying the ```load_edgelist_datetime``` function to it. Thus, in order to check that the difference between the original 'weight' column and the current 'w' are the same up to order (and some negligible floating point errors), we need a sorted version of the 'weight' column of the original dataframe."
   ]
  },
  {
   "cell_type": "code",
   "execution_count": 81,
   "id": "7e0bdfd9-b84b-4ab0-8129-d6dc5f6a3c73",
   "metadata": {},
   "outputs": [],
   "source": [
    "df_original_name = 'tgbn-genre_edgelist'\n",
    "df_original_weight = df_[df_original_name][['ts','weight']].copy(deep=True)\n",
    "df_original_weight.sort_values(by = 'ts', inplace=True)\n",
    "df_original_weight = df_original_weight['weight']"
   ]
  },
  {
   "cell_type": "code",
   "execution_count": 82,
   "id": "0f06ee7f-038d-49aa-b33b-000145319c53",
   "metadata": {},
   "outputs": [
    {
     "name": "stdout",
     "output_type": "stream",
     "text": [
      "edge_feat corresponds exactly to df_['tgbn-genre_edgelist_processed']['w']: True.\n",
      "edge_feat corresponds exactly to (sorted) df_['tgbn-genre_edgelist']['weight']: True.\n",
      "Sum absolute error between (sorted) original and processed weights: 0.0.\n"
     ]
    }
   ],
   "source": [
    "import numpy as np\n",
    "\n",
    "df_processed_name = 'tgbn-genre_edgelist_processed'\n",
    "df_processed = df_[df_processed_name]\n",
    "\n",
    "print(f'edge_feat corresponds exactly to df_[\\'tgbn-genre_edgelist_processed\\'][\\'w\\']: {all(edge_feat.reshape(-1) == df_processed['w'].values)}.')\n",
    "print(f'edge_feat corresponds exactly to (sorted) df_[\\'tgbn-genre_edgelist\\'][\\'weight\\']: {all(edge_feat.reshape(-1) == df_original_weight.values)}.')\n",
    "\n",
    "error = np.sum(np.abs(df_original_weight - df_processed['w'].values))\n",
    "print(f'Sum absolute error between (sorted) original and processed weights: {error}.')"
   ]
  },
  {
   "cell_type": "markdown",
   "id": "1dc25fdf-7471-4942-b8c4-2c9242a42b8b",
   "metadata": {},
   "source": [
    "<a id='edgelist_preprocessing_fix_rock_en_espanol'></a>\n",
    "### Fixing text encoding mismatch 'rock en español' -> 'rock en espaÃ±ol' in labels_dict\n",
    "↑↑ [Contents](#contents) ↑ [Encoding users, genres, etc. using TGB function](#edgelist_preprocessing_tgb_load_edgelist_datetime) ↓ [Sorting by increasing order of 'ts' (timestamp) column](#edgelist_preprocessing_sort_ts)\n",
    "\n",
    "Further down, during processing of node labels data, we noticed some null values in the ```genre``` column after applying the map given by ```labels_dict```. We discovered that this is due to ```'rock en español'``` in ```df_['tgbn-genre_edgelist_processed']``` becoming ```'rock en espaÃ±ol'``` in ```labels_dict```. We fix this now, and re-do the saving to csv file below (if this is the first run through the notebook)."
   ]
  },
  {
   "cell_type": "code",
   "execution_count": 83,
   "id": "ad3d41a8-5b59-4c54-a78e-ce67e7831ea1",
   "metadata": {},
   "outputs": [
    {
     "name": "stdout",
     "output_type": "stream",
     "text": [
      "True\n",
      "False\n",
      "False\n",
      "67\n"
     ]
    }
   ],
   "source": [
    "df_original_name = 'tgbn-genre_edgelist'\n",
    "df_original = df_[df_original_name]\n",
    "\n",
    "print('rock en español' in set(df_original['genre']))\n",
    "print('rock en español' in labels_dict)\n",
    "print('rock en espaÃ±ol' in set(df_original['genre']))\n",
    "print(labels_dict['rock en espaÃ±ol'])"
   ]
  },
  {
   "cell_type": "code",
   "execution_count": 84,
   "id": "293e9825-2ce0-4aa6-a800-306baf809def",
   "metadata": {},
   "outputs": [],
   "source": [
    "labels_dict['rock en español'] = labels_dict.pop('rock en espaÃ±ol')"
   ]
  },
  {
   "cell_type": "code",
   "execution_count": 85,
   "id": "e9e5eb24-141c-45ad-ad61-62bb6731b353",
   "metadata": {},
   "outputs": [],
   "source": [
    "labels_dict_df['genre'] = labels_dict_df['genre'].replace('rock en espaÃ±ol', 'rock en español')"
   ]
  },
  {
   "cell_type": "code",
   "execution_count": 86,
   "id": "c0917db2-d659-4ed0-89ec-a428a6b6ab83",
   "metadata": {},
   "outputs": [
    {
     "data": {
      "text/plain": [
       "67"
      ]
     },
     "execution_count": 86,
     "metadata": {},
     "output_type": "execute_result"
    }
   ],
   "source": [
    "labels_dict['rock en español']"
   ]
  },
  {
   "cell_type": "code",
   "execution_count": 87,
   "id": "a78c3f30-4830-4eb4-8983-b6b805b828b4",
   "metadata": {},
   "outputs": [
    {
     "data": {
      "text/html": [
       "<div>\n",
       "<style scoped>\n",
       "    .dataframe tbody tr th:only-of-type {\n",
       "        vertical-align: middle;\n",
       "    }\n",
       "\n",
       "    .dataframe tbody tr th {\n",
       "        vertical-align: top;\n",
       "    }\n",
       "\n",
       "    .dataframe thead th {\n",
       "        text-align: right;\n",
       "    }\n",
       "</style>\n",
       "<table border=\"1\" class=\"dataframe\">\n",
       "  <thead>\n",
       "    <tr style=\"text-align: right;\">\n",
       "      <th></th>\n",
       "      <th>genre</th>\n",
       "      <th>genre_code</th>\n",
       "    </tr>\n",
       "  </thead>\n",
       "  <tbody>\n",
       "    <tr>\n",
       "      <th>67</th>\n",
       "      <td>rock en español</td>\n",
       "      <td>67</td>\n",
       "    </tr>\n",
       "  </tbody>\n",
       "</table>\n",
       "</div>"
      ],
      "text/plain": [
       "              genre  genre_code\n",
       "67  rock en español          67"
      ]
     },
     "execution_count": 87,
     "metadata": {},
     "output_type": "execute_result"
    }
   ],
   "source": [
    "labels_dict_df[labels_dict_df['genre'] == 'rock en español']"
   ]
  },
  {
   "cell_type": "markdown",
   "id": "3638e940-d5c8-498a-9409-23c98135aec6",
   "metadata": {},
   "source": [
    "<a id='edgelist_preprocessing_dtype_convert'></a>\n",
    "### Converting datatypes and removing redundant columns to save memory\n",
    "↑↑ [Contents](#contents) ↑ [Sorting by increasing order of 'ts' (timestamp) column](#edgelist_preprocessing_sort_ts) ↓ [Adding multiplicity column and removing duplicate records](#edgelist_preprocessing_duplicates)\n",
    "\n",
    "Every column in ```df['tgbn-genre_edgelist_processed']``` has ```float64``` ```dtype```, but outside the weight ('w') column, all values are integers. Also, notice that the 'idx' column is simply an index column (it's the index shifted by one). After verifying these claims, we convert datatypes and drop the 'idx' column, saving about 340 MB of memory."
   ]
  },
  {
   "cell_type": "code",
   "execution_count": 88,
   "id": "5ca4b569-3ebe-4c01-939d-8eaf31065856",
   "metadata": {
    "scrolled": true
   },
   "outputs": [
    {
     "name": "stdout",
     "output_type": "stream",
     "text": [
      "<class 'pandas.core.frame.DataFrame'>\n",
      "RangeIndex: 17858395 entries, 0 to 17858394\n",
      "Data columns (total 5 columns):\n",
      " #   Column  Dtype  \n",
      "---  ------  -----  \n",
      " 0   u       float64\n",
      " 1   i       float64\n",
      " 2   ts      float64\n",
      " 3   idx     float64\n",
      " 4   w       float64\n",
      "dtypes: float64(5)\n",
      "memory usage: 681.2 MB\n"
     ]
    }
   ],
   "source": [
    "df_name = 'tgbn-genre_edgelist_processed'\n",
    "df = df_[df_name]\n",
    "\n",
    "df.info()"
   ]
  },
  {
   "cell_type": "code",
   "execution_count": 89,
   "id": "a73a0795-2e7a-4ca0-be1c-5325e1898c1c",
   "metadata": {},
   "outputs": [
    {
     "name": "stdout",
     "output_type": "stream",
     "text": [
      "In df['tgbn-genre_edgelist_processed'], all values in u column are integers.\n",
      "In df['tgbn-genre_edgelist_processed'], all values in i column are integers.\n",
      "In df['tgbn-genre_edgelist_processed'], all values in ts column are integers.\n",
      "In df['tgbn-genre_edgelist_processed'], every value in idx is equal to its row index plus one.\n",
      "Time taken: 14.21 seconds.\n"
     ]
    }
   ],
   "source": [
    "df_name = 'tgbn-genre_edgelist_processed'\n",
    "df = df_[df_name]\n",
    "\n",
    "tic = time.time()\n",
    "\n",
    "for col in ['u', 'i', 'ts']:\n",
    "    all_integers = df[col].apply(lambda x: x.is_integer()).all()\n",
    "    if all_integers:\n",
    "        print(f'In df[\\'tgbn-genre_edgelist_processed\\'], all values in {col} column are integers.')\n",
    "    else:\n",
    "        print(f'In df[\\'tgbn-genre_edgelist_processed\\'], not all values in {col} column are integers.')\n",
    "\n",
    "for col in ['idx']:\n",
    "    all_equal = (df[col] == df.index + 1).all()\n",
    "    if all_equal:\n",
    "        print(f'In df[\\'tgbn-genre_edgelist_processed\\'], every value in {col} is equal to its row index plus one.')\n",
    "    else:\n",
    "        print(f'In df[\\'tgbn-genre_edgelist_processed\\'], not every value in {col} is equal to its row index plus one.')\n",
    "\n",
    "toc = time.time()\n",
    "\n",
    "print(f'Time taken: {toc - tic:.2f} seconds.')"
   ]
  },
  {
   "cell_type": "code",
   "execution_count": 90,
   "id": "025b540c-1fda-49c8-a8e5-7716c52103f5",
   "metadata": {},
   "outputs": [
    {
     "name": "stdout",
     "output_type": "stream",
     "text": [
      "Converting dtype of u column to int.\n",
      "Converting dtype of i column to int.\n",
      "Converting dtype of ts column to int.\n",
      "Dropping idx column.\n",
      "Time taken: 0.47 seconds.\n"
     ]
    }
   ],
   "source": [
    "df_name = 'tgbn-genre_edgelist_processed'\n",
    "df = df_[df_name]\n",
    "\n",
    "tic = time.time()\n",
    "\n",
    "for col in ['u', 'i','ts']:\n",
    "    print(f'Converting dtype of {col} column to int.')\n",
    "    df[col] = df[col].astype(int)\n",
    "\n",
    "for col in ['idx']:\n",
    "    print(f'Dropping {col} column.')\n",
    "    df.drop(col, axis=1, inplace=True)\n",
    "    \n",
    "toc = time.time()\n",
    "\n",
    "print(f'Time taken: {toc - tic:.2f} seconds.')"
   ]
  },
  {
   "cell_type": "code",
   "execution_count": 91,
   "id": "87581113-4054-4f5b-83fd-c78b54b46cce",
   "metadata": {},
   "outputs": [
    {
     "name": "stdout",
     "output_type": "stream",
     "text": [
      "<class 'pandas.core.frame.DataFrame'>\n",
      "RangeIndex: 17858395 entries, 0 to 17858394\n",
      "Data columns (total 4 columns):\n",
      " #   Column  Dtype  \n",
      "---  ------  -----  \n",
      " 0   u       int32  \n",
      " 1   i       int32  \n",
      " 2   ts      int32  \n",
      " 3   w       float64\n",
      "dtypes: float64(1), int32(3)\n",
      "memory usage: 340.6 MB\n"
     ]
    }
   ],
   "source": [
    "df_name = 'tgbn-genre_edgelist_processed'\n",
    "df = df_[df_name]\n",
    "\n",
    "df.info()"
   ]
  },
  {
   "cell_type": "markdown",
   "id": "f96e902a-44e1-47c9-b9a7-9db4f510d89a",
   "metadata": {},
   "source": [
    "<a id='edgelist_preprocessing_duplicates'></a>\n",
    "### Adding multiplicity column and removing duplicate records \n",
    "↑↑ [Contents](#contents) ↑ [Converting datatypes and removing redundant columns to save memory](#edgelist_preprocessing_dtype_convert) ↓ [Renaming the columns, resetting the index, and saving to csv](#edgelist_preprocessing_reset_idx_save)\n",
    "\n",
    "We notice that, after removing the 'idx' column, which was simply a 1-based index column, ```df['tgbn-genre_edgelist_processed']``` contains duplicate records. We're not sure if this is intentional, so while we'll remove duplicate records, we'll keep track of the number of copies of each record by adding a 'multiplicity' column. This saves a further 76 MB of memory.\n",
    "\n",
    "Could the duplicate records be an artifact of the [way the dataset is constructed](#introduction), namely, by cross-referencing the songs in the [LastFM-song-listens dataset](http://snap.stanford.edu/jodie/#datasets) with that of music genres in the [million-song dataset](#http://millionsongdataset.com/), and the fact that the million-song dataset contains duplicates (various versions of songs, etc.)? We do not know, and perhaps it doesn't matter too much because of [the way the data is aggregated](#node_labels_preprocessing) in the node labels dataset. See the [EDA notebook](02-eda-tgbn-genre-dataset.ipynb) for further discussion."
   ]
  },
  {
   "cell_type": "code",
   "execution_count": 92,
   "id": "3a04549b-92d5-4a60-8866-f1e14e24827b",
   "metadata": {},
   "outputs": [
    {
     "data": {
      "text/html": [
       "<div>\n",
       "<style scoped>\n",
       "    .dataframe tbody tr th:only-of-type {\n",
       "        vertical-align: middle;\n",
       "    }\n",
       "\n",
       "    .dataframe tbody tr th {\n",
       "        vertical-align: top;\n",
       "    }\n",
       "\n",
       "    .dataframe thead th {\n",
       "        text-align: right;\n",
       "    }\n",
       "</style>\n",
       "<table border=\"1\" class=\"dataframe\">\n",
       "  <thead>\n",
       "    <tr style=\"text-align: right;\">\n",
       "      <th></th>\n",
       "      <th>u</th>\n",
       "      <th>i</th>\n",
       "      <th>ts</th>\n",
       "      <th>w</th>\n",
       "    </tr>\n",
       "  </thead>\n",
       "  <tbody>\n",
       "    <tr>\n",
       "      <th>0</th>\n",
       "      <td>513</td>\n",
       "      <td>0</td>\n",
       "      <td>1108357203</td>\n",
       "      <td>0.375</td>\n",
       "    </tr>\n",
       "    <tr>\n",
       "      <th>1</th>\n",
       "      <td>513</td>\n",
       "      <td>0</td>\n",
       "      <td>1108357203</td>\n",
       "      <td>0.375</td>\n",
       "    </tr>\n",
       "  </tbody>\n",
       "</table>\n",
       "</div>"
      ],
      "text/plain": [
       "     u  i          ts      w\n",
       "0  513  0  1108357203  0.375\n",
       "1  513  0  1108357203  0.375"
      ]
     },
     "execution_count": 92,
     "metadata": {},
     "output_type": "execute_result"
    }
   ],
   "source": [
    "df_name = 'tgbn-genre_edgelist_processed'\n",
    "df = df_[df_name]\n",
    "\n",
    "df.head(2)"
   ]
  },
  {
   "cell_type": "code",
   "execution_count": 93,
   "id": "6eb69768-c747-4b3f-a6be-864c60ece043",
   "metadata": {},
   "outputs": [
    {
     "name": "stdout",
     "output_type": "stream",
     "text": [
      "Adding multiplicity column to df['tgbn-genre_edgelist_processed'].\n",
      "Time taken: 8.18 seconds.\n"
     ]
    }
   ],
   "source": [
    "df_name = 'tgbn-genre_edgelist_processed'\n",
    "df = df_[df_name]\n",
    "\n",
    "print(f'Adding multiplicity column to df[\\'tgbn-genre_edgelist_processed\\'].')\n",
    "\n",
    "tic = time.time()\n",
    "\n",
    "df['multiplicity'] = df.groupby(df.columns.tolist()).transform('size')\n",
    "\n",
    "toc = time.time()\n",
    "print(f'Time taken: {toc - tic:.2f} seconds.')"
   ]
  },
  {
   "cell_type": "code",
   "execution_count": 94,
   "id": "e522f55c-b915-455a-b7b8-9644421e3773",
   "metadata": {},
   "outputs": [
    {
     "data": {
      "text/html": [
       "<div>\n",
       "<style scoped>\n",
       "    .dataframe tbody tr th:only-of-type {\n",
       "        vertical-align: middle;\n",
       "    }\n",
       "\n",
       "    .dataframe tbody tr th {\n",
       "        vertical-align: top;\n",
       "    }\n",
       "\n",
       "    .dataframe thead th {\n",
       "        text-align: right;\n",
       "    }\n",
       "</style>\n",
       "<table border=\"1\" class=\"dataframe\">\n",
       "  <thead>\n",
       "    <tr style=\"text-align: right;\">\n",
       "      <th></th>\n",
       "      <th>u</th>\n",
       "      <th>i</th>\n",
       "      <th>ts</th>\n",
       "      <th>w</th>\n",
       "      <th>multiplicity</th>\n",
       "    </tr>\n",
       "  </thead>\n",
       "  <tbody>\n",
       "    <tr>\n",
       "      <th>0</th>\n",
       "      <td>513</td>\n",
       "      <td>0</td>\n",
       "      <td>1108357203</td>\n",
       "      <td>0.375000</td>\n",
       "      <td>2</td>\n",
       "    </tr>\n",
       "    <tr>\n",
       "      <th>1</th>\n",
       "      <td>513</td>\n",
       "      <td>0</td>\n",
       "      <td>1108357203</td>\n",
       "      <td>0.375000</td>\n",
       "      <td>2</td>\n",
       "    </tr>\n",
       "    <tr>\n",
       "      <th>2</th>\n",
       "      <td>514</td>\n",
       "      <td>1</td>\n",
       "      <td>1108357264</td>\n",
       "      <td>0.452489</td>\n",
       "      <td>1</td>\n",
       "    </tr>\n",
       "    <tr>\n",
       "      <th>3</th>\n",
       "      <td>514</td>\n",
       "      <td>2</td>\n",
       "      <td>1108357264</td>\n",
       "      <td>0.289593</td>\n",
       "      <td>1</td>\n",
       "    </tr>\n",
       "    <tr>\n",
       "      <th>4</th>\n",
       "      <td>514</td>\n",
       "      <td>3</td>\n",
       "      <td>1108357264</td>\n",
       "      <td>0.257919</td>\n",
       "      <td>1</td>\n",
       "    </tr>\n",
       "  </tbody>\n",
       "</table>\n",
       "</div>"
      ],
      "text/plain": [
       "     u  i          ts         w  multiplicity\n",
       "0  513  0  1108357203  0.375000             2\n",
       "1  513  0  1108357203  0.375000             2\n",
       "2  514  1  1108357264  0.452489             1\n",
       "3  514  2  1108357264  0.289593             1\n",
       "4  514  3  1108357264  0.257919             1"
      ]
     },
     "execution_count": 94,
     "metadata": {},
     "output_type": "execute_result"
    }
   ],
   "source": [
    "df_name = 'tgbn-genre_edgelist_processed'\n",
    "df = df_[df_name]\n",
    "\n",
    "df.head()"
   ]
  },
  {
   "cell_type": "code",
   "execution_count": 95,
   "id": "509cf6e5-115b-432b-945f-13f170a30b5f",
   "metadata": {},
   "outputs": [
    {
     "name": "stdout",
     "output_type": "stream",
     "text": [
      "Dropping duplicate records from df_['tgbn-genre_edgelist_processed'].\n",
      "Time taken: 3.95 seconds.\n"
     ]
    }
   ],
   "source": [
    "print(f'Dropping duplicate records from df_[\\'tgbn-genre_edgelist_processed\\'].')\n",
    "\n",
    "tic = time.time()\n",
    "\n",
    "'''\n",
    "Careful! df.drop_duplicates creates a new DataFrame without duplicates and assigns it back to df. \n",
    "If df is a reference to df_[...], this does not modify df_[...] because df is now pointing to a new DataFrame, while df_[...] remains unchanged.\n",
    "Trying to use inplace=True will throw a warning 'A value is trying to be set on a copy of a slice from a DataFrame'...\n",
    "'''\n",
    "df_['tgbn-genre_edgelist_processed'] = df_['tgbn-genre_edgelist_processed'].drop_duplicates(keep='first')\n",
    "toc = time.time()\n",
    "print(f'Time taken: {toc - tic:.2f} seconds.')"
   ]
  },
  {
   "cell_type": "code",
   "execution_count": 96,
   "id": "84f4207f-b89a-4fb4-a7b1-15f452334220",
   "metadata": {},
   "outputs": [
    {
     "name": "stdout",
     "output_type": "stream",
     "text": [
      "<class 'pandas.core.frame.DataFrame'>\n",
      "Index: 11630360 entries, 0 to 17858392\n",
      "Data columns (total 5 columns):\n",
      " #   Column        Dtype  \n",
      "---  ------        -----  \n",
      " 0   u             int32  \n",
      " 1   i             int32  \n",
      " 2   ts            int32  \n",
      " 3   w             float64\n",
      " 4   multiplicity  int64  \n",
      "dtypes: float64(1), int32(3), int64(1)\n",
      "memory usage: 399.3 MB\n"
     ]
    }
   ],
   "source": [
    "df_name = 'tgbn-genre_edgelist_processed'\n",
    "df = df_[df_name]\n",
    "\n",
    "df.info()"
   ]
  },
  {
   "cell_type": "markdown",
   "id": "cf8fdb15-d3b1-46c9-80a3-94f7ddac9f82",
   "metadata": {},
   "source": [
    "We can now see, for instance, that there are 45 copies of four of the records, 15 copies of 5,555 of the records, and so on."
   ]
  },
  {
   "cell_type": "code",
   "execution_count": 97,
   "id": "84d5080c-5d11-4499-933a-f6e1df901bd7",
   "metadata": {},
   "outputs": [
    {
     "data": {
      "text/plain": [
       "multiplicity\n",
       "1     8395030\n",
       "2     1926100\n",
       "3      609210\n",
       "4      295074\n",
       "5      186173\n",
       "6       78563\n",
       "7       71569\n",
       "8       30243\n",
       "12       9351\n",
       "11       9339\n",
       "10       6035\n",
       "15       5555\n",
       "9        3839\n",
       "14       2225\n",
       "13        763\n",
       "18        656\n",
       "17        328\n",
       "21        213\n",
       "19         32\n",
       "16         27\n",
       "24         11\n",
       "30          8\n",
       "20          6\n",
       "22          6\n",
       "45          4\n",
       "Name: count, dtype: int64"
      ]
     },
     "execution_count": 97,
     "metadata": {},
     "output_type": "execute_result"
    }
   ],
   "source": [
    "df_name = 'tgbn-genre_edgelist_processed'\n",
    "df = df_[df_name]\n",
    "\n",
    "df['multiplicity'].value_counts()"
   ]
  },
  {
   "cell_type": "markdown",
   "id": "cd75eeee-b0f6-4a86-bb5e-a8f9f0fcb4cc",
   "metadata": {},
   "source": [
    "<a id='edgelist_preprocessing_reset_idx_save'></a>\n",
    "### Renaming the columns, resetting the index, and saving to csv\n",
    "↑↑ [Contents](#contents) ↑ [Adding multiplicity column and removing duplicate records](#edgelist_preprocessing_duplicates) ↓ [Saving labels_dict and node_ids to csv](#edgelist_preprocessing_save_dict)\n",
    "\n",
    "We will now reset the index of ```df_['tgbn-genre_edgelist_processed']```. If we hadn't sorted the records by increasing timestamp, all operations hitherto would be reversible and we'd be able to recover ```df_['tgbn-genre_edgelist']``` exactly from ```df_['tgbn-genre_edgelist_processed']```. We'll rename the columns (for reasons that will become clear in the [EDA notebook](02-eda-tgbn-genre-dataset.ipynb)), and save the final processed dataframe to a csv file so that it can be read into a dataframe at a later time without needing to repeat the above steps."
   ]
  },
  {
   "cell_type": "code",
   "execution_count": 99,
   "id": "600f9c2c-756c-4d7f-a6fe-3bda629b1942",
   "metadata": {},
   "outputs": [],
   "source": [
    "df_name = 'tgbn-genre_edgelist_processed'\n",
    "df = df_[df_name]\n",
    "\n",
    "df.reset_index(drop=True, inplace=True)"
   ]
  },
  {
   "cell_type": "code",
   "execution_count": 101,
   "id": "edb6cbea-4854-4562-903e-93149b321d5c",
   "metadata": {},
   "outputs": [],
   "source": [
    "rename_dict = {\n",
    "    'u': 'sources',\n",
    "    'i': 'destinations',\n",
    "    'ts': 'timestamps',\n",
    "    'w' : 'edge_feat',\n",
    "}\n",
    "df_['tgbn-genre_edgelist_processed'] = df_['tgbn-genre_edgelist_processed'].rename(columns=rename_dict)"
   ]
  },
  {
   "cell_type": "code",
   "execution_count": 102,
   "id": "0799b628-71be-47c4-bf0a-ca24b5ec0a88",
   "metadata": {},
   "outputs": [
    {
     "data": {
      "text/html": [
       "<div>\n",
       "<style scoped>\n",
       "    .dataframe tbody tr th:only-of-type {\n",
       "        vertical-align: middle;\n",
       "    }\n",
       "\n",
       "    .dataframe tbody tr th {\n",
       "        vertical-align: top;\n",
       "    }\n",
       "\n",
       "    .dataframe thead th {\n",
       "        text-align: right;\n",
       "    }\n",
       "</style>\n",
       "<table border=\"1\" class=\"dataframe\">\n",
       "  <thead>\n",
       "    <tr style=\"text-align: right;\">\n",
       "      <th></th>\n",
       "      <th>sources</th>\n",
       "      <th>destinations</th>\n",
       "      <th>timestamps</th>\n",
       "      <th>edge_feat</th>\n",
       "      <th>multiplicity</th>\n",
       "    </tr>\n",
       "  </thead>\n",
       "  <tbody>\n",
       "    <tr>\n",
       "      <th>0</th>\n",
       "      <td>513</td>\n",
       "      <td>0</td>\n",
       "      <td>1108357203</td>\n",
       "      <td>0.375000</td>\n",
       "      <td>2</td>\n",
       "    </tr>\n",
       "    <tr>\n",
       "      <th>1</th>\n",
       "      <td>514</td>\n",
       "      <td>1</td>\n",
       "      <td>1108357264</td>\n",
       "      <td>0.452489</td>\n",
       "      <td>1</td>\n",
       "    </tr>\n",
       "    <tr>\n",
       "      <th>2</th>\n",
       "      <td>514</td>\n",
       "      <td>2</td>\n",
       "      <td>1108357264</td>\n",
       "      <td>0.289593</td>\n",
       "      <td>1</td>\n",
       "    </tr>\n",
       "    <tr>\n",
       "      <th>3</th>\n",
       "      <td>514</td>\n",
       "      <td>3</td>\n",
       "      <td>1108357264</td>\n",
       "      <td>0.257919</td>\n",
       "      <td>1</td>\n",
       "    </tr>\n",
       "    <tr>\n",
       "      <th>4</th>\n",
       "      <td>515</td>\n",
       "      <td>4</td>\n",
       "      <td>1108357321</td>\n",
       "      <td>0.362319</td>\n",
       "      <td>1</td>\n",
       "    </tr>\n",
       "  </tbody>\n",
       "</table>\n",
       "</div>"
      ],
      "text/plain": [
       "   sources  destinations  timestamps  edge_feat  multiplicity\n",
       "0      513             0  1108357203   0.375000             2\n",
       "1      514             1  1108357264   0.452489             1\n",
       "2      514             2  1108357264   0.289593             1\n",
       "3      514             3  1108357264   0.257919             1\n",
       "4      515             4  1108357321   0.362319             1"
      ]
     },
     "execution_count": 102,
     "metadata": {},
     "output_type": "execute_result"
    }
   ],
   "source": [
    "df_name = 'tgbn-genre_edgelist_processed'\n",
    "df = df_[df_name]\n",
    "\n",
    "df.head()"
   ]
  },
  {
   "cell_type": "code",
   "execution_count": 103,
   "id": "3a3b1b66-21b2-4f7b-b360-0d1712169f07",
   "metadata": {},
   "outputs": [
    {
     "name": "stdout",
     "output_type": "stream",
     "text": [
      "Saving df_['tgbn-genre_edgelist_processed'] to csv file.\n",
      "Time taken: 177.51 seconds.\n"
     ]
    }
   ],
   "source": [
    "df_name = 'tgbn-genre_edgelist_processed'\n",
    "df = df_[df_name]\n",
    "\n",
    "print('Saving df_[\\'tgbn-genre_edgelist_processed\\'] to csv file.')\n",
    "\n",
    "tic = time.time()\n",
    "\n",
    "df.to_csv(path['data'].joinpath(df_name + '.csv'), index=False)\n",
    "\n",
    "toc = time.time()\n",
    "print(f'Time taken: {toc - tic:.2f} seconds.')"
   ]
  },
  {
   "cell_type": "markdown",
   "id": "8313cd9d-2b6e-416d-8d07-41840d2b8799",
   "metadata": {},
   "source": [
    "<a id='edgelist_preprocessing_save_dict'></a>\n",
    "### Saving labels_dict and node_ids to csv\n",
    "↑↑ [Contents](#contents) ↑ [Renaming the columns, resetting the index, and saving to csv](#edgelist_preprocessing_reset_idx_save) ↓ [Node labels data](#node_labels_preprocessing)\n",
    "\n",
    "We'll also save ```labels_dict``` and ```node_ids``` to csv files, as they'll come in useful later on."
   ]
  },
  {
   "cell_type": "code",
   "execution_count": 104,
   "id": "49deb2df-9926-4d53-958b-82ee4068778c",
   "metadata": {},
   "outputs": [
    {
     "name": "stdout",
     "output_type": "stream",
     "text": [
      "Saving labels_dict and node_ids to csv files.\n"
     ]
    }
   ],
   "source": [
    "print('Saving labels_dict and node_ids to csv files.')\n",
    "\n",
    "labels_dict_df.to_csv(path['data'].joinpath('tgbn-genre_labels_dict.csv'), index=False, encoding='utf-8')\n",
    "node_ids_df.to_csv(path['data'].joinpath('tgbn-genre_node_ids.csv'), index=False)"
   ]
  },
  {
   "cell_type": "markdown",
   "id": "03dd573a-4716-4438-ad38-2af52dbf9ee8",
   "metadata": {},
   "source": [
    "<a id='node_labels_preprocessing'></a>\n",
    "## Node labels data\n",
    "↑↑ [Contents](#contents) ↑ [Saving labels_dict and node_ids to csv](#edgelist_preprocessing_save_dict) ↓ [Notwithstanding weights, there is overlap between node label data and edgelist data](#node_labels_overlap)"
   ]
  },
  {
   "cell_type": "markdown",
   "id": "fb918ee0-1740-4b1b-b364-280d73a53ca3",
   "metadata": {},
   "source": [
    "We now perform similar steps for the node labels data contained in ```df_['tgbn-genre_node_labels_processed']```, which is currently a copy of ```df_['tgbn-genre_node_labels']```, which we read from ```tgbn-genre_node_labels.csv```.\n",
    "\n",
    "The node labels data is generated from the edgelist data (essentially) using the ```generate_aggregate_labels``` function of the TGB module ```tgb_genre.py``` (under ```/scripts/tgb/datasets/dataset_scripts/```, also see it on [TGB's GitHub](https://github.com/shenyangHuang/TGB/blob/main/tgb/datasets/dataset_scripts/tgbn-genre.py) [[3]](#H_GH:tgbn_genre_py)). It aggregates the edgelist 'weight' column data by seven-day intervals (the 'ts' column is a timestamp column). See [EDA notebook](02-eda-tgbn-genre-dataset.ipynb) for further details."
   ]
  },
  {
   "cell_type": "markdown",
   "id": "6cd56cb4-6cf1-4b05-ad92-32420d48ef61",
   "metadata": {},
   "source": [
    "<a id='node_labels_overlap'></a>\n",
    "### Notwithstanding weights, there is overlap between node label data and edgelist data  \n",
    "↑↑ [Contents](#contents) ↑ [Node labels data](#node_labels_preprocessing) ↓ [Node label data is sorted by increasing timestamp](#node_labels_preprocessing_sort)\n",
    "\n",
    "There are 739 records in both ```df_['tgbn-genre_edgelist']``` and ```df_['tgbn-genre_node_labels']``` where 'ts', 'user_id', and 'genre' agree. Note, however, that the 'weight's are not the same.\n",
    "\n",
    "As mentioned above, the weights in the node labels dataset are aggregations of weights in the edgelist dataset. As we will see in the [EDA notebook](02-eda-tgbn-genre-dataset.ipynb), this overlap represents records in the edge list dataset that correspond to the very beginning of a 24-hour interval."
   ]
  },
  {
   "cell_type": "code",
   "execution_count": 109,
   "id": "ac6300da-f5f5-4a1e-90c6-f6d6d12d6323",
   "metadata": {},
   "outputs": [],
   "source": [
    "df1_name = 'tgbn-genre_edgelist'\n",
    "df2_name = 'tgbn-genre_node_labels'\n",
    "df1 = df_[df1_name]\n",
    "df2 = df_[df2_name]\n",
    "\n",
    "merged_df = pd.merge(df1, df2, on=['ts', 'user_id', 'genre'], how='inner')"
   ]
  },
  {
   "cell_type": "code",
   "execution_count": 110,
   "id": "c66ec618-8552-4d29-a50a-552f815183b7",
   "metadata": {
    "scrolled": true
   },
   "outputs": [
    {
     "data": {
      "text/html": [
       "<div>\n",
       "<style scoped>\n",
       "    .dataframe tbody tr th:only-of-type {\n",
       "        vertical-align: middle;\n",
       "    }\n",
       "\n",
       "    .dataframe tbody tr th {\n",
       "        vertical-align: top;\n",
       "    }\n",
       "\n",
       "    .dataframe thead th {\n",
       "        text-align: right;\n",
       "    }\n",
       "</style>\n",
       "<table border=\"1\" class=\"dataframe\">\n",
       "  <thead>\n",
       "    <tr style=\"text-align: right;\">\n",
       "      <th></th>\n",
       "      <th>ts</th>\n",
       "      <th>user_id</th>\n",
       "      <th>genre</th>\n",
       "      <th>weight_x</th>\n",
       "      <th>weight_y</th>\n",
       "    </tr>\n",
       "  </thead>\n",
       "  <tbody>\n",
       "    <tr>\n",
       "      <th>0</th>\n",
       "      <td>1112245200</td>\n",
       "      <td>user_000557</td>\n",
       "      <td>indie</td>\n",
       "      <td>0.442478</td>\n",
       "      <td>1.000000</td>\n",
       "    </tr>\n",
       "    <tr>\n",
       "      <th>1</th>\n",
       "      <td>1112245200</td>\n",
       "      <td>user_000557</td>\n",
       "      <td>indie</td>\n",
       "      <td>0.442478</td>\n",
       "      <td>1.000000</td>\n",
       "    </tr>\n",
       "    <tr>\n",
       "      <th>2</th>\n",
       "      <td>1113796800</td>\n",
       "      <td>user_000709</td>\n",
       "      <td>soul</td>\n",
       "      <td>0.549451</td>\n",
       "      <td>0.091032</td>\n",
       "    </tr>\n",
       "    <tr>\n",
       "      <th>3</th>\n",
       "      <td>1113796800</td>\n",
       "      <td>user_000709</td>\n",
       "      <td>60s</td>\n",
       "      <td>0.258242</td>\n",
       "      <td>0.054021</td>\n",
       "    </tr>\n",
       "    <tr>\n",
       "      <th>4</th>\n",
       "      <td>1113796800</td>\n",
       "      <td>user_000709</td>\n",
       "      <td>oldies</td>\n",
       "      <td>0.192308</td>\n",
       "      <td>0.090759</td>\n",
       "    </tr>\n",
       "    <tr>\n",
       "      <th>...</th>\n",
       "      <td>...</td>\n",
       "      <td>...</td>\n",
       "      <td>...</td>\n",
       "      <td>...</td>\n",
       "      <td>...</td>\n",
       "    </tr>\n",
       "    <tr>\n",
       "      <th>734</th>\n",
       "      <td>1244347200</td>\n",
       "      <td>user_000488</td>\n",
       "      <td>pop rock</td>\n",
       "      <td>0.268519</td>\n",
       "      <td>0.031380</td>\n",
       "    </tr>\n",
       "    <tr>\n",
       "      <th>735</th>\n",
       "      <td>1244347200</td>\n",
       "      <td>user_000488</td>\n",
       "      <td>female vocalist</td>\n",
       "      <td>0.268519</td>\n",
       "      <td>0.066939</td>\n",
       "    </tr>\n",
       "    <tr>\n",
       "      <th>736</th>\n",
       "      <td>1244347200</td>\n",
       "      <td>user_000488</td>\n",
       "      <td>pop</td>\n",
       "      <td>0.462963</td>\n",
       "      <td>0.242574</td>\n",
       "    </tr>\n",
       "    <tr>\n",
       "      <th>737</th>\n",
       "      <td>1244347200</td>\n",
       "      <td>user_000488</td>\n",
       "      <td>pop rock</td>\n",
       "      <td>0.268519</td>\n",
       "      <td>0.031380</td>\n",
       "    </tr>\n",
       "    <tr>\n",
       "      <th>738</th>\n",
       "      <td>1244347200</td>\n",
       "      <td>user_000488</td>\n",
       "      <td>female vocalist</td>\n",
       "      <td>0.268519</td>\n",
       "      <td>0.066939</td>\n",
       "    </tr>\n",
       "  </tbody>\n",
       "</table>\n",
       "<p>739 rows × 5 columns</p>\n",
       "</div>"
      ],
      "text/plain": [
       "             ts      user_id            genre  weight_x  weight_y\n",
       "0    1112245200  user_000557            indie  0.442478  1.000000\n",
       "1    1112245200  user_000557            indie  0.442478  1.000000\n",
       "2    1113796800  user_000709             soul  0.549451  0.091032\n",
       "3    1113796800  user_000709              60s  0.258242  0.054021\n",
       "4    1113796800  user_000709           oldies  0.192308  0.090759\n",
       "..          ...          ...              ...       ...       ...\n",
       "734  1244347200  user_000488         pop rock  0.268519  0.031380\n",
       "735  1244347200  user_000488  female vocalist  0.268519  0.066939\n",
       "736  1244347200  user_000488              pop  0.462963  0.242574\n",
       "737  1244347200  user_000488         pop rock  0.268519  0.031380\n",
       "738  1244347200  user_000488  female vocalist  0.268519  0.066939\n",
       "\n",
       "[739 rows x 5 columns]"
      ]
     },
     "execution_count": 110,
     "metadata": {},
     "output_type": "execute_result"
    }
   ],
   "source": [
    "merged_df"
   ]
  },
  {
   "cell_type": "markdown",
   "id": "ce5ea0de-d4e3-4a4b-b4f5-a2d280aa846b",
   "metadata": {},
   "source": [
    "<a id='node_labels_preprocessing_sort'></a>\n",
    "### Node label data is sorted by increasing timestamp\n",
    "↑↑ [Contents](#contents) ↑ [Notwithstanding weights, there is overlap between node label data and edgelist data](#node_labels_overlap) ↓ [Node label data contains no duplicate records](#node_labels_preprocessing_verify_no_duplicates)\n",
    "\n",
    "Unlike the edgelist data, it turns out that the records of ```df_['tgbn-genre_node_labels']``` are already completely sorted chronologically. We verify this."
   ]
  },
  {
   "cell_type": "code",
   "execution_count": 114,
   "id": "a7d27761-3398-43a3-ac3c-7415b70f1cd4",
   "metadata": {},
   "outputs": [
    {
     "name": "stdout",
     "output_type": "stream",
     "text": [
      "df_['tgbn-genre_node_labels'] is already sorted by ts column (increasing).\n",
      "\n"
     ]
    }
   ],
   "source": [
    "df_name = 'tgbn-genre_node_labels'\n",
    "df = df_[df_name]\n",
    "col = 'ts'\n",
    "        \n",
    "if df[col].is_monotonic_increasing:\n",
    "    print(f'df_[\\'{df_name}\\'] is already sorted by {col} column (increasing).\\n')\n",
    "else:\n",
    "    print(f'df_[\\'{df_name}\\'] is not sorted by {col} column (increasing).')\n",
    "    \n",
    "    condition = df[col] < df[col].shift(1)\n",
    "    indices = condition[condition].index\n",
    "    \n",
    "    print(f'Indices where {col}[i] < {col}[i - 1]:', end = ' ')\n",
    "    for i, index in enumerate(indices):\n",
    "        if i < len(indices) - 1:\n",
    "            print(index, end = ', ')\n",
    "        else:\n",
    "            print(index, end = '.\\n')\n",
    "    print('')"
   ]
  },
  {
   "cell_type": "markdown",
   "id": "23484a7c-365d-49ff-b6f1-5d2736fa1e62",
   "metadata": {},
   "source": [
    "<a id='node_labels_preprocessing_verify_no_duplicates'></a>\n",
    "### Node label data contains no duplicate records \n",
    "↑↑ [Contents](#contents) ↑ [Node label data is sorted by increasing timestamp](#node_labels_preprocessing_sort) ↓ [Node label user_ids are a proper subset of edgelist user_ids](#node_labels_preprocessing_verify_user_id)\n",
    "\n",
    "Unlike the edgelist dataset, the node label dataset contains no duplicate records, as we now verify.\n",
    "\n",
    "[Recall](#node_labels_preprocessing) that the node labels data is generated from the edgelist data (essentially) using the ```generate_aggregate_labels``` function of the TGB module ```tgb_genre.py``` (under ```/scripts/tgb/datasets/dataset_scripts/```, also see it on [TGB's GitHub](https://github.com/shenyangHuang/TGB/blob/main/tgb/datasets/dataset_scripts/tgbn-genre.py) [[3]](#H_GH:tgbn_genre_py)). It aggregates the edgelist 'weight' column data by seven-day intervals (the 'ts' column is a timestamp column). From the code, this aggregation does appear to have aggregated over duplicate records: the way in which the weights are combined may mean that the duplicate records typically have little effect in any case. This is discussed in the [EDA notebook](02-eda-tgbn-genre-dataset.ipynb)."
   ]
  },
  {
   "cell_type": "code",
   "execution_count": 116,
   "id": "3c9af9dc-374d-4141-91e6-c3eda5242083",
   "metadata": {},
   "outputs": [
    {
     "name": "stdout",
     "output_type": "stream",
     "text": [
      "df_['tgbn-genre_node_labels'] contains duplicate records: False.\n"
     ]
    }
   ],
   "source": [
    "df_name = 'tgbn-genre_node_labels'\n",
    "df = df_[df_name]\n",
    "\n",
    "contains_duplicates = df[df.duplicated()].shape[0] > 0\n",
    "\n",
    "print(f'df_[\\'tgbn-genre_node_labels\\'] contains duplicate records: {contains_duplicates}.') "
   ]
  },
  {
   "cell_type": "markdown",
   "id": "da5354af-3882-4f1a-8e4f-29883705a33f",
   "metadata": {},
   "source": [
    "<a id='node_labels_preprocessing_verify_user_id'></a>\n",
    "### Node label user_ids are a proper subset of edgelist user_ids\n",
    "↑↑ [Contents](#contents) ↑ [Node label data contains no duplicate records](#node_labels_preprocessing_verify_no_duplicates) ↓ [Node label genres are the same as edgelist genres](#node_labels_preprocessing_verify_genre)\n",
    "\n",
    "It turns out that all 'user_id's found in ```df_['tgbn-genre_node_labels']``` are also in ```df_['tgbn-genre_edgelist']```, but the latter dataset contains records for 18 more 'user_id's that cannot be found in the former. Perhaps the 18 'user_id's are overlooked in the aggregation process due to being on the boundary between seven-day intervals, or the corresponding records are all within less than seven days of the last timestamp in the edgelist dataset."
   ]
  },
  {
   "cell_type": "code",
   "execution_count": 117,
   "id": "fb38d8a1-a63c-46d7-ab4e-e5def18ca61b",
   "metadata": {},
   "outputs": [
    {
     "name": "stdout",
     "output_type": "stream",
     "text": [
      "Set of user_ids in node label data is equal to set of user_ids in edgelist data: False.\n",
      "Set of user_ids in node label data is contained in set of user_ids in edgelist data: True.\n",
      "\n",
      "user_ids present in edgelist data that are not present in node labels data:\n",
      "1: user_000856 (848)\n",
      "2: user_000186 (1501)\n",
      "3: user_000852 (743)\n",
      "4: user_000895 (772)\n",
      "5: user_000399 (1497)\n",
      "6: user_000561 (1379)\n",
      "7: user_000101 (1017)\n",
      "8: user_000240 (1019)\n",
      "9: user_000784 (1496)\n",
      "10: user_000815 (957)\n",
      "11: user_000560 (1321)\n",
      "12: user_000332 (1106)\n",
      "13: user_000098 (1500)\n",
      "14: user_000061 (1182)\n",
      "15: user_000566 (1012)\n",
      "16: user_000686 (1127)\n",
      "17: user_000538 (1503)\n",
      "18: user_000533 (1502)\n"
     ]
    }
   ],
   "source": [
    "NLuid = set(df_['tgbn-genre_node_labels']['user_id'])\n",
    "ELuid = set(df_['tgbn-genre_edgelist']['user_id'])\n",
    "\n",
    "equality_condition = NLuid == ELuid\n",
    "subset_condition = NLuid.issubset(ELuid)\n",
    "\n",
    "print(f'Set of user_ids in node label data is equal to set of user_ids in edgelist data: {equality_condition}.')\n",
    "print(f'Set of user_ids in node label data is contained in set of user_ids in edgelist data: {subset_condition}.')\n",
    "print('\\nuser_ids present in edgelist data that are not present in node labels data:')\n",
    "for i, uid in enumerate(ELuid - NLuid):\n",
    "    print(f'{i + 1}: {uid} ({node_ids[uid]})')"
   ]
  },
  {
   "cell_type": "markdown",
   "id": "66ecbbe5-6170-4aaf-84bd-6e049d6bbb78",
   "metadata": {},
   "source": [
    "<a id='node_labels_preprocessing_verify_genre'></a>\n",
    "### Node label genres are the same as edgelist genres  \n",
    "↑↑ [Contents](#contents) ↑ [Node label user_ids are a proper subset of edgelist user_ids](#node_labels_preprocessing_verify_user_id) ↓ [Mapping node label user_ids and genres using node_ids and labels_dict](#node_labels_preprocessing_mapping)\n",
    "\n",
    "The 'genre's represented in both datasets are identical, as we now verify."
   ]
  },
  {
   "cell_type": "code",
   "execution_count": 118,
   "id": "7186e672-4101-4f96-b265-eeecd054fd0a",
   "metadata": {},
   "outputs": [
    {
     "name": "stdout",
     "output_type": "stream",
     "text": [
      "Set of genres in node label data is equal to set of genres in edgelist data: True.\n"
     ]
    }
   ],
   "source": [
    "NLgenre= set(df_['tgbn-genre_node_labels']['genre'])\n",
    "ELgenre = set(df_['tgbn-genre_edgelist']['genre'])\n",
    "\n",
    "equality_condition = NLgenre == ELgenre\n",
    "\n",
    "print(f'Set of genres in node label data is equal to set of genres in edgelist data: {equality_condition}.')"
   ]
  },
  {
   "cell_type": "markdown",
   "id": "13d19ebd-499b-4793-9601-6407e12daf46",
   "metadata": {},
   "source": [
    "<a id='node_labels_preprocessing_mapping'></a>\n",
    "### Mapping node label user_ids and genres using node_ids and labels_dict \n",
    "↑↑ [Contents](#contents) ↑ [Node label genres are the same as edgelist genres](#node_labels_preprocessing_verify_genre) ↓ [Renaming and reordering node label dataframe columns, and saving to csv](#node_labels_preprocessing_renaming_columns)\n",
    "\n",
    "We now work with our copy ```df_['tgbn-genre_node_labels_processed']``` of ```df_['tgbn-genre_node_labels']```, and map 'user_id's and 'genres' of this copy using ```node_ids``` and ```labels_dict``` respectively. The encoded node labels data will be consistent with the processed edgelist data."
   ]
  },
  {
   "cell_type": "code",
   "execution_count": 123,
   "id": "b48ee433-9815-4b21-b3c9-c0397c82de62",
   "metadata": {},
   "outputs": [
    {
     "name": "stdout",
     "output_type": "stream",
     "text": [
      "Mapping user_ids using node_ids dictionary.\n",
      "Mapping genres using labels_dict.\n"
     ]
    }
   ],
   "source": [
    "df_name = 'tgbn-genre_node_labels_processed'\n",
    "df = df_[df_name]\n",
    "\n",
    "print('Mapping user_ids using node_ids dictionary.')\n",
    "df['user_id'] = df['user_id'].map(node_ids)\n",
    "\n",
    "print('Mapping genres using labels_dict.')\n",
    "df['genre'] = df['genre'].map(labels_dict)"
   ]
  },
  {
   "cell_type": "code",
   "execution_count": 124,
   "id": "83b6b666-ccb6-4656-9ed8-6cfb8bdefb00",
   "metadata": {},
   "outputs": [
    {
     "data": {
      "text/html": [
       "<div>\n",
       "<style scoped>\n",
       "    .dataframe tbody tr th:only-of-type {\n",
       "        vertical-align: middle;\n",
       "    }\n",
       "\n",
       "    .dataframe tbody tr th {\n",
       "        vertical-align: top;\n",
       "    }\n",
       "\n",
       "    .dataframe thead th {\n",
       "        text-align: right;\n",
       "    }\n",
       "</style>\n",
       "<table border=\"1\" class=\"dataframe\">\n",
       "  <thead>\n",
       "    <tr style=\"text-align: right;\">\n",
       "      <th></th>\n",
       "      <th>ts</th>\n",
       "      <th>user_id</th>\n",
       "      <th>genre</th>\n",
       "      <th>weight</th>\n",
       "    </tr>\n",
       "  </thead>\n",
       "  <tbody>\n",
       "    <tr>\n",
       "      <th>0</th>\n",
       "      <td>1108443600</td>\n",
       "      <td>533</td>\n",
       "      <td>83</td>\n",
       "      <td>0.015835</td>\n",
       "    </tr>\n",
       "    <tr>\n",
       "      <th>1</th>\n",
       "      <td>1108443600</td>\n",
       "      <td>533</td>\n",
       "      <td>24</td>\n",
       "      <td>0.015330</td>\n",
       "    </tr>\n",
       "    <tr>\n",
       "      <th>2</th>\n",
       "      <td>1108443600</td>\n",
       "      <td>533</td>\n",
       "      <td>103</td>\n",
       "      <td>0.008128</td>\n",
       "    </tr>\n",
       "    <tr>\n",
       "      <th>3</th>\n",
       "      <td>1108443600</td>\n",
       "      <td>533</td>\n",
       "      <td>56</td>\n",
       "      <td>0.072162</td>\n",
       "    </tr>\n",
       "    <tr>\n",
       "      <th>4</th>\n",
       "      <td>1108443600</td>\n",
       "      <td>533</td>\n",
       "      <td>66</td>\n",
       "      <td>0.021465</td>\n",
       "    </tr>\n",
       "  </tbody>\n",
       "</table>\n",
       "</div>"
      ],
      "text/plain": [
       "           ts  user_id  genre    weight\n",
       "0  1108443600      533     83  0.015835\n",
       "1  1108443600      533     24  0.015330\n",
       "2  1108443600      533    103  0.008128\n",
       "3  1108443600      533     56  0.072162\n",
       "4  1108443600      533     66  0.021465"
      ]
     },
     "execution_count": 124,
     "metadata": {},
     "output_type": "execute_result"
    }
   ],
   "source": [
    "df_name = 'tgbn-genre_node_labels_processed'\n",
    "df = df_[df_name]\n",
    "\n",
    "df.head()"
   ]
  },
  {
   "cell_type": "markdown",
   "id": "c5c10b7f-07ad-483a-8372-01c1325dfd08",
   "metadata": {},
   "source": [
    "<a id='node_labels_preprocessing_renaming_columns'></a>\n",
    "### Renaming and reordering node label dataframe columns, and saving to csv \n",
    "↑↑ [Contents](#contents) ↑ [Mapping node label user_ids and genres using node_ids and labels_dict](#node_labels_preprocessing_mapping) ↓ [Daily labels and final genre list](#daily_labels)\n",
    "\n",
    "For consistency with the final version of the processed edgelist dataframe ```df_['tgbn-genre_edgelist_processed']```, we rename and reorder the columns of ```df_['tgbn-genre_node_labels_processed']```. Finally, we save the processed dataframe to a csv file."
   ]
  },
  {
   "cell_type": "code",
   "execution_count": 127,
   "id": "8658c9a3-bda8-42b0-bc36-5550f023c4c8",
   "metadata": {},
   "outputs": [],
   "source": [
    "rename_dict = {\n",
    "    'user_id': 'sources',\n",
    "    'genre': 'destinations',\n",
    "    'ts': 'timestamps',\n",
    "}\n",
    "df_['tgbn-genre_node_labels_processed'] = df_['tgbn-genre_node_labels_processed'].rename(columns=rename_dict)\n",
    "\n",
    "new_order = ['sources', 'destinations', 'timestamps', 'weight']\n",
    "df_['tgbn-genre_node_labels_processed'] = df_['tgbn-genre_node_labels_processed'].reindex(columns=new_order)"
   ]
  },
  {
   "cell_type": "code",
   "execution_count": 128,
   "id": "cd6f028d-1572-46e2-8aeb-030078158e50",
   "metadata": {},
   "outputs": [
    {
     "data": {
      "text/html": [
       "<div>\n",
       "<style scoped>\n",
       "    .dataframe tbody tr th:only-of-type {\n",
       "        vertical-align: middle;\n",
       "    }\n",
       "\n",
       "    .dataframe tbody tr th {\n",
       "        vertical-align: top;\n",
       "    }\n",
       "\n",
       "    .dataframe thead th {\n",
       "        text-align: right;\n",
       "    }\n",
       "</style>\n",
       "<table border=\"1\" class=\"dataframe\">\n",
       "  <thead>\n",
       "    <tr style=\"text-align: right;\">\n",
       "      <th></th>\n",
       "      <th>sources</th>\n",
       "      <th>destinations</th>\n",
       "      <th>timestamps</th>\n",
       "      <th>weight</th>\n",
       "    </tr>\n",
       "  </thead>\n",
       "  <tbody>\n",
       "    <tr>\n",
       "      <th>0</th>\n",
       "      <td>533</td>\n",
       "      <td>83</td>\n",
       "      <td>1108443600</td>\n",
       "      <td>0.015835</td>\n",
       "    </tr>\n",
       "    <tr>\n",
       "      <th>1</th>\n",
       "      <td>533</td>\n",
       "      <td>24</td>\n",
       "      <td>1108443600</td>\n",
       "      <td>0.015330</td>\n",
       "    </tr>\n",
       "    <tr>\n",
       "      <th>2</th>\n",
       "      <td>533</td>\n",
       "      <td>103</td>\n",
       "      <td>1108443600</td>\n",
       "      <td>0.008128</td>\n",
       "    </tr>\n",
       "    <tr>\n",
       "      <th>3</th>\n",
       "      <td>533</td>\n",
       "      <td>56</td>\n",
       "      <td>1108443600</td>\n",
       "      <td>0.072162</td>\n",
       "    </tr>\n",
       "    <tr>\n",
       "      <th>4</th>\n",
       "      <td>533</td>\n",
       "      <td>66</td>\n",
       "      <td>1108443600</td>\n",
       "      <td>0.021465</td>\n",
       "    </tr>\n",
       "  </tbody>\n",
       "</table>\n",
       "</div>"
      ],
      "text/plain": [
       "   sources  destinations  timestamps    weight\n",
       "0      533            83  1108443600  0.015835\n",
       "1      533            24  1108443600  0.015330\n",
       "2      533           103  1108443600  0.008128\n",
       "3      533            56  1108443600  0.072162\n",
       "4      533            66  1108443600  0.021465"
      ]
     },
     "execution_count": 128,
     "metadata": {},
     "output_type": "execute_result"
    }
   ],
   "source": [
    "df_name = 'tgbn-genre_node_labels_processed'\n",
    "df = df_[df_name]\n",
    "\n",
    "df.head()"
   ]
  },
  {
   "cell_type": "code",
   "execution_count": 129,
   "id": "70c38b69-9678-4508-becc-260735dec690",
   "metadata": {},
   "outputs": [
    {
     "name": "stdout",
     "output_type": "stream",
     "text": [
      "Saving df_['tgbn-genre_node_labels_processed'] to csv file.\n",
      "Time taken: 43.83 seconds.\n"
     ]
    }
   ],
   "source": [
    "df_name = 'tgbn-genre_node_labels_processed'\n",
    "df = df_[df_name]\n",
    "\n",
    "print('Saving df_[\\'tgbn-genre_node_labels_processed\\'] to csv file.')\n",
    "\n",
    "tic = time.time()\n",
    "\n",
    "df.to_csv(path['data'].joinpath(df_name + '.csv'), index=False)\n",
    "\n",
    "toc = time.time()\n",
    "print(f'Time taken: {toc - tic:.2f} seconds.')"
   ]
  },
  {
   "cell_type": "markdown",
   "id": "6cf73f19-3f7b-4235-ba34-f4a71fecab02",
   "metadata": {},
   "source": [
    "<a id='daily_labels'></a>\n",
    "## Daily labels and final genre list\n",
    "↑↑ [Contents](#contents) ↑ [Renaming and reordering node label dataframe columns, and saving to csv](#node_labels_preprocessing_renaming_columns) ↓ [References](#references)"
   ]
  },
  {
   "cell_type": "markdown",
   "id": "9d08e7dd-2e3d-4e7c-8918-e409cb6380fa",
   "metadata": {},
   "source": [
    "The csv file ```daily_labels.csv``` represents an intermediate step in the generation of ```tgbn-genre_node_labels.csv``` from ```tgbn-genre_edgelist.csv```. See the ```generate_daily_node_labels``` function of the TGB module ```tgb_genre.py``` (under ```/scripts/tgb/datasets/dataset_scripts/```, also see it on [TGB's GitHub](https://github.com/shenyangHuang/TGB/blob/main/tgb/datasets/dataset_scripts/tgbn-genre.py) [[3]](#H_GH:tgbn_genre_py)). \n",
    "\n",
    "The csv file ```genre_list_final.csv``` essentially maps genres used in the ```tgbn-genre``` data to codes, but not the same codes as in ```labels_dict```: perhaps the mapping given by ```genre_list_final.csv``` comes from the full genre list in the million-song dataset. We will not explore or process these files."
   ]
  },
  {
   "cell_type": "code",
   "execution_count": 130,
   "id": "f4361a48-8314-42d6-9878-21bc02faa17d",
   "metadata": {},
   "outputs": [
    {
     "data": {
      "text/html": [
       "<div>\n",
       "<style scoped>\n",
       "    .dataframe tbody tr th:only-of-type {\n",
       "        vertical-align: middle;\n",
       "    }\n",
       "\n",
       "    .dataframe tbody tr th {\n",
       "        vertical-align: top;\n",
       "    }\n",
       "\n",
       "    .dataframe thead th {\n",
       "        text-align: right;\n",
       "    }\n",
       "</style>\n",
       "<table border=\"1\" class=\"dataframe\">\n",
       "  <thead>\n",
       "    <tr style=\"text-align: right;\">\n",
       "      <th></th>\n",
       "      <th>user_id</th>\n",
       "      <th>year</th>\n",
       "      <th>month</th>\n",
       "      <th>day</th>\n",
       "      <th>genre</th>\n",
       "      <th>weight</th>\n",
       "    </tr>\n",
       "  </thead>\n",
       "  <tbody>\n",
       "    <tr>\n",
       "      <th>0</th>\n",
       "      <td>user_000001</td>\n",
       "      <td>2006</td>\n",
       "      <td>8</td>\n",
       "      <td>15</td>\n",
       "      <td>electronic</td>\n",
       "      <td>1.172941</td>\n",
       "    </tr>\n",
       "    <tr>\n",
       "      <th>1</th>\n",
       "      <td>user_000001</td>\n",
       "      <td>2006</td>\n",
       "      <td>8</td>\n",
       "      <td>15</td>\n",
       "      <td>alternative</td>\n",
       "      <td>0.468085</td>\n",
       "    </tr>\n",
       "    <tr>\n",
       "      <th>2</th>\n",
       "      <td>user_000001</td>\n",
       "      <td>2006</td>\n",
       "      <td>8</td>\n",
       "      <td>15</td>\n",
       "      <td>chillout</td>\n",
       "      <td>0.358974</td>\n",
       "    </tr>\n",
       "    <tr>\n",
       "      <th>3</th>\n",
       "      <td>user_000001</td>\n",
       "      <td>2006</td>\n",
       "      <td>8</td>\n",
       "      <td>15</td>\n",
       "      <td>math rock</td>\n",
       "      <td>1.000000</td>\n",
       "    </tr>\n",
       "    <tr>\n",
       "      <th>4</th>\n",
       "      <td>user_000001</td>\n",
       "      <td>2006</td>\n",
       "      <td>8</td>\n",
       "      <td>16</td>\n",
       "      <td>acid jazz</td>\n",
       "      <td>0.354610</td>\n",
       "    </tr>\n",
       "  </tbody>\n",
       "</table>\n",
       "</div>"
      ],
      "text/plain": [
       "       user_id  year  month  day        genre    weight\n",
       "0  user_000001  2006      8   15   electronic  1.172941\n",
       "1  user_000001  2006      8   15  alternative  0.468085\n",
       "2  user_000001  2006      8   15     chillout  0.358974\n",
       "3  user_000001  2006      8   15    math rock  1.000000\n",
       "4  user_000001  2006      8   16    acid jazz  0.354610"
      ]
     },
     "execution_count": 130,
     "metadata": {},
     "output_type": "execute_result"
    }
   ],
   "source": [
    "df_name = 'daily_labels'\n",
    "df = df_[df_name]\n",
    "df.head()"
   ]
  },
  {
   "cell_type": "code",
   "execution_count": 131,
   "id": "11c8d9fb-448e-413d-945c-f01bd0cef781",
   "metadata": {},
   "outputs": [
    {
     "data": {
      "text/html": [
       "<div>\n",
       "<style scoped>\n",
       "    .dataframe tbody tr th:only-of-type {\n",
       "        vertical-align: middle;\n",
       "    }\n",
       "\n",
       "    .dataframe tbody tr th {\n",
       "        vertical-align: top;\n",
       "    }\n",
       "\n",
       "    .dataframe thead th {\n",
       "        text-align: right;\n",
       "    }\n",
       "</style>\n",
       "<table border=\"1\" class=\"dataframe\">\n",
       "  <thead>\n",
       "    <tr style=\"text-align: right;\">\n",
       "      <th></th>\n",
       "      <th>genre</th>\n",
       "    </tr>\n",
       "  </thead>\n",
       "  <tbody>\n",
       "    <tr>\n",
       "      <th>electronic</th>\n",
       "      <td>743529</td>\n",
       "    </tr>\n",
       "    <tr>\n",
       "      <th>alternative</th>\n",
       "      <td>862812</td>\n",
       "    </tr>\n",
       "    <tr>\n",
       "      <th>chillout</th>\n",
       "      <td>187629</td>\n",
       "    </tr>\n",
       "    <tr>\n",
       "      <th>math rock</th>\n",
       "      <td>6559</td>\n",
       "    </tr>\n",
       "    <tr>\n",
       "      <th>electronica</th>\n",
       "      <td>54289</td>\n",
       "    </tr>\n",
       "  </tbody>\n",
       "</table>\n",
       "</div>"
      ],
      "text/plain": [
       "              genre\n",
       "electronic   743529\n",
       "alternative  862812\n",
       "chillout     187629\n",
       "math rock      6559\n",
       "electronica   54289"
      ]
     },
     "execution_count": 131,
     "metadata": {},
     "output_type": "execute_result"
    }
   ],
   "source": [
    "df_name = 'genre_list_final'\n",
    "df = df_[df_name]\n",
    "df.head()"
   ]
  },
  {
   "cell_type": "markdown",
   "id": "aa8453a5-6e0f-4625-bcda-74038af3c656",
   "metadata": {},
   "source": [
    "<a id='references'></a>\n",
    "## References\n",
    "↑↑ [Contents](#contents) ↑ [Daily labels and final genre list](#daily_labels) "
   ]
  },
  {
   "cell_type": "markdown",
   "id": "54b8964e-0376-49cd-bb63-90b4273fe6ca",
   "metadata": {},
   "source": [
    "<a id='H:2023'></a>[1] Huang, S., et al. [Temporal graph benchmark for machine learning on temporal graphs.](https://doi.org/10.48550/arXiv.2307.01026) _Advances in Neural Information Processing Systems_, 2023. Preprint: [arXiv:2307.01026](https://doi.org/10.48550/arXiv.2307.01026), 2023.\n",
    "\n",
    "<a id='H_GH:2023'></a>[2] Huang, S., et al. [TGB.](https://github.com/shenyangHuang/TGB) GitHub Repository. [https://github.com/shenyangHuang/TGB](https://github.com/shenyangHuang/TGB), 2023. Accessed May 14, 2024.\n",
    "\n",
    "<a id='H_GH:tgbn_genre_py'></a>\n",
    "[3] Huang, S., et al. [tgbn-genre dataset.](https://github.com/shenyangHuang/TGB/blob/main/tgb/datasets/dataset_scripts/tgbn-genre.py)\n",
    "[https://github.com/shenyangHuang/TGB/blob/main/tgb/datasets/dataset_scripts/tgbn-genre.py](https://github.com/shenyangHuang/TGB/blob/main/tgb/datasets/dataset_scripts/tgbn-genre.py), 2023. Accessed May 14, 2024."
   ]
  }
 ],
 "metadata": {
  "kernelspec": {
   "display_name": "Python 3 (ipykernel)",
   "language": "python",
   "name": "python3"
  },
  "language_info": {
   "codemirror_mode": {
    "name": "ipython",
    "version": 3
   },
   "file_extension": ".py",
   "mimetype": "text/x-python",
   "name": "python",
   "nbconvert_exporter": "python",
   "pygments_lexer": "ipython3",
   "version": "3.12.3"
  }
 },
 "nbformat": 4,
 "nbformat_minor": 5
}
