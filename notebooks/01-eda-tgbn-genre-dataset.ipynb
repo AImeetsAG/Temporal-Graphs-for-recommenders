{
 "cells": [
  {
   "cell_type": "markdown",
   "id": "361a5e68-c790-43ca-ab3d-9608e927e22c",
   "metadata": {},
   "source": [
    "# Exploratory data analysis"
   ]
  },
  {
   "cell_type": "markdown",
   "id": "679a6123-81c7-43ca-8d59-cc43185c0905",
   "metadata": {},
   "source": [
    "<a id='contents'></a>\n",
    "## Contents\n",
    "\n",
    "* [Introduction](#introduction)\n",
    "* [Setup](#setup)\n",
    "* [Data](#data)\n",
    "* [Exploration](#exploration)\n",
    "* [...](...)\n",
    "* [References](#references)"
   ]
  },
  {
   "cell_type": "markdown",
   "id": "9196b513-a9a8-4088-b59b-f2739000be5c",
   "metadata": {},
   "source": [
    "<a id='introduction'></a>\n",
    "## Introduction\n",
    "↑↑ [Contents](#contents) ↓ [Setup](#setup)"
   ]
  },
  {
   "cell_type": "markdown",
   "id": "cc45e10b-eb99-4c0f-894f-6e6faf62d5a7",
   "metadata": {},
   "source": [
    "From [[1, p. 7]](#H:2023):\n",
    ">```tgbn-genre``` This is a bipartite and weighted interaction network between users and the music genres of songs they listen to. Both users and music genres are represented as nodes while an interaction specifies a user listens to a music genre at a given time. The edge weights denote the percentage of which a song belongs to a certain genre. The dataset is constructed by cross-referencing the songs in the [LastFM-song-listens dataset](http://snap.stanford.edu/jodie/#datasets) [15, 24] with that of music genres in the [million-song dataset](#http://millionsongdataset.com/) [2]. The LastFM-song-listens dataset has one month of who-listens-to-which-song information for 1000 users and the million-song dataset provides genre weights for all songs in the [LastFM-song-listens dataset](http://snap.stanford.edu/jodie/#datasets). We only retain genres with at least 10% weights for each song that are repeated at least a thousand times in the dataset. Genre names are cleaned to remove typos. Here, the task is to predict how frequently each user will interact with music genres over the next week. This is applicable to many music recommendation systems where providing personalized recommendation is important and user preference shifts over time.\n",
    "\n",
    "> **References**\n",
    "\n",
    ">[2] Bertin-Mahieux, T., D. P. Ellis, B. Whitman, and P. Lamere. 'The million song dataset.' 2011.\n",
    "\n",
    ">[15] Hidasi, B. and D. Tikk. 'Fast als-based tensor factorization for context-aware recommendation from implicit feedback.' In _Machine Learning and Knowledge Discovery in Databases: European Conference, ECML PKDD 2012, Bristol, UK, September 24-28, 2012. Proceedings, Part II 23_, pp. 67–82. Springer, 2012.\n",
    "\n",
    ">[24] Kumar, S., X. Zhang, and J. Leskovec. 'Predicting dynamic embedding trajectory in temporal interaction networks.' In _Proceedings of the 25th ACM SIGKDD international conference on knowledge discovery & data mining_, pp. 1269–1278, 2019.\n"
   ]
  },
  {
   "cell_type": "markdown",
   "id": "779d3a52-7249-45a0-bfb0-6e1a82016f24",
   "metadata": {},
   "source": [
    "Clarification: 'the percentage of which a song belongs to a certain genre' means..."
   ]
  },
  {
   "cell_type": "markdown",
   "id": "e01930ec-5159-4134-b093-3d674b089388",
   "metadata": {},
   "source": [
    "<a id='setup'></a>\n",
    "## Setup\n",
    "↑↑ [Contents](#contents) ↑ [Introduction](#introduction) ↓ [Data](#data)"
   ]
  },
  {
   "cell_type": "markdown",
   "id": "a3f504a4-e14d-40c6-9f8d-37a8bf556891",
   "metadata": {},
   "source": [
    "First intall the TGB (Temporal Graph Benchmark) package using ```pip install py-tgb``` as per the [README.md in Shenyang Huang's TGB GitHub repo](https://github.com/shenyangHuang/TGB/blob/main/README.md) [[2]](#H_GH:2023)."
   ]
  },
  {
   "cell_type": "code",
   "execution_count": 1,
   "id": "2850cd73-26d5-42bf-aaf1-1508763631ae",
   "metadata": {},
   "outputs": [
    {
     "name": "stdout",
     "output_type": "stream",
     "text": [
      "path['project'] : F:\\projects\\temporal-graphs\n",
      "path['Resources'] : F:\\projects\\temporal-graphs\\Resources\n",
      "path['presentation'] : F:\\projects\\temporal-graphs\\presentation\n",
      "path['notebooks'] : F:\\projects\\temporal-graphs\\notebooks\n",
      "path['scripts'] : F:\\projects\\temporal-graphs\\scripts\n",
      "path['literature'] : F:\\projects\\temporal-graphs\\literature\n",
      "path['data'] : F:\\projects\\temporal-graphs\\data\n"
     ]
    }
   ],
   "source": [
    "# SETUP\n",
    "\n",
    "import os\n",
    "from pathlib import Path\n",
    "import sys\n",
    "\n",
    "# If we're using Google Colab, we set the environment variable to point to the relevant folder in our Google Drive:\n",
    "if 'COLAB_GPU' in os.environ:\n",
    "    from google.colab import drive\n",
    "    drive.mount('/content/drive')\n",
    "    os.environ['TEMPORAL_GRAPHS'] = '/content/drive/MyDrive/Colab Notebooks/temporal_graphs'\n",
    "\n",
    "# Otherwise, we use the environment variable on our local system:\n",
    "project_environment_variable = \"TEMPORAL_GRAPHS\"\n",
    "\n",
    "# Path to the root directory of the project:\n",
    "project_path = Path(os.environ.get(\"TEMPORAL_GRAPHS\"))\n",
    "\n",
    "# Relative path to /scripts (from where custom modules will be imported):\n",
    "scripts_path = project_path.joinpath(\"scripts\")\n",
    "\n",
    "# Add this path to sys.path so that Python will look there for modules:\n",
    "sys.path.append(str(scripts_path))\n",
    "\n",
    "# Now import path_step from our custom utils module to create a dictionary to all subdirectories in our root directory:\n",
    "from utils import path_setup\n",
    "path = path_setup.subfolders(base_path = project_path)"
   ]
  },
  {
   "cell_type": "markdown",
   "id": "afaf7f08-c61e-4cfc-9427-7e0c6d3fbd2c",
   "metadata": {},
   "source": [
    "<a id='data'></a>\n",
    "## Data\n",
    "↑↑ [Contents](#contents) ↑ [Setup](#setup) ↓ [Exploration](#exploration)"
   ]
  },
  {
   "cell_type": "markdown",
   "id": "95d07a09-3940-4f82-8397-648767f1fca6",
   "metadata": {},
   "source": []
  },
  {
   "cell_type": "code",
   "execution_count": 2,
   "id": "0753adc2-c6fb-4329-9d4f-3c84f09491af",
   "metadata": {},
   "outputs": [],
   "source": [
    "import pandas as pd"
   ]
  },
  {
   "cell_type": "code",
   "execution_count": 3,
   "id": "1f675b88-0f8b-4242-b447-61138148d5da",
   "metadata": {},
   "outputs": [
    {
     "name": "stdin",
     "output_type": "stream",
     "text": [
      "Will you download the dataset(s) now? (y/N)\n",
      " y\n"
     ]
    },
    {
     "name": "stdout",
     "output_type": "stream",
     "text": [
      "Download started, this might take a while . . . \n",
      "Dataset title: tgbn-genre\n",
      "Download completed \n",
      "Dataset directory is  C:\\Users\\tmfre\\AppData\\Local\\Programs\\Python\\Python312\\Lib\\site-packages\\tgb/datasets\\tgbn_genre\n",
      "file not processed, generating processed file\n",
      "number of lines counted 17858395\n"
     ]
    },
    {
     "name": "stderr",
     "output_type": "stream",
     "text": [
      "17858396it [01:11, 248461.93it/s]\n",
      "2741936it [00:07, 362521.13it/s]\n"
     ]
    },
    {
     "name": "stdout",
     "output_type": "stream",
     "text": [
      "file processed and saved\n"
     ]
    }
   ],
   "source": [
    "# from tgb.nodeproppred.dataset import NodePropPredDataset\n",
    "\n",
    "# name = \"tgbn-genre\"\n",
    "\n",
    "# dataset = NodePropPredDataset(name=name, root=path['data'], preprocess=True)\n",
    "\n",
    "# data = dataset.full_data"
   ]
  },
  {
   "cell_type": "code",
   "execution_count": 3,
   "id": "6b2aae61-0303-493a-bda8-372420c3690c",
   "metadata": {},
   "outputs": [],
   "source": [
    "tgbn_genre_df = pd.read_csv(path['data'].joinpath('tgbn_genre.csv'))"
   ]
  },
  {
   "cell_type": "code",
   "execution_count": 14,
   "id": "89750ad7-b34c-4eda-918b-bd43edd96d66",
   "metadata": {},
   "outputs": [
    {
     "data": {
      "text/html": [
       "<div>\n",
       "<style scoped>\n",
       "    .dataframe tbody tr th:only-of-type {\n",
       "        vertical-align: middle;\n",
       "    }\n",
       "\n",
       "    .dataframe tbody tr th {\n",
       "        vertical-align: top;\n",
       "    }\n",
       "\n",
       "    .dataframe thead th {\n",
       "        text-align: right;\n",
       "    }\n",
       "</style>\n",
       "<table border=\"1\" class=\"dataframe\">\n",
       "  <thead>\n",
       "    <tr style=\"text-align: right;\">\n",
       "      <th></th>\n",
       "      <th>sources</th>\n",
       "      <th>destinations</th>\n",
       "      <th>timestamps</th>\n",
       "      <th>edge_idxs</th>\n",
       "      <th>edge_feat</th>\n",
       "    </tr>\n",
       "  </thead>\n",
       "  <tbody>\n",
       "    <tr>\n",
       "      <th>0</th>\n",
       "      <td>513.0</td>\n",
       "      <td>0.0</td>\n",
       "      <td>1.108357e+09</td>\n",
       "      <td>1.0</td>\n",
       "      <td>0.375000</td>\n",
       "    </tr>\n",
       "    <tr>\n",
       "      <th>1</th>\n",
       "      <td>513.0</td>\n",
       "      <td>0.0</td>\n",
       "      <td>1.108357e+09</td>\n",
       "      <td>2.0</td>\n",
       "      <td>0.375000</td>\n",
       "    </tr>\n",
       "    <tr>\n",
       "      <th>2</th>\n",
       "      <td>514.0</td>\n",
       "      <td>1.0</td>\n",
       "      <td>1.108357e+09</td>\n",
       "      <td>3.0</td>\n",
       "      <td>0.452489</td>\n",
       "    </tr>\n",
       "    <tr>\n",
       "      <th>3</th>\n",
       "      <td>514.0</td>\n",
       "      <td>2.0</td>\n",
       "      <td>1.108357e+09</td>\n",
       "      <td>4.0</td>\n",
       "      <td>0.289593</td>\n",
       "    </tr>\n",
       "    <tr>\n",
       "      <th>4</th>\n",
       "      <td>514.0</td>\n",
       "      <td>3.0</td>\n",
       "      <td>1.108357e+09</td>\n",
       "      <td>5.0</td>\n",
       "      <td>0.257919</td>\n",
       "    </tr>\n",
       "    <tr>\n",
       "      <th>5</th>\n",
       "      <td>515.0</td>\n",
       "      <td>4.0</td>\n",
       "      <td>1.108357e+09</td>\n",
       "      <td>6.0</td>\n",
       "      <td>0.362319</td>\n",
       "    </tr>\n",
       "    <tr>\n",
       "      <th>6</th>\n",
       "      <td>515.0</td>\n",
       "      <td>5.0</td>\n",
       "      <td>1.108357e+09</td>\n",
       "      <td>7.0</td>\n",
       "      <td>0.322464</td>\n",
       "    </tr>\n",
       "    <tr>\n",
       "      <th>7</th>\n",
       "      <td>515.0</td>\n",
       "      <td>6.0</td>\n",
       "      <td>1.108357e+09</td>\n",
       "      <td>8.0</td>\n",
       "      <td>0.315217</td>\n",
       "    </tr>\n",
       "    <tr>\n",
       "      <th>8</th>\n",
       "      <td>515.0</td>\n",
       "      <td>4.0</td>\n",
       "      <td>1.108357e+09</td>\n",
       "      <td>9.0</td>\n",
       "      <td>0.361011</td>\n",
       "    </tr>\n",
       "    <tr>\n",
       "      <th>9</th>\n",
       "      <td>515.0</td>\n",
       "      <td>5.0</td>\n",
       "      <td>1.108357e+09</td>\n",
       "      <td>10.0</td>\n",
       "      <td>0.321300</td>\n",
       "    </tr>\n",
       "    <tr>\n",
       "      <th>10</th>\n",
       "      <td>515.0</td>\n",
       "      <td>6.0</td>\n",
       "      <td>1.108357e+09</td>\n",
       "      <td>11.0</td>\n",
       "      <td>0.317690</td>\n",
       "    </tr>\n",
       "    <tr>\n",
       "      <th>11</th>\n",
       "      <td>516.0</td>\n",
       "      <td>7.0</td>\n",
       "      <td>1.108357e+09</td>\n",
       "      <td>12.0</td>\n",
       "      <td>0.395257</td>\n",
       "    </tr>\n",
       "    <tr>\n",
       "      <th>12</th>\n",
       "      <td>516.0</td>\n",
       "      <td>4.0</td>\n",
       "      <td>1.108357e+09</td>\n",
       "      <td>13.0</td>\n",
       "      <td>0.351779</td>\n",
       "    </tr>\n",
       "    <tr>\n",
       "      <th>13</th>\n",
       "      <td>516.0</td>\n",
       "      <td>8.0</td>\n",
       "      <td>1.108357e+09</td>\n",
       "      <td>14.0</td>\n",
       "      <td>0.252964</td>\n",
       "    </tr>\n",
       "    <tr>\n",
       "      <th>14</th>\n",
       "      <td>516.0</td>\n",
       "      <td>4.0</td>\n",
       "      <td>1.108358e+09</td>\n",
       "      <td>15.0</td>\n",
       "      <td>0.515464</td>\n",
       "    </tr>\n",
       "    <tr>\n",
       "      <th>15</th>\n",
       "      <td>516.0</td>\n",
       "      <td>7.0</td>\n",
       "      <td>1.108358e+09</td>\n",
       "      <td>16.0</td>\n",
       "      <td>0.484536</td>\n",
       "    </tr>\n",
       "    <tr>\n",
       "      <th>16</th>\n",
       "      <td>516.0</td>\n",
       "      <td>4.0</td>\n",
       "      <td>1.108358e+09</td>\n",
       "      <td>17.0</td>\n",
       "      <td>0.515464</td>\n",
       "    </tr>\n",
       "    <tr>\n",
       "      <th>17</th>\n",
       "      <td>516.0</td>\n",
       "      <td>7.0</td>\n",
       "      <td>1.108358e+09</td>\n",
       "      <td>18.0</td>\n",
       "      <td>0.484536</td>\n",
       "    </tr>\n",
       "    <tr>\n",
       "      <th>18</th>\n",
       "      <td>514.0</td>\n",
       "      <td>2.0</td>\n",
       "      <td>1.108358e+09</td>\n",
       "      <td>19.0</td>\n",
       "      <td>0.355872</td>\n",
       "    </tr>\n",
       "    <tr>\n",
       "      <th>19</th>\n",
       "      <td>514.0</td>\n",
       "      <td>9.0</td>\n",
       "      <td>1.108358e+09</td>\n",
       "      <td>20.0</td>\n",
       "      <td>0.327402</td>\n",
       "    </tr>\n",
       "  </tbody>\n",
       "</table>\n",
       "</div>"
      ],
      "text/plain": [
       "    sources  destinations    timestamps  edge_idxs  edge_feat\n",
       "0     513.0           0.0  1.108357e+09        1.0   0.375000\n",
       "1     513.0           0.0  1.108357e+09        2.0   0.375000\n",
       "2     514.0           1.0  1.108357e+09        3.0   0.452489\n",
       "3     514.0           2.0  1.108357e+09        4.0   0.289593\n",
       "4     514.0           3.0  1.108357e+09        5.0   0.257919\n",
       "5     515.0           4.0  1.108357e+09        6.0   0.362319\n",
       "6     515.0           5.0  1.108357e+09        7.0   0.322464\n",
       "7     515.0           6.0  1.108357e+09        8.0   0.315217\n",
       "8     515.0           4.0  1.108357e+09        9.0   0.361011\n",
       "9     515.0           5.0  1.108357e+09       10.0   0.321300\n",
       "10    515.0           6.0  1.108357e+09       11.0   0.317690\n",
       "11    516.0           7.0  1.108357e+09       12.0   0.395257\n",
       "12    516.0           4.0  1.108357e+09       13.0   0.351779\n",
       "13    516.0           8.0  1.108357e+09       14.0   0.252964\n",
       "14    516.0           4.0  1.108358e+09       15.0   0.515464\n",
       "15    516.0           7.0  1.108358e+09       16.0   0.484536\n",
       "16    516.0           4.0  1.108358e+09       17.0   0.515464\n",
       "17    516.0           7.0  1.108358e+09       18.0   0.484536\n",
       "18    514.0           2.0  1.108358e+09       19.0   0.355872\n",
       "19    514.0           9.0  1.108358e+09       20.0   0.327402"
      ]
     },
     "execution_count": 14,
     "metadata": {},
     "output_type": "execute_result"
    }
   ],
   "source": [
    "tgbn_genre_df.head(20)"
   ]
  },
  {
   "cell_type": "code",
   "execution_count": 4,
   "id": "84cdfc47-4700-401c-9f0d-dff5f2f8f98b",
   "metadata": {},
   "outputs": [
    {
     "name": "stdout",
     "output_type": "stream",
     "text": [
      "<class 'pandas.core.frame.DataFrame'>\n",
      "RangeIndex: 17858395 entries, 0 to 17858394\n",
      "Data columns (total 5 columns):\n",
      " #   Column        Dtype  \n",
      "---  ------        -----  \n",
      " 0   sources       float64\n",
      " 1   destinations  float64\n",
      " 2   timestamps    float64\n",
      " 3   edge_idxs     float64\n",
      " 4   edge_feat     float64\n",
      "dtypes: float64(5)\n",
      "memory usage: 681.2 MB\n"
     ]
    }
   ],
   "source": [
    "tgbn_genre_df.info()"
   ]
  },
  {
   "cell_type": "markdown",
   "id": "fcffd5c0-45ad-41eb-b4c8-8c97f9639106",
   "metadata": {},
   "source": [
    "<a id='exploration'></a>\n",
    "## Exploration\n",
    "↑↑ [Contents](#contents) ↑ [Data](#data) ↓ [...](#...)"
   ]
  },
  {
   "cell_type": "markdown",
   "id": "70a318f4-4c85-4a7c-ab8c-b10198180dad",
   "metadata": {},
   "source": []
  },
  {
   "cell_type": "code",
   "execution_count": 10,
   "id": "c8ef5a8a-491e-4b4b-8895-9ff63d4218a7",
   "metadata": {},
   "outputs": [
    {
     "name": "stdout",
     "output_type": "stream",
     "text": [
      "Number of unique values in sources column: 992\n",
      "Number of unique values in destinations column: 513\n",
      "Number of unique values in timestamps column: 4187046\n",
      "Number of unique values in edge_idxs column: 17858395\n",
      "Number of unique values in edge_feat column: 6107\n"
     ]
    }
   ],
   "source": [
    "for col in tgbn_genre_df.columns:\n",
    "    print(f'Number of unique values in {col} column: {tgbn_genre_df[col].nunique()}')"
   ]
  },
  {
   "cell_type": "code",
   "execution_count": 25,
   "id": "eefe7446-a09f-42c0-9667-45ab3ab87b2b",
   "metadata": {},
   "outputs": [],
   "source": [
    "from datetime import timedelta\n",
    "\n",
    "def seconds_to_timedelta(seconds, base_time):\n",
    "    return timedelta(seconds=seconds) - base_time"
   ]
  },
  {
   "cell_type": "code",
   "execution_count": 26,
   "id": "5e5b6925-e329-42aa-a29c-a01df3e2bc89",
   "metadata": {},
   "outputs": [],
   "source": [
    "base_time = timedelta(seconds=tgbn_genre_df['timestamps'].iloc[0])\n",
    "tgbn_genre_df['timedelta'] = tgbn_genre_df['timestamps'].apply(seconds_to_timedelta, base_time=base_time)"
   ]
  },
  {
   "cell_type": "code",
   "execution_count": 27,
   "id": "3666a8e0-d38e-4e72-a4c9-86b96d07e794",
   "metadata": {},
   "outputs": [
    {
     "data": {
      "text/plain": [
       "0             0 days 00:00:00\n",
       "1             0 days 00:00:00\n",
       "2             0 days 00:01:01\n",
       "3             0 days 00:01:01\n",
       "4             0 days 00:01:01\n",
       "                  ...        \n",
       "17858390   1586 days 20:22:58\n",
       "17858391   1586 days 20:26:57\n",
       "17858392   1586 days 20:26:57\n",
       "17858393   1586 days 20:26:57\n",
       "17858394   1586 days 20:26:57\n",
       "Name: timedelta, Length: 17858395, dtype: timedelta64[ns]"
      ]
     },
     "execution_count": 27,
     "metadata": {},
     "output_type": "execute_result"
    }
   ],
   "source": [
    "tgbn_genre_df['timedelta']"
   ]
  },
  {
   "cell_type": "code",
   "execution_count": 35,
   "id": "8b827dc1-12b7-4611-a1a4-bc1328b59d4c",
   "metadata": {},
   "outputs": [
    {
     "data": {
      "text/plain": [
       "1586.852048611111"
      ]
     },
     "execution_count": 35,
     "metadata": {},
     "output_type": "execute_result"
    }
   ],
   "source": [
    "(tgbn_genre_df['timestamps'].iloc[-1] - tgbn_genre_df['timestamps'].iloc[0])/(60*60*24)"
   ]
  },
  {
   "cell_type": "code",
   "execution_count": 34,
   "id": "adbdc26b-5e05-4918-81b7-fb5faa8c67ab",
   "metadata": {},
   "outputs": [
    {
     "data": {
      "text/plain": [
       "137.104017"
      ]
     },
     "execution_count": 34,
     "metadata": {},
     "output_type": "execute_result"
    }
   ],
   "source": [
    "137104017/10**6"
   ]
  },
  {
   "cell_type": "markdown",
   "id": "aa8453a5-6e0f-4625-bcda-74038af3c656",
   "metadata": {},
   "source": [
    "<a id='references'></a>\n",
    "## References\n",
    "↑↑ [Contents](#contents) ↑ [...](#...)"
   ]
  },
  {
   "cell_type": "markdown",
   "id": "54b8964e-0376-49cd-bb63-90b4273fe6ca",
   "metadata": {},
   "source": [
    "<a id='H:2023'></a>[1] Huang, S., et al. [Temporal graph benchmark for machine learning on temporal graphs.](https://doi.org/10.48550/arXiv.2307.01026) _Advances in Neural Information Processing Systems_, 2023. Preprint: [arXiv:2307.01026](https://doi.org/10.48550/arXiv.2307.01026), 2023.\n",
    "\n",
    "<a id='H_GH:2023'></a>[2] Huang, S., et al. [TGB.](https://github.com/shenyangHuang/TGB) GitHub Repository. [https://github.com/shenyangHuang/TGB](https://github.com/shenyangHuang/TGB), 2023. Accessed May 14, 2024.\n",
    "\n",
    "[3] Huang, S., et al. [Temporal Graph Benchmark.](https://tgb.complexdatalab.com/) [https://tgb.complexdatalab.com/](https://tgb.complexdatalab.com/), 2023. Accessed May 14, 2024.\n",
    "\n",
    "[4] Huang, S., et al. [tgbn-genre dataset.](https://github.com/shenyangHuang/TGB/blob/main/tgb/datasets/dataset_scripts/tgbn-genre.py)\n",
    "[https://github.com/shenyangHuang/TGB/blob/main/tgb/datasets/dataset_scripts/tgbn-genre.py](https://github.com/shenyangHuang/TGB/blob/main/tgb/datasets/dataset_scripts/tgbn-genre.py), 2023. Accessed May 14, 2024."
   ]
  }
 ],
 "metadata": {
  "kernelspec": {
   "display_name": "Python 3 (ipykernel)",
   "language": "python",
   "name": "python3"
  },
  "language_info": {
   "codemirror_mode": {
    "name": "ipython",
    "version": 3
   },
   "file_extension": ".py",
   "mimetype": "text/x-python",
   "name": "python",
   "nbconvert_exporter": "python",
   "pygments_lexer": "ipython3",
   "version": "3.12.3"
  }
 },
 "nbformat": 4,
 "nbformat_minor": 5
}
