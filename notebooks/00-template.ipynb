{
 "cells": [
  {
   "cell_type": "markdown",
   "id": "361a5e68-c790-43ca-ab3d-9608e927e22c",
   "metadata": {},
   "source": [
    "# Title"
   ]
  },
  {
   "cell_type": "markdown",
   "id": "679a6123-81c7-43ca-8d59-cc43185c0905",
   "metadata": {},
   "source": [
    "<a id='contents'></a>\n",
    "## Contents\n",
    "\n",
    "* [Introduction](#introduction)\n",
    "* [Setup](#setup)\n",
    "* [Section 2](#section_2)\n",
    "* [Section_3](#section_3)"
   ]
  },
  {
   "cell_type": "markdown",
   "id": "9196b513-a9a8-4088-b59b-f2739000be5c",
   "metadata": {},
   "source": [
    "<a id='introduction'></a>\n",
    "## Introduction\n",
    "↑↑ [Contents](#contents) ↓ [Setup](#setup)"
   ]
  },
  {
   "cell_type": "markdown",
   "id": "cc45e10b-eb99-4c0f-894f-6e6faf62d5a7",
   "metadata": {},
   "source": [
    "Some text.\n"
   ]
  },
  {
   "cell_type": "markdown",
   "id": "e01930ec-5159-4134-b093-3d674b089388",
   "metadata": {},
   "source": [
    "<a id='setup'></a>\n",
    "## Setup\n",
    "↑↑ [Contents](#contents) ↑ [Introduction](#introduction) ↓ [Section 2](#section_2)"
   ]
  },
  {
   "cell_type": "markdown",
   "id": "0b1c3812-abdd-4191-b7bf-1488e7364dd1",
   "metadata": {},
   "source": [
    "The setup below defines paths in a platform-independent way and should allow us to fairly seamlessly switch between Google Colab, Unix, and Windows. One just has to create an environment variable called ```TEMPORAL_GRAPHS```, or, in the case of Colab, clone everything under ```/content/drive/MyDrive/Colab Notebooks/temporal_graphs```. See ```scripts/prjct_info.py``` and ```scripts/prjct_setup.py``` for details."
   ]
  },
  {
   "cell_type": "code",
   "execution_count": 1,
   "id": "24aa5cee-1d7e-44ef-bf4d-47414f34a0d0",
   "metadata": {},
   "outputs": [
    {
     "name": "stdout",
     "output_type": "stream",
     "text": [
      "\n",
      "===========================\n",
      "PROJECT DIRECTORY STRUCTURE\n",
      "===========================\n",
      "\n",
      "├─ Resources/\n",
      "├─ presentation/\n",
      "├─ notebooks/\n",
      "├─ scripts/\n",
      "│  ├─ tgb/\n",
      "│  │  ├─ linkproppred/\n",
      "│  │  ├─ nodeproppred/\n",
      "│  │  ├─ utils/\n",
      "│  │  ├─ datasets/\n",
      "│  │  │  ├─ dataset_scripts/\n",
      "├─ literature/\n",
      "├─ data/\n",
      "├─ models/\n",
      "\n",
      "\n",
      "==============================\n",
      "FIRST-LEVEL SUBDIRECTORY PATHS\n",
      "==============================\n",
      "\n",
      "path['Resources'] = F:\\projects\\temporal-graphs\\Resources\n",
      "path['presentation'] = F:\\projects\\temporal-graphs\\presentation\n",
      "path['notebooks'] = F:\\projects\\temporal-graphs\\notebooks\n",
      "path['scripts'] = F:\\projects\\temporal-graphs\\scripts\n",
      "path['literature'] = F:\\projects\\temporal-graphs\\literature\n",
      "path['data'] = F:\\projects\\temporal-graphs\\data\n",
      "path['models'] = F:\\projects\\temporal-graphs\\models\n",
      "\n",
      "=========\n",
      "TGB PATHS\n",
      "=========\n",
      "\n",
      "tgb_path['linkproppred'] = F:\\projects\\temporal-graphs\\scripts\\tgb\\linkproppred\n",
      "tgb_path['nodeproppred'] = F:\\projects\\temporal-graphs\\scripts\\tgb\\nodeproppred\n",
      "tgb_path['utils'] = F:\\projects\\temporal-graphs\\scripts\\tgb\\utils\n",
      "tgb_path['datasets'] = F:\\projects\\temporal-graphs\\scripts\\tgb\\datasets\n",
      "tgb_path['dataset_scripts'] = F:\\projects\\temporal-graphs\\scripts\\tgb\\datasets\\dataset_scripts\n"
     ]
    }
   ],
   "source": [
    "from pathlib import Path\n",
    "import os\n",
    "import sys\n",
    "\n",
    "# Determine the project root directory and add it to the Python path\n",
    "notebook_path = Path(os.getcwd()).resolve()  # Path to the current working directory\n",
    "project_root = notebook_path.parent          # Parent directory of notebooks, which is the project root\n",
    "\n",
    "# Add the project root directory to the Python path\n",
    "sys.path.append(str(project_root))\n",
    "\n",
    "# The setup module is project_root/scripts/prjct_setup.py\n",
    "from scripts.prjct_setup import *"
   ]
  },
  {
   "cell_type": "markdown",
   "id": "afaf7f08-c61e-4cfc-9427-7e0c6d3fbd2c",
   "metadata": {},
   "source": [
    "<a id='section_2'></a>\n",
    "## Section 2\n",
    "↑↑ [Contents](#contents) ↑ [Setup](#setup) ↓ [Section 3](#section_3)"
   ]
  },
  {
   "cell_type": "markdown",
   "id": "95d07a09-3940-4f82-8397-648767f1fca6",
   "metadata": {},
   "source": [
    "Some text."
   ]
  },
  {
   "cell_type": "code",
   "execution_count": 2,
   "id": "1f675b88-0f8b-4242-b447-61138148d5da",
   "metadata": {},
   "outputs": [],
   "source": [
    "# Some code"
   ]
  },
  {
   "cell_type": "markdown",
   "id": "fcffd5c0-45ad-41eb-b4c8-8c97f9639106",
   "metadata": {},
   "source": [
    "<a id='section_3'></a>\n",
    "## Section 3\n",
    "↑↑ [Contents](#contents) ↑ [Section 2](#section_2) "
   ]
  },
  {
   "cell_type": "markdown",
   "id": "70a318f4-4c85-4a7c-ab8c-b10198180dad",
   "metadata": {},
   "source": [
    "Some text."
   ]
  },
  {
   "cell_type": "code",
   "execution_count": 3,
   "id": "c8ef5a8a-491e-4b4b-8895-9ff63d4218a7",
   "metadata": {},
   "outputs": [],
   "source": [
    "# Some code"
   ]
  }
 ],
 "metadata": {
  "kernelspec": {
   "display_name": "Python 3 (ipykernel)",
   "language": "python",
   "name": "python3"
  },
  "language_info": {
   "codemirror_mode": {
    "name": "ipython",
    "version": 3
   },
   "file_extension": ".py",
   "mimetype": "text/x-python",
   "name": "python",
   "nbconvert_exporter": "python",
   "pygments_lexer": "ipython3",
   "version": "3.12.3"
  }
 },
 "nbformat": 4,
 "nbformat_minor": 5
}
