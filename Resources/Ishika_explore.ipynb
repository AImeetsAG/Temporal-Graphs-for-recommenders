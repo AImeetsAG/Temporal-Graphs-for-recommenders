{
 "cells": [
  {
   "cell_type": "code",
   "execution_count": 1,
   "metadata": {},
   "outputs": [],
   "source": [
    "import pandas as pd\n",
    "import numpy as np\n",
    "import matplotlib.pyplot as plt\n",
    "from datetime import datetime\n",
    "#import tgb as tgb"
   ]
  },
  {
   "cell_type": "code",
   "execution_count": 7,
   "metadata": {},
   "outputs": [],
   "source": [
    "# from tgb.nodeproppred.dataset import NodePropPredDataset\n",
    "\n",
    "# name = \"tgbn-genre\"\n",
    "\n",
    "# dataset = NodePropPredDataset(name=name, root=\"datasets\", preprocess=True)\n",
    "\n",
    "# data = dataset.full_data"
   ]
  },
  {
   "cell_type": "code",
   "execution_count": 19,
   "metadata": {},
   "outputs": [],
   "source": [
    "# data['edge_feat']= [x for xs in data['edge_feat'] for x in xs]\n",
    "# df= pd.DataFrame.from_dict(data, orient='columns')"
   ]
  },
  {
   "cell_type": "code",
   "execution_count": 65,
   "metadata": {},
   "outputs": [],
   "source": [
    "df= pd.read_csv(\"../../Project/data/tgbn-genre_node_labels.csv\")"
   ]
  },
  {
   "cell_type": "code",
   "execution_count": 42,
   "metadata": {},
   "outputs": [
    {
     "data": {
      "text/html": [
       "<div>\n",
       "<style scoped>\n",
       "    .dataframe tbody tr th:only-of-type {\n",
       "        vertical-align: middle;\n",
       "    }\n",
       "\n",
       "    .dataframe tbody tr th {\n",
       "        vertical-align: top;\n",
       "    }\n",
       "\n",
       "    .dataframe thead th {\n",
       "        text-align: right;\n",
       "    }\n",
       "</style>\n",
       "<table border=\"1\" class=\"dataframe\">\n",
       "  <thead>\n",
       "    <tr style=\"text-align: right;\">\n",
       "      <th></th>\n",
       "      <th>ts</th>\n",
       "      <th>user_id</th>\n",
       "      <th>genre</th>\n",
       "      <th>weight</th>\n",
       "    </tr>\n",
       "  </thead>\n",
       "  <tbody>\n",
       "    <tr>\n",
       "      <th>0</th>\n",
       "      <td>1108443600</td>\n",
       "      <td>user_000054</td>\n",
       "      <td>chillout</td>\n",
       "      <td>0.015835</td>\n",
       "    </tr>\n",
       "    <tr>\n",
       "      <th>1</th>\n",
       "      <td>1108443600</td>\n",
       "      <td>user_000054</td>\n",
       "      <td>female vocalist</td>\n",
       "      <td>0.015330</td>\n",
       "    </tr>\n",
       "    <tr>\n",
       "      <th>2</th>\n",
       "      <td>1108443600</td>\n",
       "      <td>user_000054</td>\n",
       "      <td>downtempo</td>\n",
       "      <td>0.008128</td>\n",
       "    </tr>\n",
       "    <tr>\n",
       "      <th>3</th>\n",
       "      <td>1108443600</td>\n",
       "      <td>user_000054</td>\n",
       "      <td>electronic</td>\n",
       "      <td>0.072162</td>\n",
       "    </tr>\n",
       "    <tr>\n",
       "      <th>4</th>\n",
       "      <td>1108443600</td>\n",
       "      <td>user_000054</td>\n",
       "      <td>reggae</td>\n",
       "      <td>0.021465</td>\n",
       "    </tr>\n",
       "  </tbody>\n",
       "</table>\n",
       "</div>"
      ],
      "text/plain": [
       "           ts      user_id            genre    weight\n",
       "0  1108443600  user_000054         chillout  0.015835\n",
       "1  1108443600  user_000054  female vocalist  0.015330\n",
       "2  1108443600  user_000054        downtempo  0.008128\n",
       "3  1108443600  user_000054       electronic  0.072162\n",
       "4  1108443600  user_000054           reggae  0.021465"
      ]
     },
     "execution_count": 42,
     "metadata": {},
     "output_type": "execute_result"
    }
   ],
   "source": [
    "df.head()"
   ]
  },
  {
   "cell_type": "code",
   "execution_count": 66,
   "metadata": {},
   "outputs": [],
   "source": [
    "#time to Y-M-D, h-m-s format\n",
    "#user_id to ddd number\n",
    "\n",
    "df['ts']= pd.to_datetime(df['ts'], unit= 's') # timestamp to datetime\n",
    "df['ts'] = pd.to_datetime(df['ts'].dt.strftime('%Y-%m-%d')) # dont need time because the timestamp is reset to the beginning of day in order to calculate the frequency vector label\n",
    "df['user_id']=df['user_id'].str.slice(5).astype('Int64') #convert user_id to integers"
   ]
  },
  {
   "cell_type": "code",
   "execution_count": 67,
   "metadata": {},
   "outputs": [
    {
     "data": {
      "text/html": [
       "<div>\n",
       "<style scoped>\n",
       "    .dataframe tbody tr th:only-of-type {\n",
       "        vertical-align: middle;\n",
       "    }\n",
       "\n",
       "    .dataframe tbody tr th {\n",
       "        vertical-align: top;\n",
       "    }\n",
       "\n",
       "    .dataframe thead th {\n",
       "        text-align: right;\n",
       "    }\n",
       "</style>\n",
       "<table border=\"1\" class=\"dataframe\">\n",
       "  <thead>\n",
       "    <tr style=\"text-align: right;\">\n",
       "      <th></th>\n",
       "      <th>ts</th>\n",
       "      <th>user_id</th>\n",
       "      <th>genre</th>\n",
       "      <th>weight</th>\n",
       "    </tr>\n",
       "  </thead>\n",
       "  <tbody>\n",
       "    <tr>\n",
       "      <th>0</th>\n",
       "      <td>2005-02-15</td>\n",
       "      <td>54</td>\n",
       "      <td>chillout</td>\n",
       "      <td>0.015835</td>\n",
       "    </tr>\n",
       "    <tr>\n",
       "      <th>1</th>\n",
       "      <td>2005-02-15</td>\n",
       "      <td>54</td>\n",
       "      <td>female vocalist</td>\n",
       "      <td>0.015330</td>\n",
       "    </tr>\n",
       "    <tr>\n",
       "      <th>2</th>\n",
       "      <td>2005-02-15</td>\n",
       "      <td>54</td>\n",
       "      <td>downtempo</td>\n",
       "      <td>0.008128</td>\n",
       "    </tr>\n",
       "    <tr>\n",
       "      <th>3</th>\n",
       "      <td>2005-02-15</td>\n",
       "      <td>54</td>\n",
       "      <td>electronic</td>\n",
       "      <td>0.072162</td>\n",
       "    </tr>\n",
       "    <tr>\n",
       "      <th>4</th>\n",
       "      <td>2005-02-15</td>\n",
       "      <td>54</td>\n",
       "      <td>reggae</td>\n",
       "      <td>0.021465</td>\n",
       "    </tr>\n",
       "  </tbody>\n",
       "</table>\n",
       "</div>"
      ],
      "text/plain": [
       "          ts  user_id            genre    weight\n",
       "0 2005-02-15       54         chillout  0.015835\n",
       "1 2005-02-15       54  female vocalist  0.015330\n",
       "2 2005-02-15       54        downtempo  0.008128\n",
       "3 2005-02-15       54       electronic  0.072162\n",
       "4 2005-02-15       54           reggae  0.021465"
      ]
     },
     "execution_count": 67,
     "metadata": {},
     "output_type": "execute_result"
    }
   ],
   "source": [
    "df.head()"
   ]
  },
  {
   "cell_type": "code",
   "execution_count": 68,
   "metadata": {},
   "outputs": [],
   "source": [
    "genres = df.genre.unique()\n",
    "index_genres = {ele: pos for pos, ele in enumerate(genres)}"
   ]
  },
  {
   "cell_type": "code",
   "execution_count": 69,
   "metadata": {},
   "outputs": [],
   "source": [
    "#genre to a unique number\n",
    "df['genre_id'] = [index_genres[genre] for genre in df.genre]"
   ]
  },
  {
   "cell_type": "code",
   "execution_count": 70,
   "metadata": {},
   "outputs": [
    {
     "data": {
      "text/html": [
       "<div>\n",
       "<style scoped>\n",
       "    .dataframe tbody tr th:only-of-type {\n",
       "        vertical-align: middle;\n",
       "    }\n",
       "\n",
       "    .dataframe tbody tr th {\n",
       "        vertical-align: top;\n",
       "    }\n",
       "\n",
       "    .dataframe thead th {\n",
       "        text-align: right;\n",
       "    }\n",
       "</style>\n",
       "<table border=\"1\" class=\"dataframe\">\n",
       "  <thead>\n",
       "    <tr style=\"text-align: right;\">\n",
       "      <th></th>\n",
       "      <th>ts</th>\n",
       "      <th>user_id</th>\n",
       "      <th>genre</th>\n",
       "      <th>weight</th>\n",
       "      <th>genre_id</th>\n",
       "    </tr>\n",
       "  </thead>\n",
       "  <tbody>\n",
       "    <tr>\n",
       "      <th>1021196</th>\n",
       "      <td>2007-05-08</td>\n",
       "      <td>703</td>\n",
       "      <td>pop</td>\n",
       "      <td>0.020000</td>\n",
       "      <td>20</td>\n",
       "    </tr>\n",
       "    <tr>\n",
       "      <th>1770089</th>\n",
       "      <td>2008-04-24</td>\n",
       "      <td>591</td>\n",
       "      <td>80s</td>\n",
       "      <td>0.630252</td>\n",
       "      <td>18</td>\n",
       "    </tr>\n",
       "    <tr>\n",
       "      <th>2492519</th>\n",
       "      <td>2009-02-06</td>\n",
       "      <td>791</td>\n",
       "      <td>Mariah Carey</td>\n",
       "      <td>0.002208</td>\n",
       "      <td>425</td>\n",
       "    </tr>\n",
       "    <tr>\n",
       "      <th>1444770</th>\n",
       "      <td>2007-11-30</td>\n",
       "      <td>132</td>\n",
       "      <td>piano</td>\n",
       "      <td>0.229426</td>\n",
       "      <td>63</td>\n",
       "    </tr>\n",
       "    <tr>\n",
       "      <th>2131021</th>\n",
       "      <td>2008-09-23</td>\n",
       "      <td>41</td>\n",
       "      <td>80s</td>\n",
       "      <td>0.048293</td>\n",
       "      <td>18</td>\n",
       "    </tr>\n",
       "    <tr>\n",
       "      <th>699597</th>\n",
       "      <td>2006-12-01</td>\n",
       "      <td>594</td>\n",
       "      <td>melancholic</td>\n",
       "      <td>0.015866</td>\n",
       "      <td>243</td>\n",
       "    </tr>\n",
       "    <tr>\n",
       "      <th>2093150</th>\n",
       "      <td>2008-09-08</td>\n",
       "      <td>691</td>\n",
       "      <td>experimental</td>\n",
       "      <td>0.016953</td>\n",
       "      <td>38</td>\n",
       "    </tr>\n",
       "    <tr>\n",
       "      <th>1879792</th>\n",
       "      <td>2008-06-10</td>\n",
       "      <td>825</td>\n",
       "      <td>alternative rock</td>\n",
       "      <td>0.021720</td>\n",
       "      <td>13</td>\n",
       "    </tr>\n",
       "    <tr>\n",
       "      <th>2400183</th>\n",
       "      <td>2009-01-05</td>\n",
       "      <td>717</td>\n",
       "      <td>metal</td>\n",
       "      <td>0.002770</td>\n",
       "      <td>30</td>\n",
       "    </tr>\n",
       "    <tr>\n",
       "      <th>2038522</th>\n",
       "      <td>2008-08-17</td>\n",
       "      <td>934</td>\n",
       "      <td>singer-songwriter</td>\n",
       "      <td>0.022705</td>\n",
       "      <td>47</td>\n",
       "    </tr>\n",
       "  </tbody>\n",
       "</table>\n",
       "</div>"
      ],
      "text/plain": [
       "                ts  user_id              genre    weight  genre_id\n",
       "1021196 2007-05-08      703                pop  0.020000        20\n",
       "1770089 2008-04-24      591                80s  0.630252        18\n",
       "2492519 2009-02-06      791       Mariah Carey  0.002208       425\n",
       "1444770 2007-11-30      132              piano  0.229426        63\n",
       "2131021 2008-09-23       41                80s  0.048293        18\n",
       "699597  2006-12-01      594        melancholic  0.015866       243\n",
       "2093150 2008-09-08      691       experimental  0.016953        38\n",
       "1879792 2008-06-10      825   alternative rock  0.021720        13\n",
       "2400183 2009-01-05      717              metal  0.002770        30\n",
       "2038522 2008-08-17      934  singer-songwriter  0.022705        47"
      ]
     },
     "execution_count": 70,
     "metadata": {},
     "output_type": "execute_result"
    }
   ],
   "source": [
    "df.sample(10)"
   ]
  },
  {
   "cell_type": "code",
   "execution_count": 71,
   "metadata": {},
   "outputs": [
    {
     "data": {
      "text/plain": [
       "974"
      ]
     },
     "execution_count": 71,
     "metadata": {},
     "output_type": "execute_result"
    }
   ],
   "source": [
    "df.user_id.nunique()"
   ]
  },
  {
   "cell_type": "code",
   "execution_count": 72,
   "metadata": {},
   "outputs": [
    {
     "data": {
      "text/plain": [
       "513"
      ]
     },
     "execution_count": 72,
     "metadata": {},
     "output_type": "execute_result"
    }
   ],
   "source": [
    "df.genre_id.nunique()"
   ]
  },
  {
   "cell_type": "code",
   "execution_count": 73,
   "metadata": {},
   "outputs": [
    {
     "data": {
      "text/plain": [
       "<Axes: >"
      ]
     },
     "execution_count": 73,
     "metadata": {},
     "output_type": "execute_result"
    },
    {
     "data": {
      "image/png": "[encoded data removed]",
      "text/plain": [
       "<Figure size 640x480 with 1 Axes>"
      ]
     },
     "metadata": {},
     "output_type": "display_data"
    }
   ],
   "source": [
    "df['genre_id'].hist()"
   ]
  },
  {
   "cell_type": "code",
   "execution_count": 74,
   "metadata": {},
   "outputs": [
    {
     "data": {
      "text/plain": [
       "<Axes: >"
      ]
     },
     "execution_count": 74,
     "metadata": {},
     "output_type": "execute_result"
    },
    {
     "data": {
      "image/png": "[encoded data removed]",
      "text/plain": [
       "<Figure size 640x480 with 1 Axes>"
      ]
     },
     "metadata": {},
     "output_type": "display_data"
    }
   ],
   "source": [
    "df['weight'].hist()"
   ]
  },
  {
   "cell_type": "code",
   "execution_count": 75,
   "metadata": {},
   "outputs": [],
   "source": [
    "df_user = df[df['user_id'] == 937]"
   ]
  },
  {
   "cell_type": "code",
   "execution_count": 76,
   "metadata": {},
   "outputs": [
    {
     "data": {
      "text/html": [
       "<div>\n",
       "<style scoped>\n",
       "    .dataframe tbody tr th:only-of-type {\n",
       "        vertical-align: middle;\n",
       "    }\n",
       "\n",
       "    .dataframe tbody tr th {\n",
       "        vertical-align: top;\n",
       "    }\n",
       "\n",
       "    .dataframe thead th {\n",
       "        text-align: right;\n",
       "    }\n",
       "</style>\n",
       "<table border=\"1\" class=\"dataframe\">\n",
       "  <thead>\n",
       "    <tr style=\"text-align: right;\">\n",
       "      <th></th>\n",
       "      <th>ts</th>\n",
       "      <th>user_id</th>\n",
       "      <th>genre</th>\n",
       "      <th>weight</th>\n",
       "      <th>genre_id</th>\n",
       "    </tr>\n",
       "  </thead>\n",
       "  <tbody>\n",
       "    <tr>\n",
       "      <th>1125404</th>\n",
       "      <td>2007-07-01</td>\n",
       "      <td>937</td>\n",
       "      <td>80s</td>\n",
       "      <td>0.077179</td>\n",
       "      <td>18</td>\n",
       "    </tr>\n",
       "    <tr>\n",
       "      <th>1125405</th>\n",
       "      <td>2007-07-01</td>\n",
       "      <td>937</td>\n",
       "      <td>pop</td>\n",
       "      <td>0.061662</td>\n",
       "      <td>20</td>\n",
       "    </tr>\n",
       "    <tr>\n",
       "      <th>1125406</th>\n",
       "      <td>2007-07-01</td>\n",
       "      <td>937</td>\n",
       "      <td>House</td>\n",
       "      <td>0.004274</td>\n",
       "      <td>71</td>\n",
       "    </tr>\n",
       "    <tr>\n",
       "      <th>1125407</th>\n",
       "      <td>2007-07-01</td>\n",
       "      <td>937</td>\n",
       "      <td>lounge</td>\n",
       "      <td>0.003804</td>\n",
       "      <td>8</td>\n",
       "    </tr>\n",
       "    <tr>\n",
       "      <th>1125408</th>\n",
       "      <td>2007-07-01</td>\n",
       "      <td>937</td>\n",
       "      <td>deep house</td>\n",
       "      <td>0.002778</td>\n",
       "      <td>245</td>\n",
       "    </tr>\n",
       "    <tr>\n",
       "      <th>...</th>\n",
       "      <td>...</td>\n",
       "      <td>...</td>\n",
       "      <td>...</td>\n",
       "      <td>...</td>\n",
       "      <td>...</td>\n",
       "    </tr>\n",
       "    <tr>\n",
       "      <th>1977161</th>\n",
       "      <td>2008-07-21</td>\n",
       "      <td>937</td>\n",
       "      <td>alternative</td>\n",
       "      <td>0.060619</td>\n",
       "      <td>22</td>\n",
       "    </tr>\n",
       "    <tr>\n",
       "      <th>1977162</th>\n",
       "      <td>2008-07-21</td>\n",
       "      <td>937</td>\n",
       "      <td>beautiful</td>\n",
       "      <td>0.069052</td>\n",
       "      <td>43</td>\n",
       "    </tr>\n",
       "    <tr>\n",
       "      <th>1977163</th>\n",
       "      <td>2008-07-21</td>\n",
       "      <td>937</td>\n",
       "      <td>Coldplay</td>\n",
       "      <td>0.019358</td>\n",
       "      <td>79</td>\n",
       "    </tr>\n",
       "    <tr>\n",
       "      <th>1979381</th>\n",
       "      <td>2008-07-22</td>\n",
       "      <td>937</td>\n",
       "      <td>electronic</td>\n",
       "      <td>0.309160</td>\n",
       "      <td>3</td>\n",
       "    </tr>\n",
       "    <tr>\n",
       "      <th>1979382</th>\n",
       "      <td>2008-07-22</td>\n",
       "      <td>937</td>\n",
       "      <td>singer-songwriter</td>\n",
       "      <td>0.690840</td>\n",
       "      <td>47</td>\n",
       "    </tr>\n",
       "  </tbody>\n",
       "</table>\n",
       "<p>1031 rows × 5 columns</p>\n",
       "</div>"
      ],
      "text/plain": [
       "                ts  user_id              genre    weight  genre_id\n",
       "1125404 2007-07-01      937                80s  0.077179        18\n",
       "1125405 2007-07-01      937                pop  0.061662        20\n",
       "1125406 2007-07-01      937              House  0.004274        71\n",
       "1125407 2007-07-01      937             lounge  0.003804         8\n",
       "1125408 2007-07-01      937         deep house  0.002778       245\n",
       "...            ...      ...                ...       ...       ...\n",
       "1977161 2008-07-21      937        alternative  0.060619        22\n",
       "1977162 2008-07-21      937          beautiful  0.069052        43\n",
       "1977163 2008-07-21      937           Coldplay  0.019358        79\n",
       "1979381 2008-07-22      937         electronic  0.309160         3\n",
       "1979382 2008-07-22      937  singer-songwriter  0.690840        47\n",
       "\n",
       "[1031 rows x 5 columns]"
      ]
     },
     "execution_count": 76,
     "metadata": {},
     "output_type": "execute_result"
    }
   ],
   "source": [
    "df_user"
   ]
  },
  {
   "cell_type": "code",
   "execution_count": 77,
   "metadata": {},
   "outputs": [],
   "source": [
    "times = df_user.ts.unique()"
   ]
  },
  {
   "cell_type": "code",
   "execution_count": 79,
   "metadata": {},
   "outputs": [
    {
     "data": {
      "text/plain": [
       "0.9999999999999976"
      ]
     },
     "execution_count": 79,
     "metadata": {},
     "output_type": "execute_result"
    }
   ],
   "source": [
    "df_user[df_user['ts'] == times[0]].weight.sum()"
   ]
  },
  {
   "cell_type": "code",
   "execution_count": 89,
   "metadata": {
    "scrolled": true
   },
   "outputs": [
    {
     "name": "stdout",
     "output_type": "stream",
     "text": [
      "18\n",
      "20\n",
      "71\n",
      "8\n",
      "245\n",
      "3\n",
      "275\n",
      "6\n",
      "9\n",
      "21\n",
      "33\n",
      "407\n",
      "1\n",
      "144\n",
      "253\n",
      "197\n",
      "22\n",
      "16\n",
      "13\n",
      "160\n",
      "12\n",
      "17\n",
      "35\n",
      "57\n",
      "107\n",
      "83\n",
      "92\n",
      "30\n",
      "339\n",
      "89\n",
      "101\n",
      "232\n",
      "58\n",
      "104\n",
      "145\n",
      "316\n",
      "14\n",
      "121\n",
      "31\n",
      "54\n",
      "329\n",
      "38\n",
      "187\n",
      "154\n",
      "270\n",
      "141\n",
      "260\n",
      "46\n",
      "258\n",
      "120\n",
      "47\n"
     ]
    }
   ],
   "source": [
    "for row in df_user[df_user['ts'] == times[0]].iterrows():\n",
    "    print(row[1].genre_id)"
   ]
  },
  {
   "cell_type": "code",
   "execution_count": 100,
   "metadata": {},
   "outputs": [],
   "source": [
    "matrix_user = np.zeros ((df_user.ts.nunique(),df.genre_id.nunique()))\n",
    "for i,t in enumerate(df_user.ts.unique()):\n",
    "    table =  df_user[df_user['ts'] == t]\n",
    "    for row in table.iterrows():\n",
    "        matrix_user[i,row[1].genre_id] = row[1].weight"
   ]
  },
  {
   "cell_type": "code",
   "execution_count": 99,
   "metadata": {},
   "outputs": [],
   "source": [
    "from sklearn.manifold import TSNE, MDS"
   ]
  },
  {
   "cell_type": "code",
   "execution_count": 103,
   "metadata": {},
   "outputs": [],
   "source": [
    "tsne = TSNE(metric ='l1')"
   ]
  },
  {
   "cell_type": "code",
   "execution_count": 108,
   "metadata": {},
   "outputs": [],
   "source": [
    "embedding = tsne.fit_transform(matrix_user)"
   ]
  },
  {
   "cell_type": "code",
   "execution_count": 113,
   "metadata": {},
   "outputs": [
    {
     "data": {
      "text/plain": [
       "array([-0.5827804 , -0.06531932], dtype=float32)"
      ]
     },
     "execution_count": 113,
     "metadata": {},
     "output_type": "execute_result"
    }
   ],
   "source": [
    "embedding[0]"
   ]
  },
  {
   "cell_type": "code",
   "execution_count": 114,
   "metadata": {},
   "outputs": [
    {
     "data": {
      "text/plain": [
       "<matplotlib.collections.PathCollection at 0x1d5893e76d0>"
      ]
     },
     "execution_count": 114,
     "metadata": {},
     "output_type": "execute_result"
    },
    {
     "data": {
      "image/png": "[encoded data removed]",
      "text/plain": [
       "<Figure size 640x480 with 1 Axes>"
      ]
     },
     "metadata": {},
     "output_type": "display_data"
    }
   ],
   "source": [
    "plt.scatter(embedding[:,0], embedding[:,1])"
   ]
  }
 ],
 "metadata": {
  "kernelspec": {
   "display_name": "Python 3 (ipykernel)",
   "language": "python",
   "name": "python3"
  },
  "language_info": {
   "codemirror_mode": {
    "name": "ipython",
    "version": 3
   },
   "file_extension": ".py",
   "mimetype": "text/x-python",
   "name": "python",
   "nbconvert_exporter": "python",
   "pygments_lexer": "ipython3",
   "version": "3.9.15"
  }
 },
 "nbformat": 4,
 "nbformat_minor": 4
}
