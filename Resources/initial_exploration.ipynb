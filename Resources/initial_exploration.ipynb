{
 "cells": [
  {
   "cell_type": "code",
   "execution_count": 2,
   "metadata": {},
   "outputs": [],
   "source": [
    "import pandas as pd\n",
    "import tgb as tgb"
   ]
  },
  {
   "cell_type": "code",
   "execution_count": 1,
   "metadata": {},
   "outputs": [
    {
     "name": "stdout",
     "output_type": "stream",
     "text": [
      "raw file found, skipping download\n",
      "Dataset directory is  /Users/ishikaghosh/anaconda3/envs/erdos_may_2024/lib/python3.11/site-packages/tgb/datasets/tgbn_genre\n",
      "loading processed file\n"
     ]
    }
   ],
   "source": [
    "from tgb.nodeproppred.dataset import NodePropPredDataset\n",
    "\n",
    "name = \"tgbn-genre\"\n",
    "\n",
    "dataset = NodePropPredDataset(name=name, root=\"datasets\", preprocess=True)\n",
    "\n",
    "data = dataset.full_data"
   ]
  },
  {
   "cell_type": "code",
   "execution_count": 3,
   "metadata": {},
   "outputs": [],
   "source": [
    "data['edge_feat']= [x for xs in data['edge_feat'] for x in xs]\n",
    "df= pd.DataFrame.from_dict(data, orient='columns')"
   ]
  },
  {
   "cell_type": "code",
   "execution_count": 4,
   "metadata": {},
   "outputs": [
    {
     "data": {
      "text/html": [
       "<div>\n",
       "<style scoped>\n",
       "    .dataframe tbody tr th:only-of-type {\n",
       "        vertical-align: middle;\n",
       "    }\n",
       "\n",
       "    .dataframe tbody tr th {\n",
       "        vertical-align: top;\n",
       "    }\n",
       "\n",
       "    .dataframe thead th {\n",
       "        text-align: right;\n",
       "    }\n",
       "</style>\n",
       "<table border=\"1\" class=\"dataframe\">\n",
       "  <thead>\n",
       "    <tr style=\"text-align: right;\">\n",
       "      <th></th>\n",
       "      <th>sources</th>\n",
       "      <th>destinations</th>\n",
       "      <th>timestamps</th>\n",
       "      <th>edge_idxs</th>\n",
       "      <th>edge_feat</th>\n",
       "      <th>edge_label</th>\n",
       "    </tr>\n",
       "  </thead>\n",
       "  <tbody>\n",
       "    <tr>\n",
       "      <th>0</th>\n",
       "      <td>513.0</td>\n",
       "      <td>0.0</td>\n",
       "      <td>1.108357e+09</td>\n",
       "      <td>1.0</td>\n",
       "      <td>0.375000</td>\n",
       "      <td>1.0</td>\n",
       "    </tr>\n",
       "    <tr>\n",
       "      <th>1</th>\n",
       "      <td>513.0</td>\n",
       "      <td>0.0</td>\n",
       "      <td>1.108357e+09</td>\n",
       "      <td>2.0</td>\n",
       "      <td>0.375000</td>\n",
       "      <td>1.0</td>\n",
       "    </tr>\n",
       "    <tr>\n",
       "      <th>2</th>\n",
       "      <td>514.0</td>\n",
       "      <td>1.0</td>\n",
       "      <td>1.108357e+09</td>\n",
       "      <td>3.0</td>\n",
       "      <td>0.452489</td>\n",
       "      <td>1.0</td>\n",
       "    </tr>\n",
       "    <tr>\n",
       "      <th>3</th>\n",
       "      <td>514.0</td>\n",
       "      <td>2.0</td>\n",
       "      <td>1.108357e+09</td>\n",
       "      <td>4.0</td>\n",
       "      <td>0.289593</td>\n",
       "      <td>1.0</td>\n",
       "    </tr>\n",
       "    <tr>\n",
       "      <th>4</th>\n",
       "      <td>514.0</td>\n",
       "      <td>3.0</td>\n",
       "      <td>1.108357e+09</td>\n",
       "      <td>5.0</td>\n",
       "      <td>0.257919</td>\n",
       "      <td>1.0</td>\n",
       "    </tr>\n",
       "  </tbody>\n",
       "</table>\n",
       "</div>"
      ],
      "text/plain": [
       "   sources  destinations    timestamps  edge_idxs  edge_feat  edge_label\n",
       "0    513.0           0.0  1.108357e+09        1.0   0.375000         1.0\n",
       "1    513.0           0.0  1.108357e+09        2.0   0.375000         1.0\n",
       "2    514.0           1.0  1.108357e+09        3.0   0.452489         1.0\n",
       "3    514.0           2.0  1.108357e+09        4.0   0.289593         1.0\n",
       "4    514.0           3.0  1.108357e+09        5.0   0.257919         1.0"
      ]
     },
     "execution_count": 4,
     "metadata": {},
     "output_type": "execute_result"
    }
   ],
   "source": [
    "df.head()"
   ]
  }
 ],
 "metadata": {
  "kernelspec": {
   "display_name": "erdos_may_2024",
   "language": "python",
   "name": "python3"
  },
  "language_info": {
   "codemirror_mode": {
    "name": "ipython",
    "version": 3
   },
   "file_extension": ".py",
   "mimetype": "text/x-python",
   "name": "python",
   "nbconvert_exporter": "python",
   "pygments_lexer": "ipython3",
   "version": "3.11.9"
  }
 },
 "nbformat": 4,
 "nbformat_minor": 2
}
