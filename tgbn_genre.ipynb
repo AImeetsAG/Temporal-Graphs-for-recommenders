{
  "cells": [
    {
      "cell_type": "code",
      "execution_count": 1,
      "metadata": {
        "colab": {
          "base_uri": "https://localhost:8080/"
        },
        "id": "vNhK-iioF9LP",
        "outputId": "6c9f56b1-8118-41d6-b5cd-15730f85ff77"
      },
      "outputs": [
        {
          "name": "stdout",
          "output_type": "stream",
          "text": [
            "Collecting py-tgb\n",
            "  Downloading py_tgb-0.9.2-py3-none-any.whl (61 kB)\n",
            "\u001b[?25l     \u001b[90m━━━━━━━━━━━━━━━━━━━━━━━━━━━━━━━━━━━━━━━━\u001b[0m \u001b[32m0.0/61.8 kB\u001b[0m \u001b[31m?\u001b[0m eta \u001b[36m-:--:--\u001b[0m\r\u001b[2K     \u001b[91m━━━━━━━━━━━━━━━━━━━━━━━━━━━━━━━━━━━━━━━\u001b[0m\u001b[91m╸\u001b[0m \u001b[32m61.4/61.8 kB\u001b[0m \u001b[31m1.8 MB/s\u001b[0m eta \u001b[36m0:00:01\u001b[0m\r\u001b[2K     \u001b[90m━━━━━━━━━━━━━━━━━━━━━━━━━━━━━━━━━━━━━━━━\u001b[0m \u001b[32m61.8/61.8 kB\u001b[0m \u001b[31m977.6 kB/s\u001b[0m eta \u001b[36m0:00:00\u001b[0m\n",
            "\u001b[?25hCollecting clint<0.6.0,>=0.5.1 (from py-tgb)\n",
            "  Downloading clint-0.5.1.tar.gz (29 kB)\n",
            "  Preparing metadata (setup.py) ... \u001b[?25l\u001b[?25hdone\n",
            "Collecting pandas<2.0.0,>=1.5.3 (from py-tgb)\n",
            "  Downloading pandas-1.5.3-cp310-cp310-manylinux_2_17_x86_64.manylinux2014_x86_64.whl (12.1 MB)\n",
            "\u001b[2K     \u001b[90m━━━━━━━━━━━━━━━━━━━━━━━━━━━━━━━━━━━━━━━━\u001b[0m \u001b[32m12.1/12.1 MB\u001b[0m \u001b[31m34.2 MB/s\u001b[0m eta \u001b[36m0:00:00\u001b[0m\n",
            "\u001b[?25hRequirement already satisfied: requests<3.0.0,>=2.28.2 in /usr/local/lib/python3.10/dist-packages (from py-tgb) (2.31.0)\n",
            "Requirement already satisfied: scikit-learn<2.0.0,>=1.2.2 in /usr/local/lib/python3.10/dist-packages (from py-tgb) (1.2.2)\n",
            "Collecting torch-geometric<3.0.0,>=2.3.0 (from py-tgb)\n",
            "  Downloading torch_geometric-2.5.3-py3-none-any.whl (1.1 MB)\n",
            "\u001b[2K     \u001b[90m━━━━━━━━━━━━━━━━━━━━━━━━━━━━━━━━━━━━━━━━\u001b[0m \u001b[32m1.1/1.1 MB\u001b[0m \u001b[31m27.5 MB/s\u001b[0m eta \u001b[36m0:00:00\u001b[0m\n",
            "\u001b[?25hRequirement already satisfied: tqdm<5.0.0,>=4.65.0 in /usr/local/lib/python3.10/dist-packages (from py-tgb) (4.66.4)\n",
            "Collecting args (from clint<0.6.0,>=0.5.1->py-tgb)\n",
            "  Downloading args-0.1.0.tar.gz (3.0 kB)\n",
            "  Preparing metadata (setup.py) ... \u001b[?25l\u001b[?25hdone\n",
            "Requirement already satisfied: python-dateutil>=2.8.1 in /usr/local/lib/python3.10/dist-packages (from pandas<2.0.0,>=1.5.3->py-tgb) (2.8.2)\n",
            "Requirement already satisfied: pytz>=2020.1 in /usr/local/lib/python3.10/dist-packages (from pandas<2.0.0,>=1.5.3->py-tgb) (2023.4)\n",
            "Requirement already satisfied: numpy>=1.21.0 in /usr/local/lib/python3.10/dist-packages (from pandas<2.0.0,>=1.5.3->py-tgb) (1.25.2)\n",
            "Requirement already satisfied: charset-normalizer<4,>=2 in /usr/local/lib/python3.10/dist-packages (from requests<3.0.0,>=2.28.2->py-tgb) (3.3.2)\n",
            "Requirement already satisfied: idna<4,>=2.5 in /usr/local/lib/python3.10/dist-packages (from requests<3.0.0,>=2.28.2->py-tgb) (3.7)\n",
            "Requirement already satisfied: urllib3<3,>=1.21.1 in /usr/local/lib/python3.10/dist-packages (from requests<3.0.0,>=2.28.2->py-tgb) (2.0.7)\n",
            "Requirement already satisfied: certifi>=2017.4.17 in /usr/local/lib/python3.10/dist-packages (from requests<3.0.0,>=2.28.2->py-tgb) (2024.2.2)\n",
            "Requirement already satisfied: scipy>=1.3.2 in /usr/local/lib/python3.10/dist-packages (from scikit-learn<2.0.0,>=1.2.2->py-tgb) (1.11.4)\n",
            "Requirement already satisfied: joblib>=1.1.1 in /usr/local/lib/python3.10/dist-packages (from scikit-learn<2.0.0,>=1.2.2->py-tgb) (1.4.2)\n",
            "Requirement already satisfied: threadpoolctl>=2.0.0 in /usr/local/lib/python3.10/dist-packages (from scikit-learn<2.0.0,>=1.2.2->py-tgb) (3.5.0)\n",
            "Requirement already satisfied: fsspec in /usr/local/lib/python3.10/dist-packages (from torch-geometric<3.0.0,>=2.3.0->py-tgb) (2023.6.0)\n",
            "Requirement already satisfied: jinja2 in /usr/local/lib/python3.10/dist-packages (from torch-geometric<3.0.0,>=2.3.0->py-tgb) (3.1.4)\n",
            "Requirement already satisfied: aiohttp in /usr/local/lib/python3.10/dist-packages (from torch-geometric<3.0.0,>=2.3.0->py-tgb) (3.9.5)\n",
            "Requirement already satisfied: pyparsing in /usr/local/lib/python3.10/dist-packages (from torch-geometric<3.0.0,>=2.3.0->py-tgb) (3.1.2)\n",
            "Requirement already satisfied: psutil>=5.8.0 in /usr/local/lib/python3.10/dist-packages (from torch-geometric<3.0.0,>=2.3.0->py-tgb) (5.9.5)\n",
            "Requirement already satisfied: six>=1.5 in /usr/local/lib/python3.10/dist-packages (from python-dateutil>=2.8.1->pandas<2.0.0,>=1.5.3->py-tgb) (1.16.0)\n",
            "Requirement already satisfied: aiosignal>=1.1.2 in /usr/local/lib/python3.10/dist-packages (from aiohttp->torch-geometric<3.0.0,>=2.3.0->py-tgb) (1.3.1)\n",
            "Requirement already satisfied: attrs>=17.3.0 in /usr/local/lib/python3.10/dist-packages (from aiohttp->torch-geometric<3.0.0,>=2.3.0->py-tgb) (23.2.0)\n",
            "Requirement already satisfied: frozenlist>=1.1.1 in /usr/local/lib/python3.10/dist-packages (from aiohttp->torch-geometric<3.0.0,>=2.3.0->py-tgb) (1.4.1)\n",
            "Requirement already satisfied: multidict<7.0,>=4.5 in /usr/local/lib/python3.10/dist-packages (from aiohttp->torch-geometric<3.0.0,>=2.3.0->py-tgb) (6.0.5)\n",
            "Requirement already satisfied: yarl<2.0,>=1.0 in /usr/local/lib/python3.10/dist-packages (from aiohttp->torch-geometric<3.0.0,>=2.3.0->py-tgb) (1.9.4)\n",
            "Requirement already satisfied: async-timeout<5.0,>=4.0 in /usr/local/lib/python3.10/dist-packages (from aiohttp->torch-geometric<3.0.0,>=2.3.0->py-tgb) (4.0.3)\n",
            "Requirement already satisfied: MarkupSafe>=2.0 in /usr/local/lib/python3.10/dist-packages (from jinja2->torch-geometric<3.0.0,>=2.3.0->py-tgb) (2.1.5)\n",
            "Building wheels for collected packages: clint, args\n",
            "  Building wheel for clint (setup.py) ... \u001b[?25l\u001b[?25hdone\n",
            "  Created wheel for clint: filename=clint-0.5.1-py3-none-any.whl size=34458 sha256=8d39f376a2a9cca2fe81a5df5e70c881c9fe128173251eff738585294d5ea363\n",
            "  Stored in directory: /root/.cache/pip/wheels/60/bd/a0/c20dd085251d95af656b5e3d287db7d4b4e8aec67b53a6f8dd\n",
            "  Building wheel for args (setup.py) ... \u001b[?25l\u001b[?25hdone\n",
            "  Created wheel for args: filename=args-0.1.0-py3-none-any.whl size=3320 sha256=d524f4c11654f3991ade33b6b043772a508136ee6a43f9cea6ec8e63eed49c71\n",
            "  Stored in directory: /root/.cache/pip/wheels/18/d7/bc/7b88d8405d97070a1a62712fd639ea0ad8d14b3dd74075cca6\n",
            "Successfully built clint args\n",
            "Installing collected packages: args, clint, pandas, torch-geometric, py-tgb\n",
            "  Attempting uninstall: pandas\n",
            "    Found existing installation: pandas 2.0.3\n",
            "    Uninstalling pandas-2.0.3:\n",
            "      Successfully uninstalled pandas-2.0.3\n",
            "\u001b[31mERROR: pip's dependency resolver does not currently take into account all the packages that are installed. This behaviour is the source of the following dependency conflicts.\n",
            "cudf-cu12 24.4.1 requires pandas<2.2.2dev0,>=2.0, but you have pandas 1.5.3 which is incompatible.\n",
            "google-colab 1.0.0 requires pandas==2.0.3, but you have pandas 1.5.3 which is incompatible.\u001b[0m\u001b[31m\n",
            "\u001b[0mSuccessfully installed args-0.1.0 clint-0.5.1 pandas-1.5.3 py-tgb-0.9.2 torch-geometric-2.5.3\n"
          ]
        }
      ],
      "source": [
        "!pip install py-tgb"
      ]
    },
    {
      "cell_type": "code",
      "execution_count": 2,
      "metadata": {
        "colab": {
          "base_uri": "https://localhost:8080/"
        },
        "id": "MkJIHHEOGCJZ",
        "outputId": "fe27e108-bce2-4dff-9ba2-616f077ac0f5"
      },
      "outputs": [
        {
          "name": "stdout",
          "output_type": "stream",
          "text": [
            "Will you download the dataset(s) now? (y/N)\n",
            "y\n",
            "\u001b[93mDownload started, this might take a while . . . \u001b[0m\n",
            "Dataset title: tgbn-genre\n",
            "\u001b[92mDownload completed \u001b[0m\n",
            "Dataset directory is  /usr/local/lib/python3.10/dist-packages/tgb/datasets/tgbn_genre\n",
            "file not processed, generating processed file\n",
            "number of lines counted 17858395\n"
          ]
        },
        {
          "name": "stderr",
          "output_type": "stream",
          "text": [
            "17858396it [01:35, 186718.05it/s]\n",
            "2741936it [00:10, 272543.16it/s]\n"
          ]
        },
        {
          "name": "stdout",
          "output_type": "stream",
          "text": [
            "file processed and saved\n"
          ]
        }
      ],
      "source": [
        "from tgb.nodeproppred.dataset import NodePropPredDataset\n",
        "\n",
        "name = \"tgbn-genre\"\n",
        "\n",
        "dataset = NodePropPredDataset(name=name, root=\"datasets\", preprocess=True)\n",
        "\n",
        "data = dataset.full_data"
      ]
    },
    {
      "cell_type": "code",
      "execution_count": 3,
      "metadata": {
        "colab": {
          "base_uri": "https://localhost:8080/"
        },
        "id": "mycswl4GINBi",
        "outputId": "7a9154d5-c193-4074-954e-3236d3a12f7b"
      },
      "outputs": [
        {
          "data": {
            "text/plain": [
              "{'sources': array([ 513.,  513.,  514., ..., 1210., 1210., 1210.]),\n",
              " 'destinations': array([ 0.,  0.,  1., ...,  8., 75.,  8.]),\n",
              " 'timestamps': array([1.10835720e+09, 1.10835720e+09, 1.10835726e+09, ...,\n",
              "        1.24546122e+09, 1.24546122e+09, 1.24546122e+09]),\n",
              " 'edge_idxs': array([1.0000000e+00, 2.0000000e+00, 3.0000000e+00, ..., 1.7858393e+07,\n",
              "        1.7858394e+07, 1.7858395e+07]),\n",
              " 'edge_feat': array([[0.375     ],\n",
              "        [0.375     ],\n",
              "        [0.45248869],\n",
              "        ...,\n",
              "        [0.45054945],\n",
              "        [0.54945055],\n",
              "        [0.45054945]]),\n",
              " 'edge_label': array([1., 1., 1., ..., 1., 1., 1.])}"
            ]
          },
          "execution_count": 3,
          "metadata": {},
          "output_type": "execute_result"
        }
      ],
      "source": [
        "data"
      ]
    },
    {
      "cell_type": "code",
      "execution_count": 4,
      "metadata": {
        "id": "oCmnLtZpI6tT"
      },
      "outputs": [],
      "source": [
        "import pandas as pd\n",
        "data['edge_feat']= [x for xs in data['edge_feat'] for x in xs]\n",
        "df= pd.DataFrame.from_dict(data, orient='columns')"
      ]
    },
    {
      "cell_type": "code",
      "execution_count": 5,
      "metadata": {
        "colab": {
          "base_uri": "https://localhost:8080/",
          "height": 424
        },
        "id": "GutXvVhHKU7R",
        "outputId": "44bcd995-b02b-4da6-d501-356d281f3d36"
      },
      "outputs": [
        {
          "data": {
            "application/vnd.google.colaboratory.intrinsic+json": {
              "type": "dataframe",
              "variable_name": "df"
            },
            "text/html": [
              "\n",
              "  <div id=\"df-59127ef7-7490-4475-8d0b-d4f5497ae9cc\" class=\"colab-df-container\">\n",
              "    <div>\n",
              "<style scoped>\n",
              "    .dataframe tbody tr th:only-of-type {\n",
              "        vertical-align: middle;\n",
              "    }\n",
              "\n",
              "    .dataframe tbody tr th {\n",
              "        vertical-align: top;\n",
              "    }\n",
              "\n",
              "    .dataframe thead th {\n",
              "        text-align: right;\n",
              "    }\n",
              "</style>\n",
              "<table border=\"1\" class=\"dataframe\">\n",
              "  <thead>\n",
              "    <tr style=\"text-align: right;\">\n",
              "      <th></th>\n",
              "      <th>sources</th>\n",
              "      <th>destinations</th>\n",
              "      <th>timestamps</th>\n",
              "      <th>edge_idxs</th>\n",
              "      <th>edge_feat</th>\n",
              "      <th>edge_label</th>\n",
              "    </tr>\n",
              "  </thead>\n",
              "  <tbody>\n",
              "    <tr>\n",
              "      <th>0</th>\n",
              "      <td>513.0</td>\n",
              "      <td>0.0</td>\n",
              "      <td>1.108357e+09</td>\n",
              "      <td>1.0</td>\n",
              "      <td>0.375000</td>\n",
              "      <td>1.0</td>\n",
              "    </tr>\n",
              "    <tr>\n",
              "      <th>1</th>\n",
              "      <td>513.0</td>\n",
              "      <td>0.0</td>\n",
              "      <td>1.108357e+09</td>\n",
              "      <td>2.0</td>\n",
              "      <td>0.375000</td>\n",
              "      <td>1.0</td>\n",
              "    </tr>\n",
              "    <tr>\n",
              "      <th>2</th>\n",
              "      <td>514.0</td>\n",
              "      <td>1.0</td>\n",
              "      <td>1.108357e+09</td>\n",
              "      <td>3.0</td>\n",
              "      <td>0.452489</td>\n",
              "      <td>1.0</td>\n",
              "    </tr>\n",
              "    <tr>\n",
              "      <th>3</th>\n",
              "      <td>514.0</td>\n",
              "      <td>2.0</td>\n",
              "      <td>1.108357e+09</td>\n",
              "      <td>4.0</td>\n",
              "      <td>0.289593</td>\n",
              "      <td>1.0</td>\n",
              "    </tr>\n",
              "    <tr>\n",
              "      <th>4</th>\n",
              "      <td>514.0</td>\n",
              "      <td>3.0</td>\n",
              "      <td>1.108357e+09</td>\n",
              "      <td>5.0</td>\n",
              "      <td>0.257919</td>\n",
              "      <td>1.0</td>\n",
              "    </tr>\n",
              "    <tr>\n",
              "      <th>...</th>\n",
              "      <td>...</td>\n",
              "      <td>...</td>\n",
              "      <td>...</td>\n",
              "      <td>...</td>\n",
              "      <td>...</td>\n",
              "      <td>...</td>\n",
              "    </tr>\n",
              "    <tr>\n",
              "      <th>17858390</th>\n",
              "      <td>1210.0</td>\n",
              "      <td>8.0</td>\n",
              "      <td>1.245461e+09</td>\n",
              "      <td>17858391.0</td>\n",
              "      <td>0.216495</td>\n",
              "      <td>1.0</td>\n",
              "    </tr>\n",
              "    <tr>\n",
              "      <th>17858391</th>\n",
              "      <td>1210.0</td>\n",
              "      <td>75.0</td>\n",
              "      <td>1.245461e+09</td>\n",
              "      <td>17858392.0</td>\n",
              "      <td>0.549451</td>\n",
              "      <td>1.0</td>\n",
              "    </tr>\n",
              "    <tr>\n",
              "      <th>17858392</th>\n",
              "      <td>1210.0</td>\n",
              "      <td>8.0</td>\n",
              "      <td>1.245461e+09</td>\n",
              "      <td>17858393.0</td>\n",
              "      <td>0.450549</td>\n",
              "      <td>1.0</td>\n",
              "    </tr>\n",
              "    <tr>\n",
              "      <th>17858393</th>\n",
              "      <td>1210.0</td>\n",
              "      <td>75.0</td>\n",
              "      <td>1.245461e+09</td>\n",
              "      <td>17858394.0</td>\n",
              "      <td>0.549451</td>\n",
              "      <td>1.0</td>\n",
              "    </tr>\n",
              "    <tr>\n",
              "      <th>17858394</th>\n",
              "      <td>1210.0</td>\n",
              "      <td>8.0</td>\n",
              "      <td>1.245461e+09</td>\n",
              "      <td>17858395.0</td>\n",
              "      <td>0.450549</td>\n",
              "      <td>1.0</td>\n",
              "    </tr>\n",
              "  </tbody>\n",
              "</table>\n",
              "<p>17858395 rows × 6 columns</p>\n",
              "</div>\n",
              "    <div class=\"colab-df-buttons\">\n",
              "\n",
              "  <div class=\"colab-df-container\">\n",
              "    <button class=\"colab-df-convert\" onclick=\"convertToInteractive('df-59127ef7-7490-4475-8d0b-d4f5497ae9cc')\"\n",
              "            title=\"Convert this dataframe to an interactive table.\"\n",
              "            style=\"display:none;\">\n",
              "\n",
              "  <svg xmlns=\"http://www.w3.org/2000/svg\" height=\"24px\" viewBox=\"0 -960 960 960\">\n",
              "    <path d=\"M120-120v-720h720v720H120Zm60-500h600v-160H180v160Zm220 220h160v-160H400v160Zm0 220h160v-160H400v160ZM180-400h160v-160H180v160Zm440 0h160v-160H620v160ZM180-180h160v-160H180v160Zm440 0h160v-160H620v160Z\"/>\n",
              "  </svg>\n",
              "    </button>\n",
              "\n",
              "  <style>\n",
              "    .colab-df-container {\n",
              "      display:flex;\n",
              "      gap: 12px;\n",
              "    }\n",
              "\n",
              "    .colab-df-convert {\n",
              "      background-color: #E8F0FE;\n",
              "      border: none;\n",
              "      border-radius: 50%;\n",
              "      cursor: pointer;\n",
              "      display: none;\n",
              "      fill: #1967D2;\n",
              "      height: 32px;\n",
              "      padding: 0 0 0 0;\n",
              "      width: 32px;\n",
              "    }\n",
              "\n",
              "    .colab-df-convert:hover {\n",
              "      background-color: #E2EBFA;\n",
              "      box-shadow: 0px 1px 2px rgba(60, 64, 67, 0.3), 0px 1px 3px 1px rgba(60, 64, 67, 0.15);\n",
              "      fill: #174EA6;\n",
              "    }\n",
              "\n",
              "    .colab-df-buttons div {\n",
              "      margin-bottom: 4px;\n",
              "    }\n",
              "\n",
              "    [theme=dark] .colab-df-convert {\n",
              "      background-color: #3B4455;\n",
              "      fill: #D2E3FC;\n",
              "    }\n",
              "\n",
              "    [theme=dark] .colab-df-convert:hover {\n",
              "      background-color: #434B5C;\n",
              "      box-shadow: 0px 1px 3px 1px rgba(0, 0, 0, 0.15);\n",
              "      filter: drop-shadow(0px 1px 2px rgba(0, 0, 0, 0.3));\n",
              "      fill: #FFFFFF;\n",
              "    }\n",
              "  </style>\n",
              "\n",
              "    <script>\n",
              "      const buttonEl =\n",
              "        document.querySelector('#df-59127ef7-7490-4475-8d0b-d4f5497ae9cc button.colab-df-convert');\n",
              "      buttonEl.style.display =\n",
              "        google.colab.kernel.accessAllowed ? 'block' : 'none';\n",
              "\n",
              "      async function convertToInteractive(key) {\n",
              "        const element = document.querySelector('#df-59127ef7-7490-4475-8d0b-d4f5497ae9cc');\n",
              "        const dataTable =\n",
              "          await google.colab.kernel.invokeFunction('convertToInteractive',\n",
              "                                                    [key], {});\n",
              "        if (!dataTable) return;\n",
              "\n",
              "        const docLinkHtml = 'Like what you see? Visit the ' +\n",
              "          '<a target=\"_blank\" href=https://colab.research.google.com/notebooks/data_table.ipynb>data table notebook</a>'\n",
              "          + ' to learn more about interactive tables.';\n",
              "        element.innerHTML = '';\n",
              "        dataTable['output_type'] = 'display_data';\n",
              "        await google.colab.output.renderOutput(dataTable, element);\n",
              "        const docLink = document.createElement('div');\n",
              "        docLink.innerHTML = docLinkHtml;\n",
              "        element.appendChild(docLink);\n",
              "      }\n",
              "    </script>\n",
              "  </div>\n",
              "\n",
              "\n",
              "<div id=\"df-9db763f9-39e1-434c-8a57-0b9f4e871b55\">\n",
              "  <button class=\"colab-df-quickchart\" onclick=\"quickchart('df-9db763f9-39e1-434c-8a57-0b9f4e871b55')\"\n",
              "            title=\"Suggest charts\"\n",
              "            style=\"display:none;\">\n",
              "\n",
              "<svg xmlns=\"http://www.w3.org/2000/svg\" height=\"24px\"viewBox=\"0 0 24 24\"\n",
              "     width=\"24px\">\n",
              "    <g>\n",
              "        <path d=\"M19 3H5c-1.1 0-2 .9-2 2v14c0 1.1.9 2 2 2h14c1.1 0 2-.9 2-2V5c0-1.1-.9-2-2-2zM9 17H7v-7h2v7zm4 0h-2V7h2v10zm4 0h-2v-4h2v4z\"/>\n",
              "    </g>\n",
              "</svg>\n",
              "  </button>\n",
              "\n",
              "<style>\n",
              "  .colab-df-quickchart {\n",
              "      --bg-color: #E8F0FE;\n",
              "      --fill-color: #1967D2;\n",
              "      --hover-bg-color: #E2EBFA;\n",
              "      --hover-fill-color: #174EA6;\n",
              "      --disabled-fill-color: #AAA;\n",
              "      --disabled-bg-color: #DDD;\n",
              "  }\n",
              "\n",
              "  [theme=dark] .colab-df-quickchart {\n",
              "      --bg-color: #3B4455;\n",
              "      --fill-color: #D2E3FC;\n",
              "      --hover-bg-color: #434B5C;\n",
              "      --hover-fill-color: #FFFFFF;\n",
              "      --disabled-bg-color: #3B4455;\n",
              "      --disabled-fill-color: #666;\n",
              "  }\n",
              "\n",
              "  .colab-df-quickchart {\n",
              "    background-color: var(--bg-color);\n",
              "    border: none;\n",
              "    border-radius: 50%;\n",
              "    cursor: pointer;\n",
              "    display: none;\n",
              "    fill: var(--fill-color);\n",
              "    height: 32px;\n",
              "    padding: 0;\n",
              "    width: 32px;\n",
              "  }\n",
              "\n",
              "  .colab-df-quickchart:hover {\n",
              "    background-color: var(--hover-bg-color);\n",
              "    box-shadow: 0 1px 2px rgba(60, 64, 67, 0.3), 0 1px 3px 1px rgba(60, 64, 67, 0.15);\n",
              "    fill: var(--button-hover-fill-color);\n",
              "  }\n",
              "\n",
              "  .colab-df-quickchart-complete:disabled,\n",
              "  .colab-df-quickchart-complete:disabled:hover {\n",
              "    background-color: var(--disabled-bg-color);\n",
              "    fill: var(--disabled-fill-color);\n",
              "    box-shadow: none;\n",
              "  }\n",
              "\n",
              "  .colab-df-spinner {\n",
              "    border: 2px solid var(--fill-color);\n",
              "    border-color: transparent;\n",
              "    border-bottom-color: var(--fill-color);\n",
              "    animation:\n",
              "      spin 1s steps(1) infinite;\n",
              "  }\n",
              "\n",
              "  @keyframes spin {\n",
              "    0% {\n",
              "      border-color: transparent;\n",
              "      border-bottom-color: var(--fill-color);\n",
              "      border-left-color: var(--fill-color);\n",
              "    }\n",
              "    20% {\n",
              "      border-color: transparent;\n",
              "      border-left-color: var(--fill-color);\n",
              "      border-top-color: var(--fill-color);\n",
              "    }\n",
              "    30% {\n",
              "      border-color: transparent;\n",
              "      border-left-color: var(--fill-color);\n",
              "      border-top-color: var(--fill-color);\n",
              "      border-right-color: var(--fill-color);\n",
              "    }\n",
              "    40% {\n",
              "      border-color: transparent;\n",
              "      border-right-color: var(--fill-color);\n",
              "      border-top-color: var(--fill-color);\n",
              "    }\n",
              "    60% {\n",
              "      border-color: transparent;\n",
              "      border-right-color: var(--fill-color);\n",
              "    }\n",
              "    80% {\n",
              "      border-color: transparent;\n",
              "      border-right-color: var(--fill-color);\n",
              "      border-bottom-color: var(--fill-color);\n",
              "    }\n",
              "    90% {\n",
              "      border-color: transparent;\n",
              "      border-bottom-color: var(--fill-color);\n",
              "    }\n",
              "  }\n",
              "</style>\n",
              "\n",
              "  <script>\n",
              "    async function quickchart(key) {\n",
              "      const quickchartButtonEl =\n",
              "        document.querySelector('#' + key + ' button');\n",
              "      quickchartButtonEl.disabled = true;  // To prevent multiple clicks.\n",
              "      quickchartButtonEl.classList.add('colab-df-spinner');\n",
              "      try {\n",
              "        const charts = await google.colab.kernel.invokeFunction(\n",
              "            'suggestCharts', [key], {});\n",
              "      } catch (error) {\n",
              "        console.error('Error during call to suggestCharts:', error);\n",
              "      }\n",
              "      quickchartButtonEl.classList.remove('colab-df-spinner');\n",
              "      quickchartButtonEl.classList.add('colab-df-quickchart-complete');\n",
              "    }\n",
              "    (() => {\n",
              "      let quickchartButtonEl =\n",
              "        document.querySelector('#df-9db763f9-39e1-434c-8a57-0b9f4e871b55 button');\n",
              "      quickchartButtonEl.style.display =\n",
              "        google.colab.kernel.accessAllowed ? 'block' : 'none';\n",
              "    })();\n",
              "  </script>\n",
              "</div>\n",
              "\n",
              "  <div id=\"id_bc385021-d0e1-4bbc-af96-ea225a69d3e0\">\n",
              "    <style>\n",
              "      .colab-df-generate {\n",
              "        background-color: #E8F0FE;\n",
              "        border: none;\n",
              "        border-radius: 50%;\n",
              "        cursor: pointer;\n",
              "        display: none;\n",
              "        fill: #1967D2;\n",
              "        height: 32px;\n",
              "        padding: 0 0 0 0;\n",
              "        width: 32px;\n",
              "      }\n",
              "\n",
              "      .colab-df-generate:hover {\n",
              "        background-color: #E2EBFA;\n",
              "        box-shadow: 0px 1px 2px rgba(60, 64, 67, 0.3), 0px 1px 3px 1px rgba(60, 64, 67, 0.15);\n",
              "        fill: #174EA6;\n",
              "      }\n",
              "\n",
              "      [theme=dark] .colab-df-generate {\n",
              "        background-color: #3B4455;\n",
              "        fill: #D2E3FC;\n",
              "      }\n",
              "\n",
              "      [theme=dark] .colab-df-generate:hover {\n",
              "        background-color: #434B5C;\n",
              "        box-shadow: 0px 1px 3px 1px rgba(0, 0, 0, 0.15);\n",
              "        filter: drop-shadow(0px 1px 2px rgba(0, 0, 0, 0.3));\n",
              "        fill: #FFFFFF;\n",
              "      }\n",
              "    </style>\n",
              "    <button class=\"colab-df-generate\" onclick=\"generateWithVariable('df')\"\n",
              "            title=\"Generate code using this dataframe.\"\n",
              "            style=\"display:none;\">\n",
              "\n",
              "  <svg xmlns=\"http://www.w3.org/2000/svg\" height=\"24px\"viewBox=\"0 0 24 24\"\n",
              "       width=\"24px\">\n",
              "    <path d=\"M7,19H8.4L18.45,9,17,7.55,7,17.6ZM5,21V16.75L18.45,3.32a2,2,0,0,1,2.83,0l1.4,1.43a1.91,1.91,0,0,1,.58,1.4,1.91,1.91,0,0,1-.58,1.4L9.25,21ZM18.45,9,17,7.55Zm-12,3A5.31,5.31,0,0,0,4.9,8.1,5.31,5.31,0,0,0,1,6.5,5.31,5.31,0,0,0,4.9,4.9,5.31,5.31,0,0,0,6.5,1,5.31,5.31,0,0,0,8.1,4.9,5.31,5.31,0,0,0,12,6.5,5.46,5.46,0,0,0,6.5,12Z\"/>\n",
              "  </svg>\n",
              "    </button>\n",
              "    <script>\n",
              "      (() => {\n",
              "      const buttonEl =\n",
              "        document.querySelector('#id_bc385021-d0e1-4bbc-af96-ea225a69d3e0 button.colab-df-generate');\n",
              "      buttonEl.style.display =\n",
              "        google.colab.kernel.accessAllowed ? 'block' : 'none';\n",
              "\n",
              "      buttonEl.onclick = () => {\n",
              "        google.colab.notebook.generateWithVariable('df');\n",
              "      }\n",
              "      })();\n",
              "    </script>\n",
              "  </div>\n",
              "\n",
              "    </div>\n",
              "  </div>\n"
            ],
            "text/plain": [
              "          sources  destinations    timestamps   edge_idxs  edge_feat  \\\n",
              "0           513.0           0.0  1.108357e+09         1.0   0.375000   \n",
              "1           513.0           0.0  1.108357e+09         2.0   0.375000   \n",
              "2           514.0           1.0  1.108357e+09         3.0   0.452489   \n",
              "3           514.0           2.0  1.108357e+09         4.0   0.289593   \n",
              "4           514.0           3.0  1.108357e+09         5.0   0.257919   \n",
              "...           ...           ...           ...         ...        ...   \n",
              "17858390   1210.0           8.0  1.245461e+09  17858391.0   0.216495   \n",
              "17858391   1210.0          75.0  1.245461e+09  17858392.0   0.549451   \n",
              "17858392   1210.0           8.0  1.245461e+09  17858393.0   0.450549   \n",
              "17858393   1210.0          75.0  1.245461e+09  17858394.0   0.549451   \n",
              "17858394   1210.0           8.0  1.245461e+09  17858395.0   0.450549   \n",
              "\n",
              "          edge_label  \n",
              "0                1.0  \n",
              "1                1.0  \n",
              "2                1.0  \n",
              "3                1.0  \n",
              "4                1.0  \n",
              "...              ...  \n",
              "17858390         1.0  \n",
              "17858391         1.0  \n",
              "17858392         1.0  \n",
              "17858393         1.0  \n",
              "17858394         1.0  \n",
              "\n",
              "[17858395 rows x 6 columns]"
            ]
          },
          "execution_count": 5,
          "metadata": {},
          "output_type": "execute_result"
        }
      ],
      "source": [
        "df"
      ]
    },
    {
      "cell_type": "code",
      "execution_count": 6,
      "metadata": {
        "colab": {
          "base_uri": "https://localhost:8080/"
        },
        "id": "XRfOEbn8O9kL",
        "outputId": "835144bb-a8ad-441c-d7f2-6920a314b22e"
      },
      "outputs": [
        {
          "data": {
            "text/plain": [
              "array([1.])"
            ]
          },
          "execution_count": 6,
          "metadata": {},
          "output_type": "execute_result"
        }
      ],
      "source": [
        "df['edge_label'].unique()"
      ]
    },
    {
      "cell_type": "code",
      "execution_count": 7,
      "metadata": {
        "colab": {
          "base_uri": "https://localhost:8080/"
        },
        "id": "Jb4VfZs4Kb9G",
        "outputId": "8b772816-25b4-465a-ccae-3bfb6903ef37"
      },
      "outputs": [
        {
          "data": {
            "text/plain": [
              "count    1.785840e+07\n",
              "mean     1.191771e+09\n",
              "std      3.347773e+07\n",
              "min      1.108357e+09\n",
              "25%      1.165822e+09\n",
              "50%      1.194748e+09\n",
              "75%      1.221441e+09\n",
              "max      1.245461e+09\n",
              "Name: timestamps, dtype: float64"
            ]
          },
          "execution_count": 7,
          "metadata": {},
          "output_type": "execute_result"
        }
      ],
      "source": [
        "df['timestamps'].describe()"
      ]
    },
    {
      "cell_type": "code",
      "execution_count": 8,
      "metadata": {
        "colab": {
          "base_uri": "https://localhost:8080/"
        },
        "id": "ADJS4CX4MuD7",
        "outputId": "997d2254-2422-47e7-b78e-e869c170226a"
      },
      "outputs": [
        {
          "data": {
            "text/plain": [
              "array([  0.,   1.,   2.,   3.,   4.,   5.,   6.,   7.,   8.,   9.,  10.,\n",
              "        11.,  12.,  13.,  14.,  15.,  16.,  17.,  18.,  19.,  20.,  21.,\n",
              "        22.,  23.,  24.,  25.,  26.,  27.,  28.,  29.,  30.,  31.,  32.,\n",
              "        33.,  34.,  35.,  36.,  37.,  38.,  39.,  40.,  41.,  42.,  43.,\n",
              "        44.,  45.,  46.,  47.,  48.,  49.,  50.,  51.,  52.,  53.,  54.,\n",
              "        55.,  56.,  57.,  58.,  59.,  60.,  61.,  62.,  63.,  64.,  65.,\n",
              "        66.,  67.,  68.,  69.,  70.,  71.,  72.,  73.,  74.,  75.,  76.,\n",
              "        77.,  78.,  79.,  80.,  81.,  82.,  83.,  84.,  85.,  86.,  87.,\n",
              "        88.,  89.,  90.,  91.,  92.,  93.,  94.,  95.,  96.,  97.,  98.,\n",
              "        99., 100., 101., 102., 103., 104., 105., 106., 107., 108., 109.,\n",
              "       110., 111., 112., 113., 114., 115., 116., 117., 118., 119., 120.,\n",
              "       121., 122., 123., 124., 125., 126., 127., 128., 129., 130., 131.,\n",
              "       132., 133., 134., 135., 136., 137., 138., 139., 140., 141., 142.,\n",
              "       143., 144., 145., 146., 147., 148., 149., 150., 151., 152., 153.,\n",
              "       154., 155., 156., 157., 158., 159., 160., 161., 162., 163., 164.,\n",
              "       165., 166., 167., 168., 169., 170., 171., 172., 173., 174., 175.,\n",
              "       176., 177., 178., 179., 180., 181., 182., 183., 184., 185., 186.,\n",
              "       187., 188., 189., 190., 191., 192., 193., 194., 195., 196., 197.,\n",
              "       198., 199., 200., 201., 202., 203., 204., 205., 206., 207., 208.,\n",
              "       209., 210., 211., 212., 213., 214., 215., 216., 217., 218., 219.,\n",
              "       220., 221., 222., 223., 224., 225., 226., 227., 228., 229., 230.,\n",
              "       231., 232., 233., 234., 235., 236., 237., 238., 239., 240., 241.,\n",
              "       242., 243., 244., 245., 246., 247., 248., 249., 250., 251., 252.,\n",
              "       253., 254., 255., 256., 257., 258., 259., 260., 261., 262., 263.,\n",
              "       264., 265., 266., 267., 268., 269., 270., 271., 272., 273., 274.,\n",
              "       275., 276., 277., 278., 279., 280., 281., 282., 283., 284., 285.,\n",
              "       286., 287., 288., 289., 290., 291., 292., 293., 294., 295., 296.,\n",
              "       297., 298., 299., 300., 301., 302., 303., 304., 305., 306., 307.,\n",
              "       308., 309., 310., 311., 312., 313., 314., 315., 316., 317., 318.,\n",
              "       319., 320., 321., 322., 323., 324., 325., 326., 327., 328., 329.,\n",
              "       330., 331., 332., 333., 334., 335., 336., 337., 338., 339., 340.,\n",
              "       341., 342., 343., 344., 345., 346., 347., 348., 349., 350., 351.,\n",
              "       352., 353., 354., 355., 356., 357., 358., 359., 360., 361., 362.,\n",
              "       363., 364., 365., 366., 367., 368., 369., 370., 371., 372., 373.,\n",
              "       374., 375., 376., 377., 378., 379., 380., 381., 382., 383., 384.,\n",
              "       385., 386., 387., 388., 389., 390., 391., 392., 393., 394., 395.,\n",
              "       396., 397., 398., 399., 400., 401., 402., 403., 404., 405., 406.,\n",
              "       407., 408., 409., 410., 411., 412., 413., 414., 415., 416., 417.,\n",
              "       418., 419., 420., 421., 422., 423., 424., 425., 426., 427., 428.,\n",
              "       429., 430., 431., 432., 433., 434., 435., 436., 437., 438., 439.,\n",
              "       440., 441., 442., 443., 444., 445., 446., 447., 448., 449., 450.,\n",
              "       451., 452., 453., 454., 455., 456., 457., 458., 459., 460., 461.,\n",
              "       462., 463., 464., 465., 466., 467., 468., 469., 470., 471., 472.,\n",
              "       473., 474., 475., 476., 477., 478., 479., 480., 481., 482., 483.,\n",
              "       484., 485., 486., 487., 488., 489., 490., 491., 492., 493., 494.,\n",
              "       495., 496., 497., 498., 499., 500., 501., 502., 503., 504., 505.,\n",
              "       506., 507., 508., 509., 510., 511., 512.])"
            ]
          },
          "execution_count": 8,
          "metadata": {},
          "output_type": "execute_result"
        }
      ],
      "source": [
        "df['destinations'].unique()"
      ]
    },
    {
      "cell_type": "code",
      "execution_count": 9,
      "metadata": {
        "colab": {
          "base_uri": "https://localhost:8080/"
        },
        "id": "mvX6Zkn7SXKR",
        "outputId": "101a5e20-96a7-4a21-a09c-1530e8c0a3b1"
      },
      "outputs": [
        {
          "data": {
            "text/plain": [
              "992"
            ]
          },
          "execution_count": 9,
          "metadata": {},
          "output_type": "execute_result"
        }
      ],
      "source": [
        "df['sources'].unique().size"
      ]
    },
    {
      "cell_type": "code",
      "execution_count": 10,
      "metadata": {
        "colab": {
          "base_uri": "https://localhost:8080/",
          "height": 173
        },
        "id": "SH8V-SjTN8QL",
        "outputId": "91a464e4-5ce3-439c-80dd-17f3b7ad8a38"
      },
      "outputs": [
        {
          "data": {
            "text/plain": [
              "count   1,785,839,500.00%\n",
              "mean               44.05%\n",
              "std                23.52%\n",
              "min                10.34%\n",
              "25%                27.27%\n",
              "50%                37.74%\n",
              "75%                52.63%\n",
              "max               100.00%\n",
              "Name: edge_feat, dtype: float64"
            ]
          },
          "metadata": {},
          "output_type": "display_data"
        }
      ],
      "source": [
        "with pd.option_context('display.float_format', lambda x: f'{x:,.2%}'):\n",
        "    display(df['edge_feat'].describe())"
      ]
    },
    {
      "cell_type": "code",
      "execution_count": 11,
      "metadata": {
        "colab": {
          "base_uri": "https://localhost:8080/"
        },
        "id": "LVuYE4X_O5Or",
        "outputId": "d47a5a58-df94-46ba-861a-0b7f99cdada7"
      },
      "outputs": [
        {
          "data": {
            "text/plain": [
              "26.447534143518517"
            ]
          },
          "execution_count": 11,
          "metadata": {},
          "output_type": "execute_result"
        }
      ],
      "source": [
        "(df['timestamps'].max()-df['timestamps'].min())/(60*60*60*24)"
      ]
    },
    {
      "cell_type": "code",
      "execution_count": 11,
      "metadata": {
        "id": "vKgY8CzQVm7p"
      },
      "outputs": [],
      "source": []
    }
  ],
  "metadata": {
    "colab": {
      "provenance": []
    },
    "kernelspec": {
      "display_name": "Python 3",
      "name": "python3"
    },
    "language_info": {
      "name": "python"
    }
  },
  "nbformat": 4,
  "nbformat_minor": 0
}
